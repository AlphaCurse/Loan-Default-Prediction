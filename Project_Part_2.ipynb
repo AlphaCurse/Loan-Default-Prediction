{
  "nbformat": 4,
  "nbformat_minor": 0,
  "metadata": {
    "colab": {
      "name": "Project - Part 2.ipynb",
      "provenance": [],
      "collapsed_sections": []
    },
    "kernelspec": {
      "name": "python3",
      "display_name": "Python 3"
    },
    "language_info": {
      "name": "python"
    }
  },
  "cells": [
    {
      "cell_type": "code",
      "source": [
        "import pandas as pd\n",
        "import numpy as np\n",
        "import matplotlib.pyplot as plt\n",
        "import seaborn as sns"
      ],
      "metadata": {
        "id": "0JFfMiOFb2tr"
      },
      "execution_count": 74,
      "outputs": []
    },
    {
      "cell_type": "code",
      "execution_count": 75,
      "metadata": {
        "colab": {
          "base_uri": "https://localhost:8080/",
          "height": 357
        },
        "id": "7T_FHY2Qb1pU",
        "outputId": "e7312ec0-ede8-40e9-9eec-b31c1a5d6cbb"
      },
      "outputs": [
        {
          "output_type": "execute_result",
          "data": {
            "text/plain": [
              "         id grade  annual_inc  short_emp  emp_length_num home_ownership  \\\n",
              "0  11454641     A    100000.0          1               1           RENT   \n",
              "1   9604874     A     83000.0          0               4            OWN   \n",
              "2   9684700     D     78000.0          0              11       MORTGAGE   \n",
              "3   9695736     D     37536.0          0               6       MORTGAGE   \n",
              "4   9795013     D     65000.0          0              11       MORTGAGE   \n",
              "\n",
              "     dti             purpose        term  last_delinq_none  \\\n",
              "0  26.27         credit_card   36 months                 1   \n",
              "1   5.39         credit_card   36 months                 0   \n",
              "2  18.45  debt_consolidation   60 months                 1   \n",
              "3  12.28             medical   60 months                 0   \n",
              "4  11.26  debt_consolidation   36 months                 0   \n",
              "\n",
              "   last_major_derog_none  revol_util  total_rec_late_fee  od_ratio  bad_loan  \n",
              "0                    NaN        43.2                 0.0  0.160624         0  \n",
              "1                    NaN        21.5                 0.0  0.810777         0  \n",
              "2                    NaN        46.3                 0.0  0.035147         1  \n",
              "3                    NaN        10.7                 0.0  0.534887         1  \n",
              "4                    NaN        15.2                 0.0  0.166500         0  "
            ],
            "text/html": [
              "\n",
              "  <div id=\"df-5fa82950-3753-4147-9524-4534721194f3\">\n",
              "    <div class=\"colab-df-container\">\n",
              "      <div>\n",
              "<style scoped>\n",
              "    .dataframe tbody tr th:only-of-type {\n",
              "        vertical-align: middle;\n",
              "    }\n",
              "\n",
              "    .dataframe tbody tr th {\n",
              "        vertical-align: top;\n",
              "    }\n",
              "\n",
              "    .dataframe thead th {\n",
              "        text-align: right;\n",
              "    }\n",
              "</style>\n",
              "<table border=\"1\" class=\"dataframe\">\n",
              "  <thead>\n",
              "    <tr style=\"text-align: right;\">\n",
              "      <th></th>\n",
              "      <th>id</th>\n",
              "      <th>grade</th>\n",
              "      <th>annual_inc</th>\n",
              "      <th>short_emp</th>\n",
              "      <th>emp_length_num</th>\n",
              "      <th>home_ownership</th>\n",
              "      <th>dti</th>\n",
              "      <th>purpose</th>\n",
              "      <th>term</th>\n",
              "      <th>last_delinq_none</th>\n",
              "      <th>last_major_derog_none</th>\n",
              "      <th>revol_util</th>\n",
              "      <th>total_rec_late_fee</th>\n",
              "      <th>od_ratio</th>\n",
              "      <th>bad_loan</th>\n",
              "    </tr>\n",
              "  </thead>\n",
              "  <tbody>\n",
              "    <tr>\n",
              "      <th>0</th>\n",
              "      <td>11454641</td>\n",
              "      <td>A</td>\n",
              "      <td>100000.0</td>\n",
              "      <td>1</td>\n",
              "      <td>1</td>\n",
              "      <td>RENT</td>\n",
              "      <td>26.27</td>\n",
              "      <td>credit_card</td>\n",
              "      <td>36 months</td>\n",
              "      <td>1</td>\n",
              "      <td>NaN</td>\n",
              "      <td>43.2</td>\n",
              "      <td>0.0</td>\n",
              "      <td>0.160624</td>\n",
              "      <td>0</td>\n",
              "    </tr>\n",
              "    <tr>\n",
              "      <th>1</th>\n",
              "      <td>9604874</td>\n",
              "      <td>A</td>\n",
              "      <td>83000.0</td>\n",
              "      <td>0</td>\n",
              "      <td>4</td>\n",
              "      <td>OWN</td>\n",
              "      <td>5.39</td>\n",
              "      <td>credit_card</td>\n",
              "      <td>36 months</td>\n",
              "      <td>0</td>\n",
              "      <td>NaN</td>\n",
              "      <td>21.5</td>\n",
              "      <td>0.0</td>\n",
              "      <td>0.810777</td>\n",
              "      <td>0</td>\n",
              "    </tr>\n",
              "    <tr>\n",
              "      <th>2</th>\n",
              "      <td>9684700</td>\n",
              "      <td>D</td>\n",
              "      <td>78000.0</td>\n",
              "      <td>0</td>\n",
              "      <td>11</td>\n",
              "      <td>MORTGAGE</td>\n",
              "      <td>18.45</td>\n",
              "      <td>debt_consolidation</td>\n",
              "      <td>60 months</td>\n",
              "      <td>1</td>\n",
              "      <td>NaN</td>\n",
              "      <td>46.3</td>\n",
              "      <td>0.0</td>\n",
              "      <td>0.035147</td>\n",
              "      <td>1</td>\n",
              "    </tr>\n",
              "    <tr>\n",
              "      <th>3</th>\n",
              "      <td>9695736</td>\n",
              "      <td>D</td>\n",
              "      <td>37536.0</td>\n",
              "      <td>0</td>\n",
              "      <td>6</td>\n",
              "      <td>MORTGAGE</td>\n",
              "      <td>12.28</td>\n",
              "      <td>medical</td>\n",
              "      <td>60 months</td>\n",
              "      <td>0</td>\n",
              "      <td>NaN</td>\n",
              "      <td>10.7</td>\n",
              "      <td>0.0</td>\n",
              "      <td>0.534887</td>\n",
              "      <td>1</td>\n",
              "    </tr>\n",
              "    <tr>\n",
              "      <th>4</th>\n",
              "      <td>9795013</td>\n",
              "      <td>D</td>\n",
              "      <td>65000.0</td>\n",
              "      <td>0</td>\n",
              "      <td>11</td>\n",
              "      <td>MORTGAGE</td>\n",
              "      <td>11.26</td>\n",
              "      <td>debt_consolidation</td>\n",
              "      <td>36 months</td>\n",
              "      <td>0</td>\n",
              "      <td>NaN</td>\n",
              "      <td>15.2</td>\n",
              "      <td>0.0</td>\n",
              "      <td>0.166500</td>\n",
              "      <td>0</td>\n",
              "    </tr>\n",
              "  </tbody>\n",
              "</table>\n",
              "</div>\n",
              "      <button class=\"colab-df-convert\" onclick=\"convertToInteractive('df-5fa82950-3753-4147-9524-4534721194f3')\"\n",
              "              title=\"Convert this dataframe to an interactive table.\"\n",
              "              style=\"display:none;\">\n",
              "        \n",
              "  <svg xmlns=\"http://www.w3.org/2000/svg\" height=\"24px\"viewBox=\"0 0 24 24\"\n",
              "       width=\"24px\">\n",
              "    <path d=\"M0 0h24v24H0V0z\" fill=\"none\"/>\n",
              "    <path d=\"M18.56 5.44l.94 2.06.94-2.06 2.06-.94-2.06-.94-.94-2.06-.94 2.06-2.06.94zm-11 1L8.5 8.5l.94-2.06 2.06-.94-2.06-.94L8.5 2.5l-.94 2.06-2.06.94zm10 10l.94 2.06.94-2.06 2.06-.94-2.06-.94-.94-2.06-.94 2.06-2.06.94z\"/><path d=\"M17.41 7.96l-1.37-1.37c-.4-.4-.92-.59-1.43-.59-.52 0-1.04.2-1.43.59L10.3 9.45l-7.72 7.72c-.78.78-.78 2.05 0 2.83L4 21.41c.39.39.9.59 1.41.59.51 0 1.02-.2 1.41-.59l7.78-7.78 2.81-2.81c.8-.78.8-2.07 0-2.86zM5.41 20L4 18.59l7.72-7.72 1.47 1.35L5.41 20z\"/>\n",
              "  </svg>\n",
              "      </button>\n",
              "      \n",
              "  <style>\n",
              "    .colab-df-container {\n",
              "      display:flex;\n",
              "      flex-wrap:wrap;\n",
              "      gap: 12px;\n",
              "    }\n",
              "\n",
              "    .colab-df-convert {\n",
              "      background-color: #E8F0FE;\n",
              "      border: none;\n",
              "      border-radius: 50%;\n",
              "      cursor: pointer;\n",
              "      display: none;\n",
              "      fill: #1967D2;\n",
              "      height: 32px;\n",
              "      padding: 0 0 0 0;\n",
              "      width: 32px;\n",
              "    }\n",
              "\n",
              "    .colab-df-convert:hover {\n",
              "      background-color: #E2EBFA;\n",
              "      box-shadow: 0px 1px 2px rgba(60, 64, 67, 0.3), 0px 1px 3px 1px rgba(60, 64, 67, 0.15);\n",
              "      fill: #174EA6;\n",
              "    }\n",
              "\n",
              "    [theme=dark] .colab-df-convert {\n",
              "      background-color: #3B4455;\n",
              "      fill: #D2E3FC;\n",
              "    }\n",
              "\n",
              "    [theme=dark] .colab-df-convert:hover {\n",
              "      background-color: #434B5C;\n",
              "      box-shadow: 0px 1px 3px 1px rgba(0, 0, 0, 0.15);\n",
              "      filter: drop-shadow(0px 1px 2px rgba(0, 0, 0, 0.3));\n",
              "      fill: #FFFFFF;\n",
              "    }\n",
              "  </style>\n",
              "\n",
              "      <script>\n",
              "        const buttonEl =\n",
              "          document.querySelector('#df-5fa82950-3753-4147-9524-4534721194f3 button.colab-df-convert');\n",
              "        buttonEl.style.display =\n",
              "          google.colab.kernel.accessAllowed ? 'block' : 'none';\n",
              "\n",
              "        async function convertToInteractive(key) {\n",
              "          const element = document.querySelector('#df-5fa82950-3753-4147-9524-4534721194f3');\n",
              "          const dataTable =\n",
              "            await google.colab.kernel.invokeFunction('convertToInteractive',\n",
              "                                                     [key], {});\n",
              "          if (!dataTable) return;\n",
              "\n",
              "          const docLinkHtml = 'Like what you see? Visit the ' +\n",
              "            '<a target=\"_blank\" href=https://colab.research.google.com/notebooks/data_table.ipynb>data table notebook</a>'\n",
              "            + ' to learn more about interactive tables.';\n",
              "          element.innerHTML = '';\n",
              "          dataTable['output_type'] = 'display_data';\n",
              "          await google.colab.output.renderOutput(dataTable, element);\n",
              "          const docLink = document.createElement('div');\n",
              "          docLink.innerHTML = docLinkHtml;\n",
              "          element.appendChild(docLink);\n",
              "        }\n",
              "      </script>\n",
              "    </div>\n",
              "  </div>\n",
              "  "
            ]
          },
          "metadata": {},
          "execution_count": 75
        }
      ],
      "source": [
        "loan = '/content/lending_club_loan_dataset.csv'\n",
        "ld = pd.read_csv(loan)\n",
        "ld.head()"
      ]
    },
    {
      "cell_type": "code",
      "source": [
        "#there are no duplicates in this dataset\n",
        "ld.duplicated().sum()"
      ],
      "metadata": {
        "colab": {
          "base_uri": "https://localhost:8080/"
        },
        "id": "AAEgnWEhcALL",
        "outputId": "5299fcdb-4290-40f7-b46f-88bea21eea91"
      },
      "execution_count": 76,
      "outputs": [
        {
          "output_type": "execute_result",
          "data": {
            "text/plain": [
              "0"
            ]
          },
          "metadata": {},
          "execution_count": 76
        }
      ]
    },
    {
      "cell_type": "code",
      "source": [
        "#there is data missing in this dataset\n",
        "ld.info()"
      ],
      "metadata": {
        "colab": {
          "base_uri": "https://localhost:8080/"
        },
        "id": "ozuWdUgxdEma",
        "outputId": "0be46385-4db9-4d4b-84a8-66df9c7face5"
      },
      "execution_count": 77,
      "outputs": [
        {
          "output_type": "stream",
          "name": "stdout",
          "text": [
            "<class 'pandas.core.frame.DataFrame'>\n",
            "RangeIndex: 20000 entries, 0 to 19999\n",
            "Data columns (total 15 columns):\n",
            " #   Column                 Non-Null Count  Dtype  \n",
            "---  ------                 --------------  -----  \n",
            " 0   id                     20000 non-null  int64  \n",
            " 1   grade                  20000 non-null  object \n",
            " 2   annual_inc             20000 non-null  float64\n",
            " 3   short_emp              20000 non-null  int64  \n",
            " 4   emp_length_num         20000 non-null  int64  \n",
            " 5   home_ownership         18509 non-null  object \n",
            " 6   dti                    19846 non-null  float64\n",
            " 7   purpose                20000 non-null  object \n",
            " 8   term                   20000 non-null  object \n",
            " 9   last_delinq_none       20000 non-null  int64  \n",
            " 10  last_major_derog_none  574 non-null    float64\n",
            " 11  revol_util             20000 non-null  float64\n",
            " 12  total_rec_late_fee     20000 non-null  float64\n",
            " 13  od_ratio               20000 non-null  float64\n",
            " 14  bad_loan               20000 non-null  int64  \n",
            "dtypes: float64(6), int64(5), object(4)\n",
            "memory usage: 2.3+ MB\n"
          ]
        }
      ]
    },
    {
      "cell_type": "code",
      "source": [
        "ld.isna().sum()"
      ],
      "metadata": {
        "colab": {
          "base_uri": "https://localhost:8080/"
        },
        "id": "4okw25XYcePH",
        "outputId": "ad480176-27ed-452d-f0ac-ff1dedbfefc7"
      },
      "execution_count": 78,
      "outputs": [
        {
          "output_type": "execute_result",
          "data": {
            "text/plain": [
              "id                           0\n",
              "grade                        0\n",
              "annual_inc                   0\n",
              "short_emp                    0\n",
              "emp_length_num               0\n",
              "home_ownership            1491\n",
              "dti                        154\n",
              "purpose                      0\n",
              "term                         0\n",
              "last_delinq_none             0\n",
              "last_major_derog_none    19426\n",
              "revol_util                   0\n",
              "total_rec_late_fee           0\n",
              "od_ratio                     0\n",
              "bad_loan                     0\n",
              "dtype: int64"
            ]
          },
          "metadata": {},
          "execution_count": 78
        }
      ]
    },
    {
      "cell_type": "code",
      "source": [
        "#remove the \"last_major_derog_none\" column from the dataset due to a large \n",
        "#portion of missing data.\n",
        "ld = ld.drop(columns=['last_major_derog_none','id'])"
      ],
      "metadata": {
        "id": "mVF5RiAicjH-"
      },
      "execution_count": 79,
      "outputs": []
    },
    {
      "cell_type": "code",
      "source": [
        "ld['home_ownership'].value_counts()"
      ],
      "metadata": {
        "colab": {
          "base_uri": "https://localhost:8080/"
        },
        "id": "7eR97B-5eRKG",
        "outputId": "5e4fa302-d2d7-4bec-b921-2873fa0a4feb"
      },
      "execution_count": 80,
      "outputs": [
        {
          "output_type": "execute_result",
          "data": {
            "text/plain": [
              "MORTGAGE    9844\n",
              "RENT        7052\n",
              "OWN         1613\n",
              "Name: home_ownership, dtype: int64"
            ]
          },
          "metadata": {},
          "execution_count": 80
        }
      ]
    },
    {
      "cell_type": "code",
      "source": [
        "#use the most frequent value in the \"home_ownership\" column for missing data.\n",
        "ld['home_ownership'].fillna('MORTGAGE', inplace=True)"
      ],
      "metadata": {
        "id": "ZovX-pAwdM_-"
      },
      "execution_count": 81,
      "outputs": []
    },
    {
      "cell_type": "code",
      "source": [
        "#use the mean value of the \"dti\" column for missing data for consistency.\n",
        "ld['dti'].fillna(ld['dti'].mean(), inplace=True)\n",
        "ld.isna().sum()"
      ],
      "metadata": {
        "colab": {
          "base_uri": "https://localhost:8080/"
        },
        "id": "oSAAYgIBdoiO",
        "outputId": "43c56957-be27-47ef-db2b-35510cf322c4"
      },
      "execution_count": 82,
      "outputs": [
        {
          "output_type": "execute_result",
          "data": {
            "text/plain": [
              "grade                 0\n",
              "annual_inc            0\n",
              "short_emp             0\n",
              "emp_length_num        0\n",
              "home_ownership        0\n",
              "dti                   0\n",
              "purpose               0\n",
              "term                  0\n",
              "last_delinq_none      0\n",
              "revol_util            0\n",
              "total_rec_late_fee    0\n",
              "od_ratio              0\n",
              "bad_loan              0\n",
              "dtype: int64"
            ]
          },
          "metadata": {},
          "execution_count": 82
        }
      ]
    },
    {
      "cell_type": "code",
      "source": [
        "categories = [\"grade\", \"annual_inc\", \"short_emp\", \"emp_length_num\",\n",
        "              \"home_ownership\", \"dti\", \"purpose\", \"term\", \"last_delinq_none\",\n",
        "              \"revol_util\", \"total_rec_late_fee\", \"od_ratio\", \"bad_loan\"]\n",
        "for values in categories:\n",
        "  print(\"\\n\", values)\n",
        "  print(ld[values].value_counts())"
      ],
      "metadata": {
        "colab": {
          "base_uri": "https://localhost:8080/"
        },
        "id": "-XsANNx4filu",
        "outputId": "a2a0c70d-d603-46af-f856-ea705a3f437c"
      },
      "execution_count": 83,
      "outputs": [
        {
          "output_type": "stream",
          "name": "stdout",
          "text": [
            "\n",
            " grade\n",
            "B    6042\n",
            "C    5566\n",
            "D    3554\n",
            "A    2159\n",
            "E    1645\n",
            "F     865\n",
            "G     169\n",
            "Name: grade, dtype: int64\n",
            "\n",
            " annual_inc\n",
            "60000.0     787\n",
            "50000.0     735\n",
            "65000.0     609\n",
            "70000.0     608\n",
            "80000.0     548\n",
            "           ... \n",
            "112711.0      1\n",
            "66389.0       1\n",
            "62212.0       1\n",
            "44289.0       1\n",
            "93250.0       1\n",
            "Name: annual_inc, Length: 2566, dtype: int64\n",
            "\n",
            " short_emp\n",
            "0    17750\n",
            "1     2250\n",
            "Name: short_emp, dtype: int64\n",
            "\n",
            " emp_length_num\n",
            "11    6530\n",
            "3     1732\n",
            "4     1501\n",
            "1     1453\n",
            "6     1405\n",
            "8     1316\n",
            "7     1246\n",
            "2     1227\n",
            "5     1026\n",
            "9      989\n",
            "0      797\n",
            "10     778\n",
            "Name: emp_length_num, dtype: int64\n",
            "\n",
            " home_ownership\n",
            "MORTGAGE    11335\n",
            "RENT         7052\n",
            "OWN          1613\n",
            "Name: home_ownership, dtype: int64\n",
            "\n",
            " dti\n",
            "16.587841    154\n",
            "15.870000     20\n",
            "19.640000     20\n",
            "11.450000     19\n",
            "19.250000     19\n",
            "            ... \n",
            "33.270000      1\n",
            "3.180000       1\n",
            "2.630000       1\n",
            "33.440000      1\n",
            "32.530000      1\n",
            "Name: dti, Length: 3296, dtype: int64\n",
            "\n",
            " purpose\n",
            "debt_consolidation    12337\n",
            "credit_card            4137\n",
            "home_improvement       1096\n",
            "other                  1021\n",
            "major_purchase          379\n",
            "small_business          265\n",
            "medical                 175\n",
            "car                     168\n",
            "moving                  123\n",
            "vacation                112\n",
            "house                   101\n",
            "wedding                  86\n",
            "Name: purpose, dtype: int64\n",
            "\n",
            " term\n",
            " 36 months    14969\n",
            " 60 months     4999\n",
            " 36 Months       32\n",
            "Name: term, dtype: int64\n",
            "\n",
            " last_delinq_none\n",
            "1    10932\n",
            "0     9068\n",
            "Name: last_delinq_none, dtype: int64\n",
            "\n",
            " revol_util\n",
            "0.0      80\n",
            "72.2     46\n",
            "63.6     46\n",
            "62.5     44\n",
            "54.2     44\n",
            "         ..\n",
            "100.8     1\n",
            "102.2     1\n",
            "128.1     1\n",
            "102.5     1\n",
            "109.1     1\n",
            "Name: revol_util, Length: 1030, dtype: int64\n",
            "\n",
            " total_rec_late_fee\n",
            "0.0000     19769\n",
            "15.0000       58\n",
            "30.0000        6\n",
            "17.0100        2\n",
            "17.4800        2\n",
            "           ...  \n",
            "17.3893        1\n",
            "14.9845        1\n",
            "28.8300        1\n",
            "34.3200        1\n",
            "52.6500        1\n",
            "Name: total_rec_late_fee, Length: 166, dtype: int64\n",
            "\n",
            " od_ratio\n",
            "0.160624    1\n",
            "0.364752    1\n",
            "0.582080    1\n",
            "0.264463    1\n",
            "0.192310    1\n",
            "           ..\n",
            "0.233684    1\n",
            "0.261916    1\n",
            "0.521679    1\n",
            "0.732776    1\n",
            "0.201388    1\n",
            "Name: od_ratio, Length: 20000, dtype: int64\n",
            "\n",
            " bad_loan\n",
            "0    16000\n",
            "1     4000\n",
            "Name: bad_loan, dtype: int64\n"
          ]
        }
      ]
    },
    {
      "cell_type": "code",
      "source": [
        "#fix inconsistency in \"term\" column\n",
        "ld['term'] = ld['term'].replace([' 36 Months'], ' 36 months')"
      ],
      "metadata": {
        "id": "ir6se01dgmi1"
      },
      "execution_count": 84,
      "outputs": []
    },
    {
      "cell_type": "code",
      "source": [
        "ld['term'].value_counts()"
      ],
      "metadata": {
        "colab": {
          "base_uri": "https://localhost:8080/"
        },
        "id": "eN6yZQhihSPl",
        "outputId": "e5ab053d-438e-4991-eff8-1316b551c5b4"
      },
      "execution_count": 85,
      "outputs": [
        {
          "output_type": "execute_result",
          "data": {
            "text/plain": [
              " 36 months    15001\n",
              " 60 months     4999\n",
              "Name: term, dtype: int64"
            ]
          },
          "metadata": {},
          "execution_count": 85
        }
      ]
    },
    {
      "cell_type": "code",
      "source": [
        "ld.dtypes"
      ],
      "metadata": {
        "colab": {
          "base_uri": "https://localhost:8080/"
        },
        "id": "cWtE8z26jFe6",
        "outputId": "0167b1a9-6c5f-481e-e71b-5555ea2492f9"
      },
      "execution_count": 86,
      "outputs": [
        {
          "output_type": "execute_result",
          "data": {
            "text/plain": [
              "grade                  object\n",
              "annual_inc            float64\n",
              "short_emp               int64\n",
              "emp_length_num          int64\n",
              "home_ownership         object\n",
              "dti                   float64\n",
              "purpose                object\n",
              "term                   object\n",
              "last_delinq_none        int64\n",
              "revol_util            float64\n",
              "total_rec_late_fee    float64\n",
              "od_ratio              float64\n",
              "bad_loan                int64\n",
              "dtype: object"
            ]
          },
          "metadata": {},
          "execution_count": 86
        }
      ]
    },
    {
      "cell_type": "code",
      "source": [
        "#The graphs below show the count for all numerical data in the dataset.\n",
        "#We can identify the outliers in these graphs by the difference of one value\n",
        "#when compared to the other values.\n",
        "ld.hist(figsize=(15,15), bins=12, ec='black', grid=False)\n",
        "plt.tight_layout()"
      ],
      "metadata": {
        "colab": {
          "base_uri": "https://localhost:8080/",
          "height": 1000
        },
        "id": "J_4Oz8PO2ODP",
        "outputId": "042bc756-fca9-48a1-f572-e8bc7435bfcf"
      },
      "execution_count": 87,
      "outputs": [
        {
          "output_type": "display_data",
          "data": {
            "text/plain": [
              "<Figure size 1080x1080 with 9 Axes>"
            ],
            "image/png": "[encoded data removed]"
          },
          "metadata": {
            "needs_background": "light"
          }
        }
      ]
    },
    {
      "cell_type": "code",
      "source": [
        "#The graphs below show the count for all categorical data in the dataset.\n",
        "#We can identify the outliers in these graphs by the difference of one value\n",
        "#when compared to the other values.\n",
        "for column in ld.select_dtypes(include=['object']).columns:\n",
        "  ld[column].value_counts().plot(kind='bar', color=sns.color_palette('Paired'))\n",
        "\n",
        "  plt.xlabel('Class')\n",
        "  plt.xticks(rotation=70, horizontalalignment='center')\n",
        "  plt.ylabel('Count')\n",
        "  plt.title(column)\n",
        "  plt.show()"
      ],
      "metadata": {
        "colab": {
          "base_uri": "https://localhost:8080/",
          "height": 1000
        },
        "id": "tboXhsXw31fg",
        "outputId": "98bd0717-6a77-4a49-ce43-ad87698de08c"
      },
      "execution_count": 88,
      "outputs": [
        {
          "output_type": "display_data",
          "data": {
            "text/plain": [
              "<Figure size 432x288 with 1 Axes>"
            ],
            "image/png": "[encoded data removed]"
          },
          "metadata": {
            "needs_background": "light"
          }
        },
        {
          "output_type": "display_data",
          "data": {
            "text/plain": [
              "<Figure size 432x288 with 1 Axes>"
            ],
            "image/png": "[encoded data removed]"
          },
          "metadata": {
            "needs_background": "light"
          }
        },
        {
          "output_type": "display_data",
          "data": {
            "text/plain": [
              "<Figure size 432x288 with 1 Axes>"
            ],
            "image/png": "[encoded data removed]"
          },
          "metadata": {
            "needs_background": "light"
          }
        },
        {
          "output_type": "display_data",
          "data": {
            "text/plain": [
              "<Figure size 432x288 with 1 Axes>"
            ],
            "image/png": "[encoded data removed]"
          },
          "metadata": {
            "needs_background": "light"
          }
        }
      ]
    }
  ]
}