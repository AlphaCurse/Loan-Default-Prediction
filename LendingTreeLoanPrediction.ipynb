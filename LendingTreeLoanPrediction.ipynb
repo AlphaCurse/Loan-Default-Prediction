{
  "nbformat": 4,
  "nbformat_minor": 0,
  "metadata": {
    "colab": {
      "name": "LendingTreeLoanPrediction.ipynb",
      "provenance": [],
      "collapsed_sections": []
    },
    "kernelspec": {
      "name": "python3",
      "display_name": "Python 3"
    },
    "language_info": {
      "name": "python"
    }
  },
  "cells": [
    {
      "cell_type": "code",
      "source": [
        "import pandas as pd\n",
        "import numpy as np\n",
        "import matplotlib.pyplot as plt\n",
        "import seaborn as sns\n",
        "from sklearn.linear_model import LogisticRegression\n",
        "from sklearn.impute import SimpleImputer\n",
        "from sklearn.neighbors import KNeighborsClassifier\n",
        "from sklearn.ensemble import RandomForestClassifier\n",
        "from sklearn.preprocessing import StandardScaler, OneHotEncoder\n",
        "from sklearn.cluster import KMeans, AgglomerativeClustering\n",
        "from sklearn.model_selection import train_test_split\n",
        "from sklearn.decomposition import PCA\n",
        "from sklearn.pipeline import make_pipeline\n",
        "from sklearn.compose import make_column_selector, make_column_transformer\n",
        "from sklearn import metrics\n",
        "import scipy.cluster.hierarchy as sch\n",
        "from sklearn.metrics import classification_report, confusion_matrix, accuracy_score,recall_score, precision_score, ConfusionMatrixDisplay\n",
        "from sklearn import set_config\n",
        "set_config(display=\"diagram\")"
      ],
      "metadata": {
        "id": "0JFfMiOFb2tr"
      },
      "execution_count": null,
      "outputs": []
    },
    {
      "cell_type": "markdown",
      "source": [
        "I will use the 'ld' data for analysis and visualization.\n",
        "\n",
        "The 'df' data will be used for modeling and predictions."
      ],
      "metadata": {
        "id": "rI1chS4RTtik"
      }
    },
    {
      "cell_type": "code",
      "execution_count": null,
      "metadata": {
        "colab": {
          "base_uri": "https://localhost:8080/",
          "height": 357
        },
        "id": "7T_FHY2Qb1pU",
        "outputId": "d4a35ff7-3e04-46ad-9512-71bf6f3894bb"
      },
      "outputs": [
        {
          "output_type": "execute_result",
          "data": {
            "text/plain": [
              "         id grade  annual_inc  short_emp  emp_length_num home_ownership  \\\n",
              "0  11454641     A    100000.0          1               1           RENT   \n",
              "1   9604874     A     83000.0          0               4            OWN   \n",
              "2   9684700     D     78000.0          0              11       MORTGAGE   \n",
              "3   9695736     D     37536.0          0               6       MORTGAGE   \n",
              "4   9795013     D     65000.0          0              11       MORTGAGE   \n",
              "\n",
              "     dti             purpose        term  last_delinq_none  \\\n",
              "0  26.27         credit_card   36 months                 1   \n",
              "1   5.39         credit_card   36 months                 0   \n",
              "2  18.45  debt_consolidation   60 months                 1   \n",
              "3  12.28             medical   60 months                 0   \n",
              "4  11.26  debt_consolidation   36 months                 0   \n",
              "\n",
              "   last_major_derog_none  revol_util  total_rec_late_fee  od_ratio  bad_loan  \n",
              "0                    NaN        43.2                 0.0  0.160624         0  \n",
              "1                    NaN        21.5                 0.0  0.810777         0  \n",
              "2                    NaN        46.3                 0.0  0.035147         1  \n",
              "3                    NaN        10.7                 0.0  0.534887         1  \n",
              "4                    NaN        15.2                 0.0  0.166500         0  "
            ],
            "text/html": [
              "\n",
              "  <div id=\"df-a768574a-16ff-4d99-9b40-e72399d6f810\">\n",
              "    <div class=\"colab-df-container\">\n",
              "      <div>\n",
              "<style scoped>\n",
              "    .dataframe tbody tr th:only-of-type {\n",
              "        vertical-align: middle;\n",
              "    }\n",
              "\n",
              "    .dataframe tbody tr th {\n",
              "        vertical-align: top;\n",
              "    }\n",
              "\n",
              "    .dataframe thead th {\n",
              "        text-align: right;\n",
              "    }\n",
              "</style>\n",
              "<table border=\"1\" class=\"dataframe\">\n",
              "  <thead>\n",
              "    <tr style=\"text-align: right;\">\n",
              "      <th></th>\n",
              "      <th>id</th>\n",
              "      <th>grade</th>\n",
              "      <th>annual_inc</th>\n",
              "      <th>short_emp</th>\n",
              "      <th>emp_length_num</th>\n",
              "      <th>home_ownership</th>\n",
              "      <th>dti</th>\n",
              "      <th>purpose</th>\n",
              "      <th>term</th>\n",
              "      <th>last_delinq_none</th>\n",
              "      <th>last_major_derog_none</th>\n",
              "      <th>revol_util</th>\n",
              "      <th>total_rec_late_fee</th>\n",
              "      <th>od_ratio</th>\n",
              "      <th>bad_loan</th>\n",
              "    </tr>\n",
              "  </thead>\n",
              "  <tbody>\n",
              "    <tr>\n",
              "      <th>0</th>\n",
              "      <td>11454641</td>\n",
              "      <td>A</td>\n",
              "      <td>100000.0</td>\n",
              "      <td>1</td>\n",
              "      <td>1</td>\n",
              "      <td>RENT</td>\n",
              "      <td>26.27</td>\n",
              "      <td>credit_card</td>\n",
              "      <td>36 months</td>\n",
              "      <td>1</td>\n",
              "      <td>NaN</td>\n",
              "      <td>43.2</td>\n",
              "      <td>0.0</td>\n",
              "      <td>0.160624</td>\n",
              "      <td>0</td>\n",
              "    </tr>\n",
              "    <tr>\n",
              "      <th>1</th>\n",
              "      <td>9604874</td>\n",
              "      <td>A</td>\n",
              "      <td>83000.0</td>\n",
              "      <td>0</td>\n",
              "      <td>4</td>\n",
              "      <td>OWN</td>\n",
              "      <td>5.39</td>\n",
              "      <td>credit_card</td>\n",
              "      <td>36 months</td>\n",
              "      <td>0</td>\n",
              "      <td>NaN</td>\n",
              "      <td>21.5</td>\n",
              "      <td>0.0</td>\n",
              "      <td>0.810777</td>\n",
              "      <td>0</td>\n",
              "    </tr>\n",
              "    <tr>\n",
              "      <th>2</th>\n",
              "      <td>9684700</td>\n",
              "      <td>D</td>\n",
              "      <td>78000.0</td>\n",
              "      <td>0</td>\n",
              "      <td>11</td>\n",
              "      <td>MORTGAGE</td>\n",
              "      <td>18.45</td>\n",
              "      <td>debt_consolidation</td>\n",
              "      <td>60 months</td>\n",
              "      <td>1</td>\n",
              "      <td>NaN</td>\n",
              "      <td>46.3</td>\n",
              "      <td>0.0</td>\n",
              "      <td>0.035147</td>\n",
              "      <td>1</td>\n",
              "    </tr>\n",
              "    <tr>\n",
              "      <th>3</th>\n",
              "      <td>9695736</td>\n",
              "      <td>D</td>\n",
              "      <td>37536.0</td>\n",
              "      <td>0</td>\n",
              "      <td>6</td>\n",
              "      <td>MORTGAGE</td>\n",
              "      <td>12.28</td>\n",
              "      <td>medical</td>\n",
              "      <td>60 months</td>\n",
              "      <td>0</td>\n",
              "      <td>NaN</td>\n",
              "      <td>10.7</td>\n",
              "      <td>0.0</td>\n",
              "      <td>0.534887</td>\n",
              "      <td>1</td>\n",
              "    </tr>\n",
              "    <tr>\n",
              "      <th>4</th>\n",
              "      <td>9795013</td>\n",
              "      <td>D</td>\n",
              "      <td>65000.0</td>\n",
              "      <td>0</td>\n",
              "      <td>11</td>\n",
              "      <td>MORTGAGE</td>\n",
              "      <td>11.26</td>\n",
              "      <td>debt_consolidation</td>\n",
              "      <td>36 months</td>\n",
              "      <td>0</td>\n",
              "      <td>NaN</td>\n",
              "      <td>15.2</td>\n",
              "      <td>0.0</td>\n",
              "      <td>0.166500</td>\n",
              "      <td>0</td>\n",
              "    </tr>\n",
              "  </tbody>\n",
              "</table>\n",
              "</div>\n",
              "      <button class=\"colab-df-convert\" onclick=\"convertToInteractive('df-a768574a-16ff-4d99-9b40-e72399d6f810')\"\n",
              "              title=\"Convert this dataframe to an interactive table.\"\n",
              "              style=\"display:none;\">\n",
              "        \n",
              "  <svg xmlns=\"http://www.w3.org/2000/svg\" height=\"24px\"viewBox=\"0 0 24 24\"\n",
              "       width=\"24px\">\n",
              "    <path d=\"M0 0h24v24H0V0z\" fill=\"none\"/>\n",
              "    <path d=\"M18.56 5.44l.94 2.06.94-2.06 2.06-.94-2.06-.94-.94-2.06-.94 2.06-2.06.94zm-11 1L8.5 8.5l.94-2.06 2.06-.94-2.06-.94L8.5 2.5l-.94 2.06-2.06.94zm10 10l.94 2.06.94-2.06 2.06-.94-2.06-.94-.94-2.06-.94 2.06-2.06.94z\"/><path d=\"M17.41 7.96l-1.37-1.37c-.4-.4-.92-.59-1.43-.59-.52 0-1.04.2-1.43.59L10.3 9.45l-7.72 7.72c-.78.78-.78 2.05 0 2.83L4 21.41c.39.39.9.59 1.41.59.51 0 1.02-.2 1.41-.59l7.78-7.78 2.81-2.81c.8-.78.8-2.07 0-2.86zM5.41 20L4 18.59l7.72-7.72 1.47 1.35L5.41 20z\"/>\n",
              "  </svg>\n",
              "      </button>\n",
              "      \n",
              "  <style>\n",
              "    .colab-df-container {\n",
              "      display:flex;\n",
              "      flex-wrap:wrap;\n",
              "      gap: 12px;\n",
              "    }\n",
              "\n",
              "    .colab-df-convert {\n",
              "      background-color: #E8F0FE;\n",
              "      border: none;\n",
              "      border-radius: 50%;\n",
              "      cursor: pointer;\n",
              "      display: none;\n",
              "      fill: #1967D2;\n",
              "      height: 32px;\n",
              "      padding: 0 0 0 0;\n",
              "      width: 32px;\n",
              "    }\n",
              "\n",
              "    .colab-df-convert:hover {\n",
              "      background-color: #E2EBFA;\n",
              "      box-shadow: 0px 1px 2px rgba(60, 64, 67, 0.3), 0px 1px 3px 1px rgba(60, 64, 67, 0.15);\n",
              "      fill: #174EA6;\n",
              "    }\n",
              "\n",
              "    [theme=dark] .colab-df-convert {\n",
              "      background-color: #3B4455;\n",
              "      fill: #D2E3FC;\n",
              "    }\n",
              "\n",
              "    [theme=dark] .colab-df-convert:hover {\n",
              "      background-color: #434B5C;\n",
              "      box-shadow: 0px 1px 3px 1px rgba(0, 0, 0, 0.15);\n",
              "      filter: drop-shadow(0px 1px 2px rgba(0, 0, 0, 0.3));\n",
              "      fill: #FFFFFF;\n",
              "    }\n",
              "  </style>\n",
              "\n",
              "      <script>\n",
              "        const buttonEl =\n",
              "          document.querySelector('#df-a768574a-16ff-4d99-9b40-e72399d6f810 button.colab-df-convert');\n",
              "        buttonEl.style.display =\n",
              "          google.colab.kernel.accessAllowed ? 'block' : 'none';\n",
              "\n",
              "        async function convertToInteractive(key) {\n",
              "          const element = document.querySelector('#df-a768574a-16ff-4d99-9b40-e72399d6f810');\n",
              "          const dataTable =\n",
              "            await google.colab.kernel.invokeFunction('convertToInteractive',\n",
              "                                                     [key], {});\n",
              "          if (!dataTable) return;\n",
              "\n",
              "          const docLinkHtml = 'Like what you see? Visit the ' +\n",
              "            '<a target=\"_blank\" href=https://colab.research.google.com/notebooks/data_table.ipynb>data table notebook</a>'\n",
              "            + ' to learn more about interactive tables.';\n",
              "          element.innerHTML = '';\n",
              "          dataTable['output_type'] = 'display_data';\n",
              "          await google.colab.output.renderOutput(dataTable, element);\n",
              "          const docLink = document.createElement('div');\n",
              "          docLink.innerHTML = docLinkHtml;\n",
              "          element.appendChild(docLink);\n",
              "        }\n",
              "      </script>\n",
              "    </div>\n",
              "  </div>\n",
              "  "
            ]
          },
          "metadata": {},
          "execution_count": 2
        }
      ],
      "source": [
        "loan = '/content/lending_club_loan_dataset.csv'\n",
        "ld = pd.read_csv(loan)\n",
        "df = pd.read_csv(loan)\n",
        "ld.head()"
      ]
    },
    {
      "cell_type": "markdown",
      "source": [
        "**Prepare the Data for Modeling**"
      ],
      "metadata": {
        "id": "PYzTLqpXUZEo"
      }
    },
    {
      "cell_type": "markdown",
      "source": [
        "Change feature 'grade' from object to numerical values. Drop 'last_major_derog_none' and 'id' columns due to too much missing data. Fix inconsistencies in 'term' feature."
      ],
      "metadata": {
        "id": "gGsZ0Z9pJM_q"
      }
    },
    {
      "cell_type": "code",
      "source": [
        "df['grade'] = df['grade'].replace({'A':0, 'B':1, 'C':2, 'D':3, 'E':4, 'F':5,\n",
        "                                   'G':6})\n",
        "df = df.drop(columns=['last_major_derog_none','id'])\n",
        "df['term'] = df['term'].replace([' 36 Months'], ' 36 months')"
      ],
      "metadata": {
        "id": "jlPsmSdfWaOE"
      },
      "execution_count": null,
      "outputs": []
    },
    {
      "cell_type": "markdown",
      "source": [
        "Identify the features (X) and target (y), where the \"bad_loan\" column is the target and the rest of the relevant variables as your features matrix. Then perform a train test split of the data."
      ],
      "metadata": {
        "id": "WDpVmyY-JmWT"
      }
    },
    {
      "cell_type": "code",
      "source": [
        "X = df.drop(columns = 'bad_loan')\n",
        "y = df['bad_loan']\n",
        "\n",
        "X_train, X_test, y_train, y_test = train_test_split(X, y, random_state=42)"
      ],
      "metadata": {
        "id": "nKdQ7X7nUWoD"
      },
      "execution_count": null,
      "outputs": []
    },
    {
      "cell_type": "markdown",
      "source": [
        "Instantiate Transformers: create preprocessing objects to prepare the dataset for Machine Learning."
      ],
      "metadata": {
        "id": "pdqHPQcbJ9Tx"
      }
    },
    {
      "cell_type": "code",
      "source": [
        "scaler = StandardScaler()\n",
        "mean_imputer = SimpleImputer(strategy='mean')\n",
        "freq_imputer = SimpleImputer(strategy='most_frequent')\n",
        "ohe = OneHotEncoder(sparse=False, handle_unknown='ignore')\n",
        "cat_selector = make_column_selector(dtype_include='object')\n",
        "num_selector = make_column_selector(dtype_include='number')"
      ],
      "metadata": {
        "id": "aQ0nGxg3Ux6C"
      },
      "execution_count": null,
      "outputs": []
    },
    {
      "cell_type": "markdown",
      "source": [
        "Create Pipeline for Numerical and Categorical Data."
      ],
      "metadata": {
        "id": "kqRpLYFZKBwe"
      }
    },
    {
      "cell_type": "code",
      "source": [
        "cat_pipe = make_pipeline(freq_imputer, ohe)\n",
        "num_pipe = make_pipeline(mean_imputer, scaler)"
      ],
      "metadata": {
        "id": "p5ep2D_8Xwl4"
      },
      "execution_count": null,
      "outputs": []
    },
    {
      "cell_type": "markdown",
      "source": [
        "Create Tuples to pair Pipelines with Selected Columns."
      ],
      "metadata": {
        "id": "KulnjS2NKJ09"
      }
    },
    {
      "cell_type": "code",
      "source": [
        "cat_tuple = (cat_pipe, cat_selector)\n",
        "num_tuple = (num_pipe, num_selector)"
      ],
      "metadata": {
        "id": "48Rq4-1OYqKQ"
      },
      "execution_count": null,
      "outputs": []
    },
    {
      "cell_type": "markdown",
      "source": [
        "Instantiate the Column Transformer."
      ],
      "metadata": {
        "id": "WwIAlGK7KMj5"
      }
    },
    {
      "cell_type": "code",
      "source": [
        "preprocessor = make_column_transformer(cat_tuple, num_tuple, \n",
        "                                       remainder='passthrough')\n",
        "preprocessor.fit(X_train)"
      ],
      "metadata": {
        "colab": {
          "base_uri": "https://localhost:8080/",
          "height": 152
        },
        "id": "mjFEodzSY1Dx",
        "outputId": "825fb8fd-1d18-46d2-bc9e-f16694ac04fe"
      },
      "execution_count": null,
      "outputs": [
        {
          "output_type": "execute_result",
          "data": {
            "text/plain": [
              "ColumnTransformer(remainder='passthrough',\n",
              "                  transformers=[('pipeline-1',\n",
              "                                 Pipeline(steps=[('simpleimputer',\n",
              "                                                  SimpleImputer(strategy='most_frequent')),\n",
              "                                                 ('onehotencoder',\n",
              "                                                  OneHotEncoder(handle_unknown='ignore',\n",
              "                                                                sparse=False))]),\n",
              "                                 <sklearn.compose._column_transformer.make_column_selector object at 0x7ff8ab5212d0>),\n",
              "                                ('pipeline-2',\n",
              "                                 Pipeline(steps=[('simpleimputer',\n",
              "                                                  SimpleImputer()),\n",
              "                                                 ('standardscaler',\n",
              "                                                  StandardScaler())]),\n",
              "                                 <sklearn.compose._column_transformer.make_column_selector object at 0x7ff8ab521ed0>)])"
            ],
            "text/html": [
              "<style>#sk-8d9f3e9a-5d8e-4424-8777-206920b8ed8b {color: black;background-color: white;}#sk-8d9f3e9a-5d8e-4424-8777-206920b8ed8b pre{padding: 0;}#sk-8d9f3e9a-5d8e-4424-8777-206920b8ed8b div.sk-toggleable {background-color: white;}#sk-8d9f3e9a-5d8e-4424-8777-206920b8ed8b label.sk-toggleable__label {cursor: pointer;display: block;width: 100%;margin-bottom: 0;padding: 0.3em;box-sizing: border-box;text-align: center;}#sk-8d9f3e9a-5d8e-4424-8777-206920b8ed8b label.sk-toggleable__label-arrow:before {content: \"▸\";float: left;margin-right: 0.25em;color: #696969;}#sk-8d9f3e9a-5d8e-4424-8777-206920b8ed8b label.sk-toggleable__label-arrow:hover:before {color: black;}#sk-8d9f3e9a-5d8e-4424-8777-206920b8ed8b div.sk-estimator:hover label.sk-toggleable__label-arrow:before {color: black;}#sk-8d9f3e9a-5d8e-4424-8777-206920b8ed8b div.sk-toggleable__content {max-height: 0;max-width: 0;overflow: hidden;text-align: left;background-color: #f0f8ff;}#sk-8d9f3e9a-5d8e-4424-8777-206920b8ed8b div.sk-toggleable__content pre {margin: 0.2em;color: black;border-radius: 0.25em;background-color: #f0f8ff;}#sk-8d9f3e9a-5d8e-4424-8777-206920b8ed8b input.sk-toggleable__control:checked~div.sk-toggleable__content {max-height: 200px;max-width: 100%;overflow: auto;}#sk-8d9f3e9a-5d8e-4424-8777-206920b8ed8b input.sk-toggleable__control:checked~label.sk-toggleable__label-arrow:before {content: \"▾\";}#sk-8d9f3e9a-5d8e-4424-8777-206920b8ed8b div.sk-estimator input.sk-toggleable__control:checked~label.sk-toggleable__label {background-color: #d4ebff;}#sk-8d9f3e9a-5d8e-4424-8777-206920b8ed8b div.sk-label input.sk-toggleable__control:checked~label.sk-toggleable__label {background-color: #d4ebff;}#sk-8d9f3e9a-5d8e-4424-8777-206920b8ed8b input.sk-hidden--visually {border: 0;clip: rect(1px 1px 1px 1px);clip: rect(1px, 1px, 1px, 1px);height: 1px;margin: -1px;overflow: hidden;padding: 0;position: absolute;width: 1px;}#sk-8d9f3e9a-5d8e-4424-8777-206920b8ed8b div.sk-estimator {font-family: monospace;background-color: #f0f8ff;border: 1px dotted black;border-radius: 0.25em;box-sizing: border-box;margin-bottom: 0.5em;}#sk-8d9f3e9a-5d8e-4424-8777-206920b8ed8b div.sk-estimator:hover {background-color: #d4ebff;}#sk-8d9f3e9a-5d8e-4424-8777-206920b8ed8b div.sk-parallel-item::after {content: \"\";width: 100%;border-bottom: 1px solid gray;flex-grow: 1;}#sk-8d9f3e9a-5d8e-4424-8777-206920b8ed8b div.sk-label:hover label.sk-toggleable__label {background-color: #d4ebff;}#sk-8d9f3e9a-5d8e-4424-8777-206920b8ed8b div.sk-serial::before {content: \"\";position: absolute;border-left: 1px solid gray;box-sizing: border-box;top: 2em;bottom: 0;left: 50%;}#sk-8d9f3e9a-5d8e-4424-8777-206920b8ed8b div.sk-serial {display: flex;flex-direction: column;align-items: center;background-color: white;padding-right: 0.2em;padding-left: 0.2em;}#sk-8d9f3e9a-5d8e-4424-8777-206920b8ed8b div.sk-item {z-index: 1;}#sk-8d9f3e9a-5d8e-4424-8777-206920b8ed8b div.sk-parallel {display: flex;align-items: stretch;justify-content: center;background-color: white;}#sk-8d9f3e9a-5d8e-4424-8777-206920b8ed8b div.sk-parallel::before {content: \"\";position: absolute;border-left: 1px solid gray;box-sizing: border-box;top: 2em;bottom: 0;left: 50%;}#sk-8d9f3e9a-5d8e-4424-8777-206920b8ed8b div.sk-parallel-item {display: flex;flex-direction: column;position: relative;background-color: white;}#sk-8d9f3e9a-5d8e-4424-8777-206920b8ed8b div.sk-parallel-item:first-child::after {align-self: flex-end;width: 50%;}#sk-8d9f3e9a-5d8e-4424-8777-206920b8ed8b div.sk-parallel-item:last-child::after {align-self: flex-start;width: 50%;}#sk-8d9f3e9a-5d8e-4424-8777-206920b8ed8b div.sk-parallel-item:only-child::after {width: 0;}#sk-8d9f3e9a-5d8e-4424-8777-206920b8ed8b div.sk-dashed-wrapped {border: 1px dashed gray;margin: 0 0.4em 0.5em 0.4em;box-sizing: border-box;padding-bottom: 0.4em;background-color: white;position: relative;}#sk-8d9f3e9a-5d8e-4424-8777-206920b8ed8b div.sk-label label {font-family: monospace;font-weight: bold;background-color: white;display: inline-block;line-height: 1.2em;}#sk-8d9f3e9a-5d8e-4424-8777-206920b8ed8b div.sk-label-container {position: relative;z-index: 2;text-align: center;}#sk-8d9f3e9a-5d8e-4424-8777-206920b8ed8b div.sk-container {/* jupyter's `normalize.less` sets `[hidden] { display: none; }` but bootstrap.min.css set `[hidden] { display: none !important; }` so we also need the `!important` here to be able to override the default hidden behavior on the sphinx rendered scikit-learn.org. See: https://github.com/scikit-learn/scikit-learn/issues/21755 */display: inline-block !important;position: relative;}#sk-8d9f3e9a-5d8e-4424-8777-206920b8ed8b div.sk-text-repr-fallback {display: none;}</style><div id=\"sk-8d9f3e9a-5d8e-4424-8777-206920b8ed8b\" class=\"sk-top-container\"><div class=\"sk-text-repr-fallback\"><pre>ColumnTransformer(remainder=&#x27;passthrough&#x27;,\n",
              "                  transformers=[(&#x27;pipeline-1&#x27;,\n",
              "                                 Pipeline(steps=[(&#x27;simpleimputer&#x27;,\n",
              "                                                  SimpleImputer(strategy=&#x27;most_frequent&#x27;)),\n",
              "                                                 (&#x27;onehotencoder&#x27;,\n",
              "                                                  OneHotEncoder(handle_unknown=&#x27;ignore&#x27;,\n",
              "                                                                sparse=False))]),\n",
              "                                 &lt;sklearn.compose._column_transformer.make_column_selector object at 0x7ff8ab5212d0&gt;),\n",
              "                                (&#x27;pipeline-2&#x27;,\n",
              "                                 Pipeline(steps=[(&#x27;simpleimputer&#x27;,\n",
              "                                                  SimpleImputer()),\n",
              "                                                 (&#x27;standardscaler&#x27;,\n",
              "                                                  StandardScaler())]),\n",
              "                                 &lt;sklearn.compose._column_transformer.make_column_selector object at 0x7ff8ab521ed0&gt;)])</pre><b>Please rerun this cell to show the HTML repr or trust the notebook.</b></div><div class=\"sk-container\" hidden><div class=\"sk-item sk-dashed-wrapped\"><div class=\"sk-label-container\"><div class=\"sk-label sk-toggleable\"><input class=\"sk-toggleable__control sk-hidden--visually\" id=\"3c4eb5b1-639c-46ce-9079-4ee4412460e9\" type=\"checkbox\" ><label for=\"3c4eb5b1-639c-46ce-9079-4ee4412460e9\" class=\"sk-toggleable__label sk-toggleable__label-arrow\">ColumnTransformer</label><div class=\"sk-toggleable__content\"><pre>ColumnTransformer(remainder=&#x27;passthrough&#x27;,\n",
              "                  transformers=[(&#x27;pipeline-1&#x27;,\n",
              "                                 Pipeline(steps=[(&#x27;simpleimputer&#x27;,\n",
              "                                                  SimpleImputer(strategy=&#x27;most_frequent&#x27;)),\n",
              "                                                 (&#x27;onehotencoder&#x27;,\n",
              "                                                  OneHotEncoder(handle_unknown=&#x27;ignore&#x27;,\n",
              "                                                                sparse=False))]),\n",
              "                                 &lt;sklearn.compose._column_transformer.make_column_selector object at 0x7ff8ab5212d0&gt;),\n",
              "                                (&#x27;pipeline-2&#x27;,\n",
              "                                 Pipeline(steps=[(&#x27;simpleimputer&#x27;,\n",
              "                                                  SimpleImputer()),\n",
              "                                                 (&#x27;standardscaler&#x27;,\n",
              "                                                  StandardScaler())]),\n",
              "                                 &lt;sklearn.compose._column_transformer.make_column_selector object at 0x7ff8ab521ed0&gt;)])</pre></div></div></div><div class=\"sk-parallel\"><div class=\"sk-parallel-item\"><div class=\"sk-item\"><div class=\"sk-label-container\"><div class=\"sk-label sk-toggleable\"><input class=\"sk-toggleable__control sk-hidden--visually\" id=\"f92eb761-7ef1-4807-a1f8-5ea2cb969bdc\" type=\"checkbox\" ><label for=\"f92eb761-7ef1-4807-a1f8-5ea2cb969bdc\" class=\"sk-toggleable__label sk-toggleable__label-arrow\">pipeline-1</label><div class=\"sk-toggleable__content\"><pre>&lt;sklearn.compose._column_transformer.make_column_selector object at 0x7ff8ab5212d0&gt;</pre></div></div></div><div class=\"sk-serial\"><div class=\"sk-item\"><div class=\"sk-serial\"><div class=\"sk-item\"><div class=\"sk-estimator sk-toggleable\"><input class=\"sk-toggleable__control sk-hidden--visually\" id=\"0ef52a51-4b54-48de-891e-aa050ca7f03a\" type=\"checkbox\" ><label for=\"0ef52a51-4b54-48de-891e-aa050ca7f03a\" class=\"sk-toggleable__label sk-toggleable__label-arrow\">SimpleImputer</label><div class=\"sk-toggleable__content\"><pre>SimpleImputer(strategy=&#x27;most_frequent&#x27;)</pre></div></div></div><div class=\"sk-item\"><div class=\"sk-estimator sk-toggleable\"><input class=\"sk-toggleable__control sk-hidden--visually\" id=\"f8a96898-98b2-4cbd-9298-fd485e1992d3\" type=\"checkbox\" ><label for=\"f8a96898-98b2-4cbd-9298-fd485e1992d3\" class=\"sk-toggleable__label sk-toggleable__label-arrow\">OneHotEncoder</label><div class=\"sk-toggleable__content\"><pre>OneHotEncoder(handle_unknown=&#x27;ignore&#x27;, sparse=False)</pre></div></div></div></div></div></div></div></div><div class=\"sk-parallel-item\"><div class=\"sk-item\"><div class=\"sk-label-container\"><div class=\"sk-label sk-toggleable\"><input class=\"sk-toggleable__control sk-hidden--visually\" id=\"6677d814-767e-403e-9d36-2d71d54a8e8d\" type=\"checkbox\" ><label for=\"6677d814-767e-403e-9d36-2d71d54a8e8d\" class=\"sk-toggleable__label sk-toggleable__label-arrow\">pipeline-2</label><div class=\"sk-toggleable__content\"><pre>&lt;sklearn.compose._column_transformer.make_column_selector object at 0x7ff8ab521ed0&gt;</pre></div></div></div><div class=\"sk-serial\"><div class=\"sk-item\"><div class=\"sk-serial\"><div class=\"sk-item\"><div class=\"sk-estimator sk-toggleable\"><input class=\"sk-toggleable__control sk-hidden--visually\" id=\"2877d342-f036-47f0-8663-f14d23818843\" type=\"checkbox\" ><label for=\"2877d342-f036-47f0-8663-f14d23818843\" class=\"sk-toggleable__label sk-toggleable__label-arrow\">SimpleImputer</label><div class=\"sk-toggleable__content\"><pre>SimpleImputer()</pre></div></div></div><div class=\"sk-item\"><div class=\"sk-estimator sk-toggleable\"><input class=\"sk-toggleable__control sk-hidden--visually\" id=\"f0194751-1608-4ff5-9d06-fa4e69b80cfe\" type=\"checkbox\" ><label for=\"f0194751-1608-4ff5-9d06-fa4e69b80cfe\" class=\"sk-toggleable__label sk-toggleable__label-arrow\">StandardScaler</label><div class=\"sk-toggleable__content\"><pre>StandardScaler()</pre></div></div></div></div></div></div></div></div><div class=\"sk-parallel-item\"><div class=\"sk-item\"><div class=\"sk-label-container\"><div class=\"sk-label sk-toggleable\"><input class=\"sk-toggleable__control sk-hidden--visually\" id=\"a8261b63-881e-43b2-b349-87f640bf4843\" type=\"checkbox\" ><label for=\"a8261b63-881e-43b2-b349-87f640bf4843\" class=\"sk-toggleable__label sk-toggleable__label-arrow\">remainder</label><div class=\"sk-toggleable__content\"><pre>[]</pre></div></div></div><div class=\"sk-serial\"><div class=\"sk-item\"><div class=\"sk-estimator sk-toggleable\"><input class=\"sk-toggleable__control sk-hidden--visually\" id=\"144f485e-efa0-439d-8d3e-a5d7c7bdb86a\" type=\"checkbox\" ><label for=\"144f485e-efa0-439d-8d3e-a5d7c7bdb86a\" class=\"sk-toggleable__label sk-toggleable__label-arrow\">passthrough</label><div class=\"sk-toggleable__content\"><pre>passthrough</pre></div></div></div></div></div></div></div></div></div></div>"
            ]
          },
          "metadata": {},
          "execution_count": 24
        }
      ]
    },
    {
      "cell_type": "markdown",
      "source": [
        "Logistic Regression Model (L1 Tuning)"
      ],
      "metadata": {
        "id": "k-uaSwdlU8p_"
      }
    },
    {
      "cell_type": "code",
      "source": [
        "logreg = LogisticRegression(max_iter=1000)\n",
        "logreg_pipe = make_pipeline(preprocessor, logreg)\n",
        "logreg_pipe.fit(X_train, y_train)\n",
        "print(logreg_pipe.score(X_train, y_train))\n",
        "print(logreg_pipe.score(X_test, y_test))"
      ],
      "metadata": {
        "colab": {
          "base_uri": "https://localhost:8080/"
        },
        "id": "b-493F7qY-aZ",
        "outputId": "a176646a-864c-4cad-986b-059cec31399b"
      },
      "execution_count": null,
      "outputs": [
        {
          "output_type": "stream",
          "name": "stdout",
          "text": [
            "0.8075333333333333\n",
            "0.8012\n"
          ]
        }
      ]
    },
    {
      "cell_type": "markdown",
      "source": [
        "The model determines the highest value would be when c = 1."
      ],
      "metadata": {
        "id": "e3WOM0DxKRKa"
      }
    },
    {
      "cell_type": "code",
      "source": [
        "c_values = [0.00001, 0.0001, 0.001, 0.01, 0.1, 1, 10, 100, 1000, 10000]\n",
        "train_score = []\n",
        "test_score = []\n",
        "\n",
        "for c in c_values:\n",
        "  logreg_l1 = LogisticRegression(C=c, max_iter=1000, solver='liblinear', penalty='l1')\n",
        "  logreg_l1_pipe = make_pipeline(preprocessor, logreg_l1)\n",
        "  logreg_l1_pipe.fit(X_train, y_train)\n",
        "\n",
        "  train_score.append(logreg_l1_pipe.score(X_train, y_train))\n",
        "  test_score.append(logreg_l1_pipe.score(X_test, y_test))\n",
        "\n",
        "fig, ax = plt.subplots(1,1)\n",
        "ax.plot(c_values, train_score, label='Train Recall')\n",
        "ax.plot(c_values, test_score, label='Test Recall')\n",
        "ax.set_xticks(c_values)\n",
        "ax.legend()\n",
        "ax.set_xscale('log')\n",
        "{c:score for c, score in zip(c_values, test_score)}"
      ],
      "metadata": {
        "colab": {
          "base_uri": "https://localhost:8080/",
          "height": 1000
        },
        "id": "3_Fcz62SZOdh",
        "outputId": "c79bbaeb-ac34-4953-a347-14aea3a6e828"
      },
      "execution_count": null,
      "outputs": [
        {
          "output_type": "execute_result",
          "data": {
            "text/plain": [
              "{1e-05: 0.7996,\n",
              " 0.0001: 0.7996,\n",
              " 0.001: 0.7996,\n",
              " 0.01: 0.802,\n",
              " 0.1: 0.801,\n",
              " 1: 0.8016,\n",
              " 10: 0.8012,\n",
              " 100: 0.8012,\n",
              " 1000: 0.8012,\n",
              " 10000: 0.8012}"
            ]
          },
          "metadata": {},
          "execution_count": 26
        },
        {
          "output_type": "display_data",
          "data": {
            "text/plain": [
              "<Figure size 1440x1080 with 1 Axes>"
            ],
            "image/png": "[encoded data removed]"
          },
          "metadata": {}
        }
      ]
    },
    {
      "cell_type": "code",
      "source": [
        "l1_01 = LogisticRegression(C=1, max_iter=1000, solver='liblinear', penalty='l1')\n",
        "l1_01_pipe = make_pipeline(preprocessor, l1_01)\n",
        "l1_01_pipe.fit(X_train, y_train)"
      ],
      "metadata": {
        "colab": {
          "base_uri": "https://localhost:8080/",
          "height": 227
        },
        "id": "Xtfp7B-pZu6q",
        "outputId": "e330a767-4e46-40b2-b7b8-fde25ba938b8"
      },
      "execution_count": null,
      "outputs": [
        {
          "output_type": "execute_result",
          "data": {
            "text/plain": [
              "Pipeline(steps=[('columntransformer',\n",
              "                 ColumnTransformer(remainder='passthrough',\n",
              "                                   transformers=[('pipeline-1',\n",
              "                                                  Pipeline(steps=[('simpleimputer',\n",
              "                                                                   SimpleImputer(strategy='most_frequent')),\n",
              "                                                                  ('onehotencoder',\n",
              "                                                                   OneHotEncoder(handle_unknown='ignore',\n",
              "                                                                                 sparse=False))]),\n",
              "                                                  <sklearn.compose._column_transformer.make_column_selector object at 0x7ff8ab5212d0>),\n",
              "                                                 ('pipeline-2',\n",
              "                                                  Pipeline(steps=[('simpleimputer',\n",
              "                                                                   SimpleImputer()),\n",
              "                                                                  ('standardscaler',\n",
              "                                                                   StandardScaler())]),\n",
              "                                                  <sklearn.compose._column_transformer.make_column_selector object at 0x7ff8ab521ed0>)])),\n",
              "                ('logisticregression',\n",
              "                 LogisticRegression(C=1, max_iter=1000, penalty='l1',\n",
              "                                    solver='liblinear'))])"
            ],
            "text/html": [
              "<style>#sk-b1470556-cf57-4398-a206-829a73f3e4b9 {color: black;background-color: white;}#sk-b1470556-cf57-4398-a206-829a73f3e4b9 pre{padding: 0;}#sk-b1470556-cf57-4398-a206-829a73f3e4b9 div.sk-toggleable {background-color: white;}#sk-b1470556-cf57-4398-a206-829a73f3e4b9 label.sk-toggleable__label {cursor: pointer;display: block;width: 100%;margin-bottom: 0;padding: 0.3em;box-sizing: border-box;text-align: center;}#sk-b1470556-cf57-4398-a206-829a73f3e4b9 label.sk-toggleable__label-arrow:before {content: \"▸\";float: left;margin-right: 0.25em;color: #696969;}#sk-b1470556-cf57-4398-a206-829a73f3e4b9 label.sk-toggleable__label-arrow:hover:before {color: black;}#sk-b1470556-cf57-4398-a206-829a73f3e4b9 div.sk-estimator:hover label.sk-toggleable__label-arrow:before {color: black;}#sk-b1470556-cf57-4398-a206-829a73f3e4b9 div.sk-toggleable__content {max-height: 0;max-width: 0;overflow: hidden;text-align: left;background-color: #f0f8ff;}#sk-b1470556-cf57-4398-a206-829a73f3e4b9 div.sk-toggleable__content pre {margin: 0.2em;color: black;border-radius: 0.25em;background-color: #f0f8ff;}#sk-b1470556-cf57-4398-a206-829a73f3e4b9 input.sk-toggleable__control:checked~div.sk-toggleable__content {max-height: 200px;max-width: 100%;overflow: auto;}#sk-b1470556-cf57-4398-a206-829a73f3e4b9 input.sk-toggleable__control:checked~label.sk-toggleable__label-arrow:before {content: \"▾\";}#sk-b1470556-cf57-4398-a206-829a73f3e4b9 div.sk-estimator input.sk-toggleable__control:checked~label.sk-toggleable__label {background-color: #d4ebff;}#sk-b1470556-cf57-4398-a206-829a73f3e4b9 div.sk-label input.sk-toggleable__control:checked~label.sk-toggleable__label {background-color: #d4ebff;}#sk-b1470556-cf57-4398-a206-829a73f3e4b9 input.sk-hidden--visually {border: 0;clip: rect(1px 1px 1px 1px);clip: rect(1px, 1px, 1px, 1px);height: 1px;margin: -1px;overflow: hidden;padding: 0;position: absolute;width: 1px;}#sk-b1470556-cf57-4398-a206-829a73f3e4b9 div.sk-estimator {font-family: monospace;background-color: #f0f8ff;border: 1px dotted black;border-radius: 0.25em;box-sizing: border-box;margin-bottom: 0.5em;}#sk-b1470556-cf57-4398-a206-829a73f3e4b9 div.sk-estimator:hover {background-color: #d4ebff;}#sk-b1470556-cf57-4398-a206-829a73f3e4b9 div.sk-parallel-item::after {content: \"\";width: 100%;border-bottom: 1px solid gray;flex-grow: 1;}#sk-b1470556-cf57-4398-a206-829a73f3e4b9 div.sk-label:hover label.sk-toggleable__label {background-color: #d4ebff;}#sk-b1470556-cf57-4398-a206-829a73f3e4b9 div.sk-serial::before {content: \"\";position: absolute;border-left: 1px solid gray;box-sizing: border-box;top: 2em;bottom: 0;left: 50%;}#sk-b1470556-cf57-4398-a206-829a73f3e4b9 div.sk-serial {display: flex;flex-direction: column;align-items: center;background-color: white;padding-right: 0.2em;padding-left: 0.2em;}#sk-b1470556-cf57-4398-a206-829a73f3e4b9 div.sk-item {z-index: 1;}#sk-b1470556-cf57-4398-a206-829a73f3e4b9 div.sk-parallel {display: flex;align-items: stretch;justify-content: center;background-color: white;}#sk-b1470556-cf57-4398-a206-829a73f3e4b9 div.sk-parallel::before {content: \"\";position: absolute;border-left: 1px solid gray;box-sizing: border-box;top: 2em;bottom: 0;left: 50%;}#sk-b1470556-cf57-4398-a206-829a73f3e4b9 div.sk-parallel-item {display: flex;flex-direction: column;position: relative;background-color: white;}#sk-b1470556-cf57-4398-a206-829a73f3e4b9 div.sk-parallel-item:first-child::after {align-self: flex-end;width: 50%;}#sk-b1470556-cf57-4398-a206-829a73f3e4b9 div.sk-parallel-item:last-child::after {align-self: flex-start;width: 50%;}#sk-b1470556-cf57-4398-a206-829a73f3e4b9 div.sk-parallel-item:only-child::after {width: 0;}#sk-b1470556-cf57-4398-a206-829a73f3e4b9 div.sk-dashed-wrapped {border: 1px dashed gray;margin: 0 0.4em 0.5em 0.4em;box-sizing: border-box;padding-bottom: 0.4em;background-color: white;position: relative;}#sk-b1470556-cf57-4398-a206-829a73f3e4b9 div.sk-label label {font-family: monospace;font-weight: bold;background-color: white;display: inline-block;line-height: 1.2em;}#sk-b1470556-cf57-4398-a206-829a73f3e4b9 div.sk-label-container {position: relative;z-index: 2;text-align: center;}#sk-b1470556-cf57-4398-a206-829a73f3e4b9 div.sk-container {/* jupyter's `normalize.less` sets `[hidden] { display: none; }` but bootstrap.min.css set `[hidden] { display: none !important; }` so we also need the `!important` here to be able to override the default hidden behavior on the sphinx rendered scikit-learn.org. See: https://github.com/scikit-learn/scikit-learn/issues/21755 */display: inline-block !important;position: relative;}#sk-b1470556-cf57-4398-a206-829a73f3e4b9 div.sk-text-repr-fallback {display: none;}</style><div id=\"sk-b1470556-cf57-4398-a206-829a73f3e4b9\" class=\"sk-top-container\"><div class=\"sk-text-repr-fallback\"><pre>Pipeline(steps=[(&#x27;columntransformer&#x27;,\n",
              "                 ColumnTransformer(remainder=&#x27;passthrough&#x27;,\n",
              "                                   transformers=[(&#x27;pipeline-1&#x27;,\n",
              "                                                  Pipeline(steps=[(&#x27;simpleimputer&#x27;,\n",
              "                                                                   SimpleImputer(strategy=&#x27;most_frequent&#x27;)),\n",
              "                                                                  (&#x27;onehotencoder&#x27;,\n",
              "                                                                   OneHotEncoder(handle_unknown=&#x27;ignore&#x27;,\n",
              "                                                                                 sparse=False))]),\n",
              "                                                  &lt;sklearn.compose._column_transformer.make_column_selector object at 0x7ff8ab5212d0&gt;),\n",
              "                                                 (&#x27;pipeline-2&#x27;,\n",
              "                                                  Pipeline(steps=[(&#x27;simpleimputer&#x27;,\n",
              "                                                                   SimpleImputer()),\n",
              "                                                                  (&#x27;standardscaler&#x27;,\n",
              "                                                                   StandardScaler())]),\n",
              "                                                  &lt;sklearn.compose._column_transformer.make_column_selector object at 0x7ff8ab521ed0&gt;)])),\n",
              "                (&#x27;logisticregression&#x27;,\n",
              "                 LogisticRegression(C=1, max_iter=1000, penalty=&#x27;l1&#x27;,\n",
              "                                    solver=&#x27;liblinear&#x27;))])</pre><b>Please rerun this cell to show the HTML repr or trust the notebook.</b></div><div class=\"sk-container\" hidden><div class=\"sk-item sk-dashed-wrapped\"><div class=\"sk-label-container\"><div class=\"sk-label sk-toggleable\"><input class=\"sk-toggleable__control sk-hidden--visually\" id=\"de208b4e-6a3c-495e-8781-deb8c4775d24\" type=\"checkbox\" ><label for=\"de208b4e-6a3c-495e-8781-deb8c4775d24\" class=\"sk-toggleable__label sk-toggleable__label-arrow\">Pipeline</label><div class=\"sk-toggleable__content\"><pre>Pipeline(steps=[(&#x27;columntransformer&#x27;,\n",
              "                 ColumnTransformer(remainder=&#x27;passthrough&#x27;,\n",
              "                                   transformers=[(&#x27;pipeline-1&#x27;,\n",
              "                                                  Pipeline(steps=[(&#x27;simpleimputer&#x27;,\n",
              "                                                                   SimpleImputer(strategy=&#x27;most_frequent&#x27;)),\n",
              "                                                                  (&#x27;onehotencoder&#x27;,\n",
              "                                                                   OneHotEncoder(handle_unknown=&#x27;ignore&#x27;,\n",
              "                                                                                 sparse=False))]),\n",
              "                                                  &lt;sklearn.compose._column_transformer.make_column_selector object at 0x7ff8ab5212d0&gt;),\n",
              "                                                 (&#x27;pipeline-2&#x27;,\n",
              "                                                  Pipeline(steps=[(&#x27;simpleimputer&#x27;,\n",
              "                                                                   SimpleImputer()),\n",
              "                                                                  (&#x27;standardscaler&#x27;,\n",
              "                                                                   StandardScaler())]),\n",
              "                                                  &lt;sklearn.compose._column_transformer.make_column_selector object at 0x7ff8ab521ed0&gt;)])),\n",
              "                (&#x27;logisticregression&#x27;,\n",
              "                 LogisticRegression(C=1, max_iter=1000, penalty=&#x27;l1&#x27;,\n",
              "                                    solver=&#x27;liblinear&#x27;))])</pre></div></div></div><div class=\"sk-serial\"><div class=\"sk-item sk-dashed-wrapped\"><div class=\"sk-label-container\"><div class=\"sk-label sk-toggleable\"><input class=\"sk-toggleable__control sk-hidden--visually\" id=\"08278b12-0022-49ee-8e1a-a88ce3a0f152\" type=\"checkbox\" ><label for=\"08278b12-0022-49ee-8e1a-a88ce3a0f152\" class=\"sk-toggleable__label sk-toggleable__label-arrow\">columntransformer: ColumnTransformer</label><div class=\"sk-toggleable__content\"><pre>ColumnTransformer(remainder=&#x27;passthrough&#x27;,\n",
              "                  transformers=[(&#x27;pipeline-1&#x27;,\n",
              "                                 Pipeline(steps=[(&#x27;simpleimputer&#x27;,\n",
              "                                                  SimpleImputer(strategy=&#x27;most_frequent&#x27;)),\n",
              "                                                 (&#x27;onehotencoder&#x27;,\n",
              "                                                  OneHotEncoder(handle_unknown=&#x27;ignore&#x27;,\n",
              "                                                                sparse=False))]),\n",
              "                                 &lt;sklearn.compose._column_transformer.make_column_selector object at 0x7ff8ab5212d0&gt;),\n",
              "                                (&#x27;pipeline-2&#x27;,\n",
              "                                 Pipeline(steps=[(&#x27;simpleimputer&#x27;,\n",
              "                                                  SimpleImputer()),\n",
              "                                                 (&#x27;standardscaler&#x27;,\n",
              "                                                  StandardScaler())]),\n",
              "                                 &lt;sklearn.compose._column_transformer.make_column_selector object at 0x7ff8ab521ed0&gt;)])</pre></div></div></div><div class=\"sk-parallel\"><div class=\"sk-parallel-item\"><div class=\"sk-item\"><div class=\"sk-label-container\"><div class=\"sk-label sk-toggleable\"><input class=\"sk-toggleable__control sk-hidden--visually\" id=\"bbc5dd55-d253-4067-8f82-980ce48fd5b5\" type=\"checkbox\" ><label for=\"bbc5dd55-d253-4067-8f82-980ce48fd5b5\" class=\"sk-toggleable__label sk-toggleable__label-arrow\">pipeline-1</label><div class=\"sk-toggleable__content\"><pre>&lt;sklearn.compose._column_transformer.make_column_selector object at 0x7ff8ab5212d0&gt;</pre></div></div></div><div class=\"sk-serial\"><div class=\"sk-item\"><div class=\"sk-serial\"><div class=\"sk-item\"><div class=\"sk-estimator sk-toggleable\"><input class=\"sk-toggleable__control sk-hidden--visually\" id=\"30344897-848c-42ea-b330-e320fd42b090\" type=\"checkbox\" ><label for=\"30344897-848c-42ea-b330-e320fd42b090\" class=\"sk-toggleable__label sk-toggleable__label-arrow\">SimpleImputer</label><div class=\"sk-toggleable__content\"><pre>SimpleImputer(strategy=&#x27;most_frequent&#x27;)</pre></div></div></div><div class=\"sk-item\"><div class=\"sk-estimator sk-toggleable\"><input class=\"sk-toggleable__control sk-hidden--visually\" id=\"3a93bd7b-2fb2-4be4-8a20-35400679f5c5\" type=\"checkbox\" ><label for=\"3a93bd7b-2fb2-4be4-8a20-35400679f5c5\" class=\"sk-toggleable__label sk-toggleable__label-arrow\">OneHotEncoder</label><div class=\"sk-toggleable__content\"><pre>OneHotEncoder(handle_unknown=&#x27;ignore&#x27;, sparse=False)</pre></div></div></div></div></div></div></div></div><div class=\"sk-parallel-item\"><div class=\"sk-item\"><div class=\"sk-label-container\"><div class=\"sk-label sk-toggleable\"><input class=\"sk-toggleable__control sk-hidden--visually\" id=\"aca3850a-8df0-4b53-a5a7-38ff2c2bfa10\" type=\"checkbox\" ><label for=\"aca3850a-8df0-4b53-a5a7-38ff2c2bfa10\" class=\"sk-toggleable__label sk-toggleable__label-arrow\">pipeline-2</label><div class=\"sk-toggleable__content\"><pre>&lt;sklearn.compose._column_transformer.make_column_selector object at 0x7ff8ab521ed0&gt;</pre></div></div></div><div class=\"sk-serial\"><div class=\"sk-item\"><div class=\"sk-serial\"><div class=\"sk-item\"><div class=\"sk-estimator sk-toggleable\"><input class=\"sk-toggleable__control sk-hidden--visually\" id=\"b1decf17-a1c0-4576-82a8-9e4472539e3b\" type=\"checkbox\" ><label for=\"b1decf17-a1c0-4576-82a8-9e4472539e3b\" class=\"sk-toggleable__label sk-toggleable__label-arrow\">SimpleImputer</label><div class=\"sk-toggleable__content\"><pre>SimpleImputer()</pre></div></div></div><div class=\"sk-item\"><div class=\"sk-estimator sk-toggleable\"><input class=\"sk-toggleable__control sk-hidden--visually\" id=\"c2dc826a-dbaa-47dd-ac9c-f6ae769a1190\" type=\"checkbox\" ><label for=\"c2dc826a-dbaa-47dd-ac9c-f6ae769a1190\" class=\"sk-toggleable__label sk-toggleable__label-arrow\">StandardScaler</label><div class=\"sk-toggleable__content\"><pre>StandardScaler()</pre></div></div></div></div></div></div></div></div><div class=\"sk-parallel-item\"><div class=\"sk-item\"><div class=\"sk-label-container\"><div class=\"sk-label sk-toggleable\"><input class=\"sk-toggleable__control sk-hidden--visually\" id=\"e4ee36db-86cb-4c3e-bae2-a15abd12228e\" type=\"checkbox\" ><label for=\"e4ee36db-86cb-4c3e-bae2-a15abd12228e\" class=\"sk-toggleable__label sk-toggleable__label-arrow\">remainder</label><div class=\"sk-toggleable__content\"><pre>[]</pre></div></div></div><div class=\"sk-serial\"><div class=\"sk-item\"><div class=\"sk-estimator sk-toggleable\"><input class=\"sk-toggleable__control sk-hidden--visually\" id=\"e2ca1551-ced6-4a81-962b-35d33ded6ffc\" type=\"checkbox\" ><label for=\"e2ca1551-ced6-4a81-962b-35d33ded6ffc\" class=\"sk-toggleable__label sk-toggleable__label-arrow\">passthrough</label><div class=\"sk-toggleable__content\"><pre>passthrough</pre></div></div></div></div></div></div></div></div><div class=\"sk-item\"><div class=\"sk-estimator sk-toggleable\"><input class=\"sk-toggleable__control sk-hidden--visually\" id=\"cc006d45-a4a8-4c1e-aae2-1e9f0ac65b05\" type=\"checkbox\" ><label for=\"cc006d45-a4a8-4c1e-aae2-1e9f0ac65b05\" class=\"sk-toggleable__label sk-toggleable__label-arrow\">LogisticRegression</label><div class=\"sk-toggleable__content\"><pre>LogisticRegression(C=1, max_iter=1000, penalty=&#x27;l1&#x27;, solver=&#x27;liblinear&#x27;)</pre></div></div></div></div></div></div></div>"
            ]
          },
          "metadata": {},
          "execution_count": 27
        }
      ]
    },
    {
      "cell_type": "code",
      "source": [
        "l1_pred = l1_01_pipe.predict(X_test)\n",
        "l1_pred"
      ],
      "metadata": {
        "colab": {
          "base_uri": "https://localhost:8080/"
        },
        "id": "fObfvKx_bV2Y",
        "outputId": "55609439-7e1e-469f-e4fc-a6c4ccabc30f"
      },
      "execution_count": null,
      "outputs": [
        {
          "output_type": "execute_result",
          "data": {
            "text/plain": [
              "array([0, 0, 0, ..., 0, 0, 0])"
            ]
          },
          "metadata": {},
          "execution_count": 28
        }
      ]
    },
    {
      "cell_type": "markdown",
      "source": [
        "From the Confusion Matrix below, we can see our true positives equate to 99% but our true negatives were 6.9%. The model predicted 93% of the data to have their loans paid when the loan was not paid. This can create an issue if the model were produced because Lending Tree does not want to report their borrowers have paid off their loan when they haven't. It will create confusion and frustration among the borrowers."
      ],
      "metadata": {
        "id": "yVnLRUKwKeXJ"
      }
    },
    {
      "cell_type": "code",
      "source": [
        "labels=['Paid', 'Not Paid']\n",
        "ConfusionMatrixDisplay.from_predictions(y_test, l1_pred, display_labels = \n",
        "                                        labels, cmap='Reds', normalize='true');"
      ],
      "metadata": {
        "colab": {
          "base_uri": "https://localhost:8080/",
          "height": 883
        },
        "id": "Y3PjAebzbbEj",
        "outputId": "7158570b-0621-440b-ff0a-11521de8e4b1"
      },
      "execution_count": null,
      "outputs": [
        {
          "output_type": "display_data",
          "data": {
            "text/plain": [
              "<Figure size 1440x1080 with 2 Axes>"
            ],
            "image/png": "[encoded data removed]"
          },
          "metadata": {}
        }
      ]
    },
    {
      "cell_type": "code",
      "source": [
        "print('Classification Report for Training Set')\n",
        "logreg_l1_report = classification_report(y_test, l1_pred)\n",
        "print(logreg_l1_report)"
      ],
      "metadata": {
        "colab": {
          "base_uri": "https://localhost:8080/"
        },
        "id": "auWBO-Zgbws2",
        "outputId": "6fb65302-1b0a-44a1-996d-a4c14255851f"
      },
      "execution_count": null,
      "outputs": [
        {
          "output_type": "stream",
          "name": "stdout",
          "text": [
            "Classification Report for Training Set\n",
            "              precision    recall  f1-score   support\n",
            "\n",
            "           0       0.81      0.99      0.89      3998\n",
            "           1       0.54      0.07      0.12      1002\n",
            "\n",
            "    accuracy                           0.80      5000\n",
            "   macro avg       0.67      0.53      0.51      5000\n",
            "weighted avg       0.75      0.80      0.73      5000\n",
            "\n"
          ]
        }
      ]
    },
    {
      "cell_type": "markdown",
      "source": [
        "Logistic Regression Model (L2 Tuning)\n",
        "\n",
        "The model determines the highest value would be when c = 0.1."
      ],
      "metadata": {
        "id": "EO4sVjloMEtY"
      }
    },
    {
      "cell_type": "code",
      "source": [
        "c_values = [0.00001, 0.0001, 0.001, 0.01, 0.1, 1, 10, 100, 1000, 10000]\n",
        "train_score = []\n",
        "test_score = []\n",
        "\n",
        "for c in c_values:\n",
        "  logreg_l2 = LogisticRegression(C=c, max_iter=1000, solver='liblinear', penalty='l2')\n",
        "  logreg_l2_pipe = make_pipeline(preprocessor, logreg_l2)\n",
        "  logreg_l2_pipe.fit(X_train, y_train)\n",
        "\n",
        "  train_score.append(logreg_l2_pipe.score(X_train, y_train))\n",
        "  test_score.append(logreg_l2_pipe.score(X_test, y_test))\n",
        "\n",
        "fig, ax = plt.subplots(1,1)\n",
        "ax.plot(c_values, train_score, label='Train Accuracy')\n",
        "ax.plot(c_values, test_score, label='Test Accuracy')\n",
        "ax.set_xticks(c_values)\n",
        "ax.legend()\n",
        "ax.set_xscale('log')\n",
        "{c:score for c, score in zip(c_values, test_score)}"
      ],
      "metadata": {
        "colab": {
          "base_uri": "https://localhost:8080/",
          "height": 1000
        },
        "id": "F8GyTK2rb01E",
        "outputId": "74831133-2503-47a1-a54d-329cbef75075"
      },
      "execution_count": null,
      "outputs": [
        {
          "output_type": "execute_result",
          "data": {
            "text/plain": [
              "{1e-05: 0.8008,\n",
              " 0.0001: 0.8012,\n",
              " 0.001: 0.803,\n",
              " 0.01: 0.8004,\n",
              " 0.1: 0.8016,\n",
              " 1: 0.8012,\n",
              " 10: 0.8012,\n",
              " 100: 0.8012,\n",
              " 1000: 0.8012,\n",
              " 10000: 0.8012}"
            ]
          },
          "metadata": {},
          "execution_count": 31
        },
        {
          "output_type": "display_data",
          "data": {
            "text/plain": [
              "<Figure size 1440x1080 with 1 Axes>"
            ],
            "image/png": "[encoded data removed]"
          },
          "metadata": {}
        }
      ]
    },
    {
      "cell_type": "code",
      "source": [
        "l2_01 = LogisticRegression(C=0.1, max_iter=1000, solver='liblinear', penalty='l2')\n",
        "l2_01_pipe = make_pipeline(preprocessor, l2_01)\n",
        "l2_01_pipe.fit(X_train, y_train)"
      ],
      "metadata": {
        "colab": {
          "base_uri": "https://localhost:8080/",
          "height": 227
        },
        "id": "4q6twDaub6wf",
        "outputId": "b3106936-3dcd-4eea-fbe2-08383a4eb224"
      },
      "execution_count": null,
      "outputs": [
        {
          "output_type": "execute_result",
          "data": {
            "text/plain": [
              "Pipeline(steps=[('columntransformer',\n",
              "                 ColumnTransformer(remainder='passthrough',\n",
              "                                   transformers=[('pipeline-1',\n",
              "                                                  Pipeline(steps=[('simpleimputer',\n",
              "                                                                   SimpleImputer(strategy='most_frequent')),\n",
              "                                                                  ('onehotencoder',\n",
              "                                                                   OneHotEncoder(handle_unknown='ignore',\n",
              "                                                                                 sparse=False))]),\n",
              "                                                  <sklearn.compose._column_transformer.make_column_selector object at 0x7ff8ab5212d0>),\n",
              "                                                 ('pipeline-2',\n",
              "                                                  Pipeline(steps=[('simpleimputer',\n",
              "                                                                   SimpleImputer()),\n",
              "                                                                  ('standardscaler',\n",
              "                                                                   StandardScaler())]),\n",
              "                                                  <sklearn.compose._column_transformer.make_column_selector object at 0x7ff8ab521ed0>)])),\n",
              "                ('logisticregression',\n",
              "                 LogisticRegression(C=0.1, max_iter=1000, solver='liblinear'))])"
            ],
            "text/html": [
              "<style>#sk-ae360a40-33a6-47ae-9e3c-8408aa0f0f14 {color: black;background-color: white;}#sk-ae360a40-33a6-47ae-9e3c-8408aa0f0f14 pre{padding: 0;}#sk-ae360a40-33a6-47ae-9e3c-8408aa0f0f14 div.sk-toggleable {background-color: white;}#sk-ae360a40-33a6-47ae-9e3c-8408aa0f0f14 label.sk-toggleable__label {cursor: pointer;display: block;width: 100%;margin-bottom: 0;padding: 0.3em;box-sizing: border-box;text-align: center;}#sk-ae360a40-33a6-47ae-9e3c-8408aa0f0f14 label.sk-toggleable__label-arrow:before {content: \"▸\";float: left;margin-right: 0.25em;color: #696969;}#sk-ae360a40-33a6-47ae-9e3c-8408aa0f0f14 label.sk-toggleable__label-arrow:hover:before {color: black;}#sk-ae360a40-33a6-47ae-9e3c-8408aa0f0f14 div.sk-estimator:hover label.sk-toggleable__label-arrow:before {color: black;}#sk-ae360a40-33a6-47ae-9e3c-8408aa0f0f14 div.sk-toggleable__content {max-height: 0;max-width: 0;overflow: hidden;text-align: left;background-color: #f0f8ff;}#sk-ae360a40-33a6-47ae-9e3c-8408aa0f0f14 div.sk-toggleable__content pre {margin: 0.2em;color: black;border-radius: 0.25em;background-color: #f0f8ff;}#sk-ae360a40-33a6-47ae-9e3c-8408aa0f0f14 input.sk-toggleable__control:checked~div.sk-toggleable__content {max-height: 200px;max-width: 100%;overflow: auto;}#sk-ae360a40-33a6-47ae-9e3c-8408aa0f0f14 input.sk-toggleable__control:checked~label.sk-toggleable__label-arrow:before {content: \"▾\";}#sk-ae360a40-33a6-47ae-9e3c-8408aa0f0f14 div.sk-estimator input.sk-toggleable__control:checked~label.sk-toggleable__label {background-color: #d4ebff;}#sk-ae360a40-33a6-47ae-9e3c-8408aa0f0f14 div.sk-label input.sk-toggleable__control:checked~label.sk-toggleable__label {background-color: #d4ebff;}#sk-ae360a40-33a6-47ae-9e3c-8408aa0f0f14 input.sk-hidden--visually {border: 0;clip: rect(1px 1px 1px 1px);clip: rect(1px, 1px, 1px, 1px);height: 1px;margin: -1px;overflow: hidden;padding: 0;position: absolute;width: 1px;}#sk-ae360a40-33a6-47ae-9e3c-8408aa0f0f14 div.sk-estimator {font-family: monospace;background-color: #f0f8ff;border: 1px dotted black;border-radius: 0.25em;box-sizing: border-box;margin-bottom: 0.5em;}#sk-ae360a40-33a6-47ae-9e3c-8408aa0f0f14 div.sk-estimator:hover {background-color: #d4ebff;}#sk-ae360a40-33a6-47ae-9e3c-8408aa0f0f14 div.sk-parallel-item::after {content: \"\";width: 100%;border-bottom: 1px solid gray;flex-grow: 1;}#sk-ae360a40-33a6-47ae-9e3c-8408aa0f0f14 div.sk-label:hover label.sk-toggleable__label {background-color: #d4ebff;}#sk-ae360a40-33a6-47ae-9e3c-8408aa0f0f14 div.sk-serial::before {content: \"\";position: absolute;border-left: 1px solid gray;box-sizing: border-box;top: 2em;bottom: 0;left: 50%;}#sk-ae360a40-33a6-47ae-9e3c-8408aa0f0f14 div.sk-serial {display: flex;flex-direction: column;align-items: center;background-color: white;padding-right: 0.2em;padding-left: 0.2em;}#sk-ae360a40-33a6-47ae-9e3c-8408aa0f0f14 div.sk-item {z-index: 1;}#sk-ae360a40-33a6-47ae-9e3c-8408aa0f0f14 div.sk-parallel {display: flex;align-items: stretch;justify-content: center;background-color: white;}#sk-ae360a40-33a6-47ae-9e3c-8408aa0f0f14 div.sk-parallel::before {content: \"\";position: absolute;border-left: 1px solid gray;box-sizing: border-box;top: 2em;bottom: 0;left: 50%;}#sk-ae360a40-33a6-47ae-9e3c-8408aa0f0f14 div.sk-parallel-item {display: flex;flex-direction: column;position: relative;background-color: white;}#sk-ae360a40-33a6-47ae-9e3c-8408aa0f0f14 div.sk-parallel-item:first-child::after {align-self: flex-end;width: 50%;}#sk-ae360a40-33a6-47ae-9e3c-8408aa0f0f14 div.sk-parallel-item:last-child::after {align-self: flex-start;width: 50%;}#sk-ae360a40-33a6-47ae-9e3c-8408aa0f0f14 div.sk-parallel-item:only-child::after {width: 0;}#sk-ae360a40-33a6-47ae-9e3c-8408aa0f0f14 div.sk-dashed-wrapped {border: 1px dashed gray;margin: 0 0.4em 0.5em 0.4em;box-sizing: border-box;padding-bottom: 0.4em;background-color: white;position: relative;}#sk-ae360a40-33a6-47ae-9e3c-8408aa0f0f14 div.sk-label label {font-family: monospace;font-weight: bold;background-color: white;display: inline-block;line-height: 1.2em;}#sk-ae360a40-33a6-47ae-9e3c-8408aa0f0f14 div.sk-label-container {position: relative;z-index: 2;text-align: center;}#sk-ae360a40-33a6-47ae-9e3c-8408aa0f0f14 div.sk-container {/* jupyter's `normalize.less` sets `[hidden] { display: none; }` but bootstrap.min.css set `[hidden] { display: none !important; }` so we also need the `!important` here to be able to override the default hidden behavior on the sphinx rendered scikit-learn.org. See: https://github.com/scikit-learn/scikit-learn/issues/21755 */display: inline-block !important;position: relative;}#sk-ae360a40-33a6-47ae-9e3c-8408aa0f0f14 div.sk-text-repr-fallback {display: none;}</style><div id=\"sk-ae360a40-33a6-47ae-9e3c-8408aa0f0f14\" class=\"sk-top-container\"><div class=\"sk-text-repr-fallback\"><pre>Pipeline(steps=[(&#x27;columntransformer&#x27;,\n",
              "                 ColumnTransformer(remainder=&#x27;passthrough&#x27;,\n",
              "                                   transformers=[(&#x27;pipeline-1&#x27;,\n",
              "                                                  Pipeline(steps=[(&#x27;simpleimputer&#x27;,\n",
              "                                                                   SimpleImputer(strategy=&#x27;most_frequent&#x27;)),\n",
              "                                                                  (&#x27;onehotencoder&#x27;,\n",
              "                                                                   OneHotEncoder(handle_unknown=&#x27;ignore&#x27;,\n",
              "                                                                                 sparse=False))]),\n",
              "                                                  &lt;sklearn.compose._column_transformer.make_column_selector object at 0x7ff8ab5212d0&gt;),\n",
              "                                                 (&#x27;pipeline-2&#x27;,\n",
              "                                                  Pipeline(steps=[(&#x27;simpleimputer&#x27;,\n",
              "                                                                   SimpleImputer()),\n",
              "                                                                  (&#x27;standardscaler&#x27;,\n",
              "                                                                   StandardScaler())]),\n",
              "                                                  &lt;sklearn.compose._column_transformer.make_column_selector object at 0x7ff8ab521ed0&gt;)])),\n",
              "                (&#x27;logisticregression&#x27;,\n",
              "                 LogisticRegression(C=0.1, max_iter=1000, solver=&#x27;liblinear&#x27;))])</pre><b>Please rerun this cell to show the HTML repr or trust the notebook.</b></div><div class=\"sk-container\" hidden><div class=\"sk-item sk-dashed-wrapped\"><div class=\"sk-label-container\"><div class=\"sk-label sk-toggleable\"><input class=\"sk-toggleable__control sk-hidden--visually\" id=\"ea15b431-f16f-4045-a587-5cdd567fc00e\" type=\"checkbox\" ><label for=\"ea15b431-f16f-4045-a587-5cdd567fc00e\" class=\"sk-toggleable__label sk-toggleable__label-arrow\">Pipeline</label><div class=\"sk-toggleable__content\"><pre>Pipeline(steps=[(&#x27;columntransformer&#x27;,\n",
              "                 ColumnTransformer(remainder=&#x27;passthrough&#x27;,\n",
              "                                   transformers=[(&#x27;pipeline-1&#x27;,\n",
              "                                                  Pipeline(steps=[(&#x27;simpleimputer&#x27;,\n",
              "                                                                   SimpleImputer(strategy=&#x27;most_frequent&#x27;)),\n",
              "                                                                  (&#x27;onehotencoder&#x27;,\n",
              "                                                                   OneHotEncoder(handle_unknown=&#x27;ignore&#x27;,\n",
              "                                                                                 sparse=False))]),\n",
              "                                                  &lt;sklearn.compose._column_transformer.make_column_selector object at 0x7ff8ab5212d0&gt;),\n",
              "                                                 (&#x27;pipeline-2&#x27;,\n",
              "                                                  Pipeline(steps=[(&#x27;simpleimputer&#x27;,\n",
              "                                                                   SimpleImputer()),\n",
              "                                                                  (&#x27;standardscaler&#x27;,\n",
              "                                                                   StandardScaler())]),\n",
              "                                                  &lt;sklearn.compose._column_transformer.make_column_selector object at 0x7ff8ab521ed0&gt;)])),\n",
              "                (&#x27;logisticregression&#x27;,\n",
              "                 LogisticRegression(C=0.1, max_iter=1000, solver=&#x27;liblinear&#x27;))])</pre></div></div></div><div class=\"sk-serial\"><div class=\"sk-item sk-dashed-wrapped\"><div class=\"sk-label-container\"><div class=\"sk-label sk-toggleable\"><input class=\"sk-toggleable__control sk-hidden--visually\" id=\"e401284e-f076-4766-9c90-c1dc7a29dab6\" type=\"checkbox\" ><label for=\"e401284e-f076-4766-9c90-c1dc7a29dab6\" class=\"sk-toggleable__label sk-toggleable__label-arrow\">columntransformer: ColumnTransformer</label><div class=\"sk-toggleable__content\"><pre>ColumnTransformer(remainder=&#x27;passthrough&#x27;,\n",
              "                  transformers=[(&#x27;pipeline-1&#x27;,\n",
              "                                 Pipeline(steps=[(&#x27;simpleimputer&#x27;,\n",
              "                                                  SimpleImputer(strategy=&#x27;most_frequent&#x27;)),\n",
              "                                                 (&#x27;onehotencoder&#x27;,\n",
              "                                                  OneHotEncoder(handle_unknown=&#x27;ignore&#x27;,\n",
              "                                                                sparse=False))]),\n",
              "                                 &lt;sklearn.compose._column_transformer.make_column_selector object at 0x7ff8ab5212d0&gt;),\n",
              "                                (&#x27;pipeline-2&#x27;,\n",
              "                                 Pipeline(steps=[(&#x27;simpleimputer&#x27;,\n",
              "                                                  SimpleImputer()),\n",
              "                                                 (&#x27;standardscaler&#x27;,\n",
              "                                                  StandardScaler())]),\n",
              "                                 &lt;sklearn.compose._column_transformer.make_column_selector object at 0x7ff8ab521ed0&gt;)])</pre></div></div></div><div class=\"sk-parallel\"><div class=\"sk-parallel-item\"><div class=\"sk-item\"><div class=\"sk-label-container\"><div class=\"sk-label sk-toggleable\"><input class=\"sk-toggleable__control sk-hidden--visually\" id=\"ce9d4ad1-3f12-445b-b807-df61b56352f9\" type=\"checkbox\" ><label for=\"ce9d4ad1-3f12-445b-b807-df61b56352f9\" class=\"sk-toggleable__label sk-toggleable__label-arrow\">pipeline-1</label><div class=\"sk-toggleable__content\"><pre>&lt;sklearn.compose._column_transformer.make_column_selector object at 0x7ff8ab5212d0&gt;</pre></div></div></div><div class=\"sk-serial\"><div class=\"sk-item\"><div class=\"sk-serial\"><div class=\"sk-item\"><div class=\"sk-estimator sk-toggleable\"><input class=\"sk-toggleable__control sk-hidden--visually\" id=\"641ec0ca-d3cf-4149-ba3e-3d92bae84e50\" type=\"checkbox\" ><label for=\"641ec0ca-d3cf-4149-ba3e-3d92bae84e50\" class=\"sk-toggleable__label sk-toggleable__label-arrow\">SimpleImputer</label><div class=\"sk-toggleable__content\"><pre>SimpleImputer(strategy=&#x27;most_frequent&#x27;)</pre></div></div></div><div class=\"sk-item\"><div class=\"sk-estimator sk-toggleable\"><input class=\"sk-toggleable__control sk-hidden--visually\" id=\"095fcf2f-7a30-4976-8672-25bb3bc5b56d\" type=\"checkbox\" ><label for=\"095fcf2f-7a30-4976-8672-25bb3bc5b56d\" class=\"sk-toggleable__label sk-toggleable__label-arrow\">OneHotEncoder</label><div class=\"sk-toggleable__content\"><pre>OneHotEncoder(handle_unknown=&#x27;ignore&#x27;, sparse=False)</pre></div></div></div></div></div></div></div></div><div class=\"sk-parallel-item\"><div class=\"sk-item\"><div class=\"sk-label-container\"><div class=\"sk-label sk-toggleable\"><input class=\"sk-toggleable__control sk-hidden--visually\" id=\"66dae035-14af-402f-89f9-132ee2d903b7\" type=\"checkbox\" ><label for=\"66dae035-14af-402f-89f9-132ee2d903b7\" class=\"sk-toggleable__label sk-toggleable__label-arrow\">pipeline-2</label><div class=\"sk-toggleable__content\"><pre>&lt;sklearn.compose._column_transformer.make_column_selector object at 0x7ff8ab521ed0&gt;</pre></div></div></div><div class=\"sk-serial\"><div class=\"sk-item\"><div class=\"sk-serial\"><div class=\"sk-item\"><div class=\"sk-estimator sk-toggleable\"><input class=\"sk-toggleable__control sk-hidden--visually\" id=\"ecaca10c-2a6d-4cfc-af55-9897daf0ab8b\" type=\"checkbox\" ><label for=\"ecaca10c-2a6d-4cfc-af55-9897daf0ab8b\" class=\"sk-toggleable__label sk-toggleable__label-arrow\">SimpleImputer</label><div class=\"sk-toggleable__content\"><pre>SimpleImputer()</pre></div></div></div><div class=\"sk-item\"><div class=\"sk-estimator sk-toggleable\"><input class=\"sk-toggleable__control sk-hidden--visually\" id=\"e8cc6363-db9d-4972-954f-acf7e8a8c486\" type=\"checkbox\" ><label for=\"e8cc6363-db9d-4972-954f-acf7e8a8c486\" class=\"sk-toggleable__label sk-toggleable__label-arrow\">StandardScaler</label><div class=\"sk-toggleable__content\"><pre>StandardScaler()</pre></div></div></div></div></div></div></div></div><div class=\"sk-parallel-item\"><div class=\"sk-item\"><div class=\"sk-label-container\"><div class=\"sk-label sk-toggleable\"><input class=\"sk-toggleable__control sk-hidden--visually\" id=\"3de3a2f8-59ff-4a07-aa3d-58aa584b1930\" type=\"checkbox\" ><label for=\"3de3a2f8-59ff-4a07-aa3d-58aa584b1930\" class=\"sk-toggleable__label sk-toggleable__label-arrow\">remainder</label><div class=\"sk-toggleable__content\"><pre>[]</pre></div></div></div><div class=\"sk-serial\"><div class=\"sk-item\"><div class=\"sk-estimator sk-toggleable\"><input class=\"sk-toggleable__control sk-hidden--visually\" id=\"706c39e1-7359-486b-b4e4-fe4c5799db56\" type=\"checkbox\" ><label for=\"706c39e1-7359-486b-b4e4-fe4c5799db56\" class=\"sk-toggleable__label sk-toggleable__label-arrow\">passthrough</label><div class=\"sk-toggleable__content\"><pre>passthrough</pre></div></div></div></div></div></div></div></div><div class=\"sk-item\"><div class=\"sk-estimator sk-toggleable\"><input class=\"sk-toggleable__control sk-hidden--visually\" id=\"d9dbac24-e524-4509-b8fe-c2e98a6a04df\" type=\"checkbox\" ><label for=\"d9dbac24-e524-4509-b8fe-c2e98a6a04df\" class=\"sk-toggleable__label sk-toggleable__label-arrow\">LogisticRegression</label><div class=\"sk-toggleable__content\"><pre>LogisticRegression(C=0.1, max_iter=1000, solver=&#x27;liblinear&#x27;)</pre></div></div></div></div></div></div></div>"
            ]
          },
          "metadata": {},
          "execution_count": 32
        }
      ]
    },
    {
      "cell_type": "code",
      "source": [
        "l2_pred = l2_01_pipe.predict(X_test)\n",
        "l2_pred"
      ],
      "metadata": {
        "colab": {
          "base_uri": "https://localhost:8080/"
        },
        "id": "AqIFZNRbcEF4",
        "outputId": "87ade0ef-6c0d-44ea-a64a-ba784c2883d7"
      },
      "execution_count": null,
      "outputs": [
        {
          "output_type": "execute_result",
          "data": {
            "text/plain": [
              "array([0, 0, 0, ..., 0, 0, 0])"
            ]
          },
          "metadata": {},
          "execution_count": 33
        }
      ]
    },
    {
      "cell_type": "markdown",
      "source": [
        "From the Confusion Matrix below, we can see our true positives equate to 98% but our true negatives were 7%. The model predicted 93% of the data to have their loans paid when the loan was not paid. This can create an issue if the model were produced because Lending Tree does not want to report their borrowers have paid off their loan when they haven't. When comparing the two tuned models, this model would be the better choice."
      ],
      "metadata": {
        "id": "UzSL7D7RMWhm"
      }
    },
    {
      "cell_type": "code",
      "source": [
        "labels=['Paid', 'Not Paid']\n",
        "ConfusionMatrixDisplay.from_predictions(y_test, l2_pred, display_labels = \n",
        "                                        labels, cmap='Greens', normalize='true');"
      ],
      "metadata": {
        "colab": {
          "base_uri": "https://localhost:8080/",
          "height": 883
        },
        "id": "68XleCT_cHGE",
        "outputId": "421421fd-1651-4763-99bd-9f835a924345"
      },
      "execution_count": null,
      "outputs": [
        {
          "output_type": "display_data",
          "data": {
            "text/plain": [
              "<Figure size 1440x1080 with 2 Axes>"
            ],
            "image/png": "[encoded data removed]"
          },
          "metadata": {}
        }
      ]
    },
    {
      "cell_type": "code",
      "source": [
        "print('Classification Report for Training Set')\n",
        "logreg_l2_report = classification_report(y_test, l2_pred)\n",
        "print(logreg_l2_report)"
      ],
      "metadata": {
        "colab": {
          "base_uri": "https://localhost:8080/"
        },
        "id": "nkXPfDhbcKb4",
        "outputId": "f86a9894-f853-4f3a-8844-5ca8cdd194f5"
      },
      "execution_count": null,
      "outputs": [
        {
          "output_type": "stream",
          "name": "stdout",
          "text": [
            "Classification Report for Training Set\n",
            "              precision    recall  f1-score   support\n",
            "\n",
            "           0       0.81      0.98      0.89      3998\n",
            "           1       0.54      0.07      0.12      1002\n",
            "\n",
            "    accuracy                           0.80      5000\n",
            "   macro avg       0.67      0.53      0.51      5000\n",
            "weighted avg       0.75      0.80      0.73      5000\n",
            "\n"
          ]
        }
      ]
    },
    {
      "cell_type": "markdown",
      "source": [
        "Logistic Regression L1 Tuning with PCA"
      ],
      "metadata": {
        "id": "S4lzx-1UkcWb"
      }
    },
    {
      "cell_type": "code",
      "source": [
        "pca = PCA(n_components=.95)\n",
        "log_pca_pipe = make_pipeline(preprocessor, pca, logreg)\n",
        "log_pca_pipe.fit(X_train, y_train)\n",
        "print(log_pca_pipe.score(X_train, y_train))\n",
        "print(log_pca_pipe.score(X_test, y_test))"
      ],
      "metadata": {
        "colab": {
          "base_uri": "https://localhost:8080/"
        },
        "id": "TMPc1HObjnMM",
        "outputId": "bdf93b11-7be6-4583-e180-9a86fec0c733"
      },
      "execution_count": null,
      "outputs": [
        {
          "output_type": "stream",
          "name": "stdout",
          "text": [
            "0.8074\n",
            "0.801\n"
          ]
        }
      ]
    },
    {
      "cell_type": "markdown",
      "source": [
        "The model determines the highest value would be when c = 1."
      ],
      "metadata": {
        "id": "6LyLbQe3MuQM"
      }
    },
    {
      "cell_type": "code",
      "source": [
        "c_values = [0.00001, 0.0001, 0.001, 0.01, 0.1, 1, 10, 100, 1000, 10000]\n",
        "train_score = []\n",
        "test_score = []\n",
        "\n",
        "for c in c_values:\n",
        "  log_pca_l1 = LogisticRegression(C=c, max_iter=1000, solver='liblinear', penalty='l1')\n",
        "  log_pca_l1_pipe = make_pipeline(preprocessor, pca, log_pca_l1)\n",
        "  log_pca_l1_pipe.fit(X_train, y_train)\n",
        "\n",
        "  train_score.append(log_pca_l1_pipe.score(X_train, y_train))\n",
        "  test_score.append(log_pca_l1_pipe.score(X_test, y_test))\n",
        "\n",
        "fig, ax = plt.subplots(1,1)\n",
        "ax.plot(c_values, train_score, label='Train Recall')\n",
        "ax.plot(c_values, test_score, label='Test Recall')\n",
        "ax.set_xticks(c_values)\n",
        "ax.legend()\n",
        "ax.set_xscale('log')\n",
        "{c:score for c, score in zip(c_values, test_score)}"
      ],
      "metadata": {
        "colab": {
          "base_uri": "https://localhost:8080/",
          "height": 1000
        },
        "id": "aH6_DrDFkagy",
        "outputId": "44b8f7e5-4bf2-4e4e-e32c-d9a7e0645712"
      },
      "execution_count": null,
      "outputs": [
        {
          "output_type": "execute_result",
          "data": {
            "text/plain": [
              "{1e-05: 0.7996,\n",
              " 0.0001: 0.7996,\n",
              " 0.001: 0.7996,\n",
              " 0.01: 0.802,\n",
              " 0.1: 0.8008,\n",
              " 1: 0.801,\n",
              " 10: 0.8008,\n",
              " 100: 0.8008,\n",
              " 1000: 0.8008,\n",
              " 10000: 0.8008}"
            ]
          },
          "metadata": {},
          "execution_count": 54
        },
        {
          "output_type": "display_data",
          "data": {
            "text/plain": [
              "<Figure size 1440x1080 with 1 Axes>"
            ],
            "image/png": "[encoded data removed]"
          },
          "metadata": {}
        }
      ]
    },
    {
      "cell_type": "code",
      "source": [
        "l1_pca_01 = LogisticRegression(C=1, max_iter=1000, solver='liblinear', penalty='l1')\n",
        "l1_pca_01_pipe = make_pipeline(preprocessor, scaler, pca, l1_01)\n",
        "l1_pca_01_pipe.fit(X_train, y_train)"
      ],
      "metadata": {
        "colab": {
          "base_uri": "https://localhost:8080/",
          "height": 296
        },
        "id": "RxPM7mDPlRrz",
        "outputId": "f3a5528c-b772-4401-e4e2-2494a7f6f8e6"
      },
      "execution_count": null,
      "outputs": [
        {
          "output_type": "execute_result",
          "data": {
            "text/plain": [
              "Pipeline(steps=[('columntransformer',\n",
              "                 ColumnTransformer(remainder='passthrough',\n",
              "                                   transformers=[('pipeline-1',\n",
              "                                                  Pipeline(steps=[('simpleimputer',\n",
              "                                                                   SimpleImputer(strategy='most_frequent')),\n",
              "                                                                  ('onehotencoder',\n",
              "                                                                   OneHotEncoder(handle_unknown='ignore',\n",
              "                                                                                 sparse=False))]),\n",
              "                                                  <sklearn.compose._column_transformer.make_column_selector object at 0x7ff8ab5212d0>),\n",
              "                                                 ('pipeline-2',\n",
              "                                                  Pipeline(steps=[('simpleimputer',\n",
              "                                                                   SimpleImputer()),\n",
              "                                                                  ('standardscaler',\n",
              "                                                                   StandardScaler())]),\n",
              "                                                  <sklearn.compose._column_transformer.make_column_selector object at 0x7ff8ab521ed0>)])),\n",
              "                ('standardscaler', StandardScaler()),\n",
              "                ('pca', PCA(n_components=0.95)),\n",
              "                ('logisticregression',\n",
              "                 LogisticRegression(C=1, max_iter=1000, penalty='l1',\n",
              "                                    solver='liblinear'))])"
            ],
            "text/html": [
              "<style>#sk-fbe0e612-c977-417b-9ace-06a57f185101 {color: black;background-color: white;}#sk-fbe0e612-c977-417b-9ace-06a57f185101 pre{padding: 0;}#sk-fbe0e612-c977-417b-9ace-06a57f185101 div.sk-toggleable {background-color: white;}#sk-fbe0e612-c977-417b-9ace-06a57f185101 label.sk-toggleable__label {cursor: pointer;display: block;width: 100%;margin-bottom: 0;padding: 0.3em;box-sizing: border-box;text-align: center;}#sk-fbe0e612-c977-417b-9ace-06a57f185101 label.sk-toggleable__label-arrow:before {content: \"▸\";float: left;margin-right: 0.25em;color: #696969;}#sk-fbe0e612-c977-417b-9ace-06a57f185101 label.sk-toggleable__label-arrow:hover:before {color: black;}#sk-fbe0e612-c977-417b-9ace-06a57f185101 div.sk-estimator:hover label.sk-toggleable__label-arrow:before {color: black;}#sk-fbe0e612-c977-417b-9ace-06a57f185101 div.sk-toggleable__content {max-height: 0;max-width: 0;overflow: hidden;text-align: left;background-color: #f0f8ff;}#sk-fbe0e612-c977-417b-9ace-06a57f185101 div.sk-toggleable__content pre {margin: 0.2em;color: black;border-radius: 0.25em;background-color: #f0f8ff;}#sk-fbe0e612-c977-417b-9ace-06a57f185101 input.sk-toggleable__control:checked~div.sk-toggleable__content {max-height: 200px;max-width: 100%;overflow: auto;}#sk-fbe0e612-c977-417b-9ace-06a57f185101 input.sk-toggleable__control:checked~label.sk-toggleable__label-arrow:before {content: \"▾\";}#sk-fbe0e612-c977-417b-9ace-06a57f185101 div.sk-estimator input.sk-toggleable__control:checked~label.sk-toggleable__label {background-color: #d4ebff;}#sk-fbe0e612-c977-417b-9ace-06a57f185101 div.sk-label input.sk-toggleable__control:checked~label.sk-toggleable__label {background-color: #d4ebff;}#sk-fbe0e612-c977-417b-9ace-06a57f185101 input.sk-hidden--visually {border: 0;clip: rect(1px 1px 1px 1px);clip: rect(1px, 1px, 1px, 1px);height: 1px;margin: -1px;overflow: hidden;padding: 0;position: absolute;width: 1px;}#sk-fbe0e612-c977-417b-9ace-06a57f185101 div.sk-estimator {font-family: monospace;background-color: #f0f8ff;border: 1px dotted black;border-radius: 0.25em;box-sizing: border-box;margin-bottom: 0.5em;}#sk-fbe0e612-c977-417b-9ace-06a57f185101 div.sk-estimator:hover {background-color: #d4ebff;}#sk-fbe0e612-c977-417b-9ace-06a57f185101 div.sk-parallel-item::after {content: \"\";width: 100%;border-bottom: 1px solid gray;flex-grow: 1;}#sk-fbe0e612-c977-417b-9ace-06a57f185101 div.sk-label:hover label.sk-toggleable__label {background-color: #d4ebff;}#sk-fbe0e612-c977-417b-9ace-06a57f185101 div.sk-serial::before {content: \"\";position: absolute;border-left: 1px solid gray;box-sizing: border-box;top: 2em;bottom: 0;left: 50%;}#sk-fbe0e612-c977-417b-9ace-06a57f185101 div.sk-serial {display: flex;flex-direction: column;align-items: center;background-color: white;padding-right: 0.2em;padding-left: 0.2em;}#sk-fbe0e612-c977-417b-9ace-06a57f185101 div.sk-item {z-index: 1;}#sk-fbe0e612-c977-417b-9ace-06a57f185101 div.sk-parallel {display: flex;align-items: stretch;justify-content: center;background-color: white;}#sk-fbe0e612-c977-417b-9ace-06a57f185101 div.sk-parallel::before {content: \"\";position: absolute;border-left: 1px solid gray;box-sizing: border-box;top: 2em;bottom: 0;left: 50%;}#sk-fbe0e612-c977-417b-9ace-06a57f185101 div.sk-parallel-item {display: flex;flex-direction: column;position: relative;background-color: white;}#sk-fbe0e612-c977-417b-9ace-06a57f185101 div.sk-parallel-item:first-child::after {align-self: flex-end;width: 50%;}#sk-fbe0e612-c977-417b-9ace-06a57f185101 div.sk-parallel-item:last-child::after {align-self: flex-start;width: 50%;}#sk-fbe0e612-c977-417b-9ace-06a57f185101 div.sk-parallel-item:only-child::after {width: 0;}#sk-fbe0e612-c977-417b-9ace-06a57f185101 div.sk-dashed-wrapped {border: 1px dashed gray;margin: 0 0.4em 0.5em 0.4em;box-sizing: border-box;padding-bottom: 0.4em;background-color: white;position: relative;}#sk-fbe0e612-c977-417b-9ace-06a57f185101 div.sk-label label {font-family: monospace;font-weight: bold;background-color: white;display: inline-block;line-height: 1.2em;}#sk-fbe0e612-c977-417b-9ace-06a57f185101 div.sk-label-container {position: relative;z-index: 2;text-align: center;}#sk-fbe0e612-c977-417b-9ace-06a57f185101 div.sk-container {/* jupyter's `normalize.less` sets `[hidden] { display: none; }` but bootstrap.min.css set `[hidden] { display: none !important; }` so we also need the `!important` here to be able to override the default hidden behavior on the sphinx rendered scikit-learn.org. See: https://github.com/scikit-learn/scikit-learn/issues/21755 */display: inline-block !important;position: relative;}#sk-fbe0e612-c977-417b-9ace-06a57f185101 div.sk-text-repr-fallback {display: none;}</style><div id=\"sk-fbe0e612-c977-417b-9ace-06a57f185101\" class=\"sk-top-container\"><div class=\"sk-text-repr-fallback\"><pre>Pipeline(steps=[(&#x27;columntransformer&#x27;,\n",
              "                 ColumnTransformer(remainder=&#x27;passthrough&#x27;,\n",
              "                                   transformers=[(&#x27;pipeline-1&#x27;,\n",
              "                                                  Pipeline(steps=[(&#x27;simpleimputer&#x27;,\n",
              "                                                                   SimpleImputer(strategy=&#x27;most_frequent&#x27;)),\n",
              "                                                                  (&#x27;onehotencoder&#x27;,\n",
              "                                                                   OneHotEncoder(handle_unknown=&#x27;ignore&#x27;,\n",
              "                                                                                 sparse=False))]),\n",
              "                                                  &lt;sklearn.compose._column_transformer.make_column_selector object at 0x7ff8ab5212d0&gt;),\n",
              "                                                 (&#x27;pipeline-2&#x27;,\n",
              "                                                  Pipeline(steps=[(&#x27;simpleimputer&#x27;,\n",
              "                                                                   SimpleImputer()),\n",
              "                                                                  (&#x27;standardscaler&#x27;,\n",
              "                                                                   StandardScaler())]),\n",
              "                                                  &lt;sklearn.compose._column_transformer.make_column_selector object at 0x7ff8ab521ed0&gt;)])),\n",
              "                (&#x27;standardscaler&#x27;, StandardScaler()),\n",
              "                (&#x27;pca&#x27;, PCA(n_components=0.95)),\n",
              "                (&#x27;logisticregression&#x27;,\n",
              "                 LogisticRegression(C=1, max_iter=1000, penalty=&#x27;l1&#x27;,\n",
              "                                    solver=&#x27;liblinear&#x27;))])</pre><b>Please rerun this cell to show the HTML repr or trust the notebook.</b></div><div class=\"sk-container\" hidden><div class=\"sk-item sk-dashed-wrapped\"><div class=\"sk-label-container\"><div class=\"sk-label sk-toggleable\"><input class=\"sk-toggleable__control sk-hidden--visually\" id=\"c3e50e0f-d5d4-49bc-aa64-e97aeec37ef0\" type=\"checkbox\" ><label for=\"c3e50e0f-d5d4-49bc-aa64-e97aeec37ef0\" class=\"sk-toggleable__label sk-toggleable__label-arrow\">Pipeline</label><div class=\"sk-toggleable__content\"><pre>Pipeline(steps=[(&#x27;columntransformer&#x27;,\n",
              "                 ColumnTransformer(remainder=&#x27;passthrough&#x27;,\n",
              "                                   transformers=[(&#x27;pipeline-1&#x27;,\n",
              "                                                  Pipeline(steps=[(&#x27;simpleimputer&#x27;,\n",
              "                                                                   SimpleImputer(strategy=&#x27;most_frequent&#x27;)),\n",
              "                                                                  (&#x27;onehotencoder&#x27;,\n",
              "                                                                   OneHotEncoder(handle_unknown=&#x27;ignore&#x27;,\n",
              "                                                                                 sparse=False))]),\n",
              "                                                  &lt;sklearn.compose._column_transformer.make_column_selector object at 0x7ff8ab5212d0&gt;),\n",
              "                                                 (&#x27;pipeline-2&#x27;,\n",
              "                                                  Pipeline(steps=[(&#x27;simpleimputer&#x27;,\n",
              "                                                                   SimpleImputer()),\n",
              "                                                                  (&#x27;standardscaler&#x27;,\n",
              "                                                                   StandardScaler())]),\n",
              "                                                  &lt;sklearn.compose._column_transformer.make_column_selector object at 0x7ff8ab521ed0&gt;)])),\n",
              "                (&#x27;standardscaler&#x27;, StandardScaler()),\n",
              "                (&#x27;pca&#x27;, PCA(n_components=0.95)),\n",
              "                (&#x27;logisticregression&#x27;,\n",
              "                 LogisticRegression(C=1, max_iter=1000, penalty=&#x27;l1&#x27;,\n",
              "                                    solver=&#x27;liblinear&#x27;))])</pre></div></div></div><div class=\"sk-serial\"><div class=\"sk-item sk-dashed-wrapped\"><div class=\"sk-label-container\"><div class=\"sk-label sk-toggleable\"><input class=\"sk-toggleable__control sk-hidden--visually\" id=\"6bd99612-e9e8-4031-b962-13add83d9616\" type=\"checkbox\" ><label for=\"6bd99612-e9e8-4031-b962-13add83d9616\" class=\"sk-toggleable__label sk-toggleable__label-arrow\">columntransformer: ColumnTransformer</label><div class=\"sk-toggleable__content\"><pre>ColumnTransformer(remainder=&#x27;passthrough&#x27;,\n",
              "                  transformers=[(&#x27;pipeline-1&#x27;,\n",
              "                                 Pipeline(steps=[(&#x27;simpleimputer&#x27;,\n",
              "                                                  SimpleImputer(strategy=&#x27;most_frequent&#x27;)),\n",
              "                                                 (&#x27;onehotencoder&#x27;,\n",
              "                                                  OneHotEncoder(handle_unknown=&#x27;ignore&#x27;,\n",
              "                                                                sparse=False))]),\n",
              "                                 &lt;sklearn.compose._column_transformer.make_column_selector object at 0x7ff8ab5212d0&gt;),\n",
              "                                (&#x27;pipeline-2&#x27;,\n",
              "                                 Pipeline(steps=[(&#x27;simpleimputer&#x27;,\n",
              "                                                  SimpleImputer()),\n",
              "                                                 (&#x27;standardscaler&#x27;,\n",
              "                                                  StandardScaler())]),\n",
              "                                 &lt;sklearn.compose._column_transformer.make_column_selector object at 0x7ff8ab521ed0&gt;)])</pre></div></div></div><div class=\"sk-parallel\"><div class=\"sk-parallel-item\"><div class=\"sk-item\"><div class=\"sk-label-container\"><div class=\"sk-label sk-toggleable\"><input class=\"sk-toggleable__control sk-hidden--visually\" id=\"0ddd1616-c152-4697-ade3-df6ec09f530b\" type=\"checkbox\" ><label for=\"0ddd1616-c152-4697-ade3-df6ec09f530b\" class=\"sk-toggleable__label sk-toggleable__label-arrow\">pipeline-1</label><div class=\"sk-toggleable__content\"><pre>&lt;sklearn.compose._column_transformer.make_column_selector object at 0x7ff8ab5212d0&gt;</pre></div></div></div><div class=\"sk-serial\"><div class=\"sk-item\"><div class=\"sk-serial\"><div class=\"sk-item\"><div class=\"sk-estimator sk-toggleable\"><input class=\"sk-toggleable__control sk-hidden--visually\" id=\"8250f8e1-5e59-437d-a7e7-403a7918b604\" type=\"checkbox\" ><label for=\"8250f8e1-5e59-437d-a7e7-403a7918b604\" class=\"sk-toggleable__label sk-toggleable__label-arrow\">SimpleImputer</label><div class=\"sk-toggleable__content\"><pre>SimpleImputer(strategy=&#x27;most_frequent&#x27;)</pre></div></div></div><div class=\"sk-item\"><div class=\"sk-estimator sk-toggleable\"><input class=\"sk-toggleable__control sk-hidden--visually\" id=\"4d55614b-9a57-4473-ade3-8b2015143a85\" type=\"checkbox\" ><label for=\"4d55614b-9a57-4473-ade3-8b2015143a85\" class=\"sk-toggleable__label sk-toggleable__label-arrow\">OneHotEncoder</label><div class=\"sk-toggleable__content\"><pre>OneHotEncoder(handle_unknown=&#x27;ignore&#x27;, sparse=False)</pre></div></div></div></div></div></div></div></div><div class=\"sk-parallel-item\"><div class=\"sk-item\"><div class=\"sk-label-container\"><div class=\"sk-label sk-toggleable\"><input class=\"sk-toggleable__control sk-hidden--visually\" id=\"09ee0238-cf5b-4fb2-b97f-fb090a002937\" type=\"checkbox\" ><label for=\"09ee0238-cf5b-4fb2-b97f-fb090a002937\" class=\"sk-toggleable__label sk-toggleable__label-arrow\">pipeline-2</label><div class=\"sk-toggleable__content\"><pre>&lt;sklearn.compose._column_transformer.make_column_selector object at 0x7ff8ab521ed0&gt;</pre></div></div></div><div class=\"sk-serial\"><div class=\"sk-item\"><div class=\"sk-serial\"><div class=\"sk-item\"><div class=\"sk-estimator sk-toggleable\"><input class=\"sk-toggleable__control sk-hidden--visually\" id=\"635ce865-06df-41e9-9af1-35ef46fb4fa6\" type=\"checkbox\" ><label for=\"635ce865-06df-41e9-9af1-35ef46fb4fa6\" class=\"sk-toggleable__label sk-toggleable__label-arrow\">SimpleImputer</label><div class=\"sk-toggleable__content\"><pre>SimpleImputer()</pre></div></div></div><div class=\"sk-item\"><div class=\"sk-estimator sk-toggleable\"><input class=\"sk-toggleable__control sk-hidden--visually\" id=\"40fd6834-ca53-465f-a143-5b1c0382a6f7\" type=\"checkbox\" ><label for=\"40fd6834-ca53-465f-a143-5b1c0382a6f7\" class=\"sk-toggleable__label sk-toggleable__label-arrow\">StandardScaler</label><div class=\"sk-toggleable__content\"><pre>StandardScaler()</pre></div></div></div></div></div></div></div></div><div class=\"sk-parallel-item\"><div class=\"sk-item\"><div class=\"sk-label-container\"><div class=\"sk-label sk-toggleable\"><input class=\"sk-toggleable__control sk-hidden--visually\" id=\"80fc9163-3f54-459f-b352-d9dce35e0767\" type=\"checkbox\" ><label for=\"80fc9163-3f54-459f-b352-d9dce35e0767\" class=\"sk-toggleable__label sk-toggleable__label-arrow\">remainder</label><div class=\"sk-toggleable__content\"><pre>[]</pre></div></div></div><div class=\"sk-serial\"><div class=\"sk-item\"><div class=\"sk-estimator sk-toggleable\"><input class=\"sk-toggleable__control sk-hidden--visually\" id=\"69ba1d22-0c3a-4f2c-a4b6-520ebff1f3e4\" type=\"checkbox\" ><label for=\"69ba1d22-0c3a-4f2c-a4b6-520ebff1f3e4\" class=\"sk-toggleable__label sk-toggleable__label-arrow\">passthrough</label><div class=\"sk-toggleable__content\"><pre>passthrough</pre></div></div></div></div></div></div></div></div><div class=\"sk-item\"><div class=\"sk-estimator sk-toggleable\"><input class=\"sk-toggleable__control sk-hidden--visually\" id=\"a40e3aa4-da1d-44e0-a2be-bf412eec0457\" type=\"checkbox\" ><label for=\"a40e3aa4-da1d-44e0-a2be-bf412eec0457\" class=\"sk-toggleable__label sk-toggleable__label-arrow\">StandardScaler</label><div class=\"sk-toggleable__content\"><pre>StandardScaler()</pre></div></div></div><div class=\"sk-item\"><div class=\"sk-estimator sk-toggleable\"><input class=\"sk-toggleable__control sk-hidden--visually\" id=\"18fa0c9a-7f6e-434e-af45-d3289ef2fd3a\" type=\"checkbox\" ><label for=\"18fa0c9a-7f6e-434e-af45-d3289ef2fd3a\" class=\"sk-toggleable__label sk-toggleable__label-arrow\">PCA</label><div class=\"sk-toggleable__content\"><pre>PCA(n_components=0.95)</pre></div></div></div><div class=\"sk-item\"><div class=\"sk-estimator sk-toggleable\"><input class=\"sk-toggleable__control sk-hidden--visually\" id=\"90f81f15-f0c4-4a2d-8607-4f0388f2b3ec\" type=\"checkbox\" ><label for=\"90f81f15-f0c4-4a2d-8607-4f0388f2b3ec\" class=\"sk-toggleable__label sk-toggleable__label-arrow\">LogisticRegression</label><div class=\"sk-toggleable__content\"><pre>LogisticRegression(C=1, max_iter=1000, penalty=&#x27;l1&#x27;, solver=&#x27;liblinear&#x27;)</pre></div></div></div></div></div></div></div>"
            ]
          },
          "metadata": {},
          "execution_count": 63
        }
      ]
    },
    {
      "cell_type": "code",
      "source": [
        "l1_pca_pred = l1_pca_01_pipe.predict(X_test)\n",
        "l1_pca_pred"
      ],
      "metadata": {
        "colab": {
          "base_uri": "https://localhost:8080/"
        },
        "id": "w_BzcuEHlgOq",
        "outputId": "05775148-d7c7-4b13-a1e5-fe76618f7d88"
      },
      "execution_count": null,
      "outputs": [
        {
          "output_type": "execute_result",
          "data": {
            "text/plain": [
              "array([0, 0, 0, ..., 0, 0, 0])"
            ]
          },
          "metadata": {},
          "execution_count": 56
        }
      ]
    },
    {
      "cell_type": "markdown",
      "source": [
        "From the Confusion Matrix below, we can see our true positives equate to 98% but our true negatives were 6.8%. The model predicted 93% of the data to have their loans paid when the loan was not paid. This can create an issue if the model were produced because Lending Tree does not want to report their borrowers have paid off their loan when they haven't. When comparing the models, Logistic Regression Model L2 Tuning would be the better choice."
      ],
      "metadata": {
        "id": "dBWi3EfpM2dN"
      }
    },
    {
      "cell_type": "code",
      "source": [
        "labels=['Paid', 'Not Paid']\n",
        "ConfusionMatrixDisplay.from_predictions(y_test, l1_pca_pred, display_labels = \n",
        "                                        labels, cmap='Reds', normalize='true');"
      ],
      "metadata": {
        "colab": {
          "base_uri": "https://localhost:8080/",
          "height": 883
        },
        "id": "F6C9pASClkb-",
        "outputId": "af0d227d-f092-417a-9b78-09363601dca9"
      },
      "execution_count": null,
      "outputs": [
        {
          "output_type": "display_data",
          "data": {
            "text/plain": [
              "<Figure size 1440x1080 with 2 Axes>"
            ],
            "image/png": "[encoded data removed]"
          },
          "metadata": {}
        }
      ]
    },
    {
      "cell_type": "markdown",
      "source": [
        "K-Nearest Neighbors Model"
      ],
      "metadata": {
        "id": "foEFwt2KcQvO"
      }
    },
    {
      "cell_type": "code",
      "source": [
        "knn_tune = np.zeros(25)\n",
        "for i in range(1,21):\n",
        "  knn = KNeighborsClassifier(n_neighbors = i)\n",
        "  knn_pipe = make_pipeline(preprocessor, knn)\n",
        "  knn_pipe.fit(X_train, y_train)\n",
        "  tune_pred = knn_pipe.predict(X_test)\n",
        "  knn_tune[i-1] = metrics.accuracy_score(y_test, tune_pred)\n",
        "\n",
        "best_n = np.argmax(knn_tune) + 1\n",
        "best_n"
      ],
      "metadata": {
        "colab": {
          "base_uri": "https://localhost:8080/"
        },
        "id": "lJn5m-ILcPis",
        "outputId": "55b07b59-c5a0-429b-d452-729c84efe770"
      },
      "execution_count": null,
      "outputs": [
        {
          "output_type": "execute_result",
          "data": {
            "text/plain": [
              "19"
            ]
          },
          "metadata": {},
          "execution_count": 36
        }
      ]
    },
    {
      "cell_type": "markdown",
      "source": [
        "From the algorithm above, we have found the best prediction for accuracy will have a n_neighbors of 19."
      ],
      "metadata": {
        "id": "mAbuYogWNDjc"
      }
    },
    {
      "cell_type": "code",
      "source": [
        "knn_19 = KNeighborsClassifier(n_neighbors=19)\n",
        "knn_19_pipe = make_pipeline(preprocessor, knn_19)\n",
        "knn_19_pipe.fit(X_train, y_train)\n",
        "print(knn_19_pipe.score(X_train, y_train))\n",
        "print(knn_19_pipe.score(X_test, y_test))"
      ],
      "metadata": {
        "colab": {
          "base_uri": "https://localhost:8080/"
        },
        "id": "jROQRa_QdXAf",
        "outputId": "581b5917-731c-4fe7-d29f-6dc22d16f87d"
      },
      "execution_count": null,
      "outputs": [
        {
          "output_type": "stream",
          "name": "stdout",
          "text": [
            "0.8106\n",
            "0.8042\n"
          ]
        }
      ]
    },
    {
      "cell_type": "code",
      "source": [
        "knn_19_pred = knn_19_pipe.predict(X_test)\n",
        "knn_19_pred"
      ],
      "metadata": {
        "colab": {
          "base_uri": "https://localhost:8080/"
        },
        "id": "i6lm3x_idyXM",
        "outputId": "192591f6-2b69-4e1e-a6e5-d1470fa8cec5"
      },
      "execution_count": null,
      "outputs": [
        {
          "output_type": "execute_result",
          "data": {
            "text/plain": [
              "array([0, 0, 0, ..., 0, 0, 0])"
            ]
          },
          "metadata": {},
          "execution_count": 38
        }
      ]
    },
    {
      "cell_type": "markdown",
      "source": [
        "From the Confusion Matrix below, we can see our true positives equate to 98% but our true negatives were 9%. The model predicted 91% of the data to have their loans paid when the loan was not paid. This can create an issue if the model were produced because Lending Tree does not want to report their borrowers have paid off their loan when they haven't. When comparing the models, this model would be the better choice."
      ],
      "metadata": {
        "id": "r1p8QGudNUK7"
      }
    },
    {
      "cell_type": "code",
      "source": [
        "labels=['Paid', 'Not Paid']\n",
        "ConfusionMatrixDisplay.from_predictions(y_test, knn_19_pred, display_labels = \n",
        "                                        labels, cmap='Blues', normalize='true');"
      ],
      "metadata": {
        "colab": {
          "base_uri": "https://localhost:8080/",
          "height": 883
        },
        "id": "0QNyxxxcd6Zn",
        "outputId": "c18d621e-17a3-405e-8ca9-d741aa4416dc"
      },
      "execution_count": null,
      "outputs": [
        {
          "output_type": "display_data",
          "data": {
            "text/plain": [
              "<Figure size 1440x1080 with 2 Axes>"
            ],
            "image/png": "[encoded data removed]"
          },
          "metadata": {}
        }
      ]
    },
    {
      "cell_type": "code",
      "source": [
        "print('Classification Report for Training Set')\n",
        "knn_report = classification_report(y_test, knn_19_pred)\n",
        "print(knn_report)"
      ],
      "metadata": {
        "colab": {
          "base_uri": "https://localhost:8080/"
        },
        "id": "JnfNlpCTeEjR",
        "outputId": "70ed84ac-9a05-4c1a-893e-7a0bbf0bfc3d"
      },
      "execution_count": null,
      "outputs": [
        {
          "output_type": "stream",
          "name": "stdout",
          "text": [
            "Classification Report for Training Set\n",
            "              precision    recall  f1-score   support\n",
            "\n",
            "           0       0.81      0.98      0.89      3998\n",
            "           1       0.57      0.09      0.16      1002\n",
            "\n",
            "    accuracy                           0.80      5000\n",
            "   macro avg       0.69      0.54      0.52      5000\n",
            "weighted avg       0.76      0.80      0.74      5000\n",
            "\n"
          ]
        }
      ]
    },
    {
      "cell_type": "markdown",
      "source": [
        "KNN with PCA"
      ],
      "metadata": {
        "id": "G6Cn2ViWlxqZ"
      }
    },
    {
      "cell_type": "code",
      "source": [
        "knn_pca_tune = np.zeros(25)\n",
        "for i in range(1,21):\n",
        "  knn = KNeighborsClassifier(n_neighbors = i)\n",
        "  knn_pca_pipe = make_pipeline(preprocessor, pca, knn)\n",
        "  knn_pca_pipe.fit(X_train, y_train)\n",
        "  tune_pca_pred = knn_pca_pipe.predict(X_test)\n",
        "  knn_pca_tune[i-1] = metrics.accuracy_score(y_test, tune_pca_pred)\n",
        "\n",
        "best_n = np.argmax(knn_pca_tune) + 1\n",
        "best_n"
      ],
      "metadata": {
        "colab": {
          "base_uri": "https://localhost:8080/"
        },
        "id": "xuDI0uhVlz7Z",
        "outputId": "fccc75ba-b2ed-48df-ff40-de24e73b3586"
      },
      "execution_count": null,
      "outputs": [
        {
          "output_type": "execute_result",
          "data": {
            "text/plain": [
              "19"
            ]
          },
          "metadata": {},
          "execution_count": 58
        }
      ]
    },
    {
      "cell_type": "markdown",
      "source": [
        "From the algorithm above, we have found the best prediction for accuracy will have a n_neighbors of 19 when applying PCA to the KNN model."
      ],
      "metadata": {
        "id": "MNcNLk0gNkth"
      }
    },
    {
      "cell_type": "code",
      "source": [
        "knn_pca_19 = KNeighborsClassifier(n_neighbors=19)\n",
        "knn_pca_19_pipe = make_pipeline(preprocessor, scaler, pca, knn_19)\n",
        "knn_pca_19_pipe.fit(X_train, y_train)\n",
        "print(knn_pca_19_pipe.score(X_train, y_train))\n",
        "print(knn_pca_19_pipe.score(X_test, y_test))"
      ],
      "metadata": {
        "colab": {
          "base_uri": "https://localhost:8080/"
        },
        "id": "90-FP07RmKIe",
        "outputId": "c26152a2-7669-4c22-9cb7-decac49ec6b9"
      },
      "execution_count": null,
      "outputs": [
        {
          "output_type": "stream",
          "name": "stdout",
          "text": [
            "0.8094\n",
            "0.8032\n"
          ]
        }
      ]
    },
    {
      "cell_type": "code",
      "source": [
        "knn_pca_19_pred = knn_pca_19_pipe.predict(X_test)\n",
        "knn_pca_19_pred"
      ],
      "metadata": {
        "colab": {
          "base_uri": "https://localhost:8080/"
        },
        "id": "t0FH0E2VmWXZ",
        "outputId": "739306ba-707c-4867-f119-6b4e4a72ba25"
      },
      "execution_count": null,
      "outputs": [
        {
          "output_type": "execute_result",
          "data": {
            "text/plain": [
              "array([0, 0, 0, ..., 0, 0, 0])"
            ]
          },
          "metadata": {},
          "execution_count": 60
        }
      ]
    },
    {
      "cell_type": "markdown",
      "source": [
        "Similar to the KNN model without PCA, we can see our true positives equate to 98% but our true negatives were 9%. The model predicted 91% of the data to have their loans paid when the loan was not paid. This can create an issue if the model were produced because Lending Tree does not want to report their borrowers have paid off their loan when they haven't. When comparing the models, this model would be the better choice."
      ],
      "metadata": {
        "id": "OrdG_8h_NumQ"
      }
    },
    {
      "cell_type": "code",
      "source": [
        "labels=['Paid', 'Not Paid']\n",
        "ConfusionMatrixDisplay.from_predictions(y_test, knn_pca_19_pred, display_labels = \n",
        "                                        labels, cmap='Blues', normalize='true');"
      ],
      "metadata": {
        "colab": {
          "base_uri": "https://localhost:8080/",
          "height": 883
        },
        "id": "VmxKvXFHmds2",
        "outputId": "ac159548-cf4d-4b87-b2ba-cabf23f81a82"
      },
      "execution_count": null,
      "outputs": [
        {
          "output_type": "display_data",
          "data": {
            "text/plain": [
              "<Figure size 1440x1080 with 2 Axes>"
            ],
            "image/png": "[encoded data removed]"
          },
          "metadata": {}
        }
      ]
    },
    {
      "cell_type": "markdown",
      "source": [
        "Random Forest Model"
      ],
      "metadata": {
        "id": "gbx8lIxEeJVP"
      }
    },
    {
      "cell_type": "code",
      "source": [
        "rf = RandomForestClassifier(random_state=42)\n",
        "rf_pipe = make_pipeline(preprocessor, rf)\n",
        "rf_pipe.fit(X_train, y_train)"
      ],
      "metadata": {
        "colab": {
          "base_uri": "https://localhost:8080/",
          "height": 227
        },
        "id": "EvKzDTSdeH01",
        "outputId": "9587472f-50d6-4f05-eaac-7e30de8c96e5"
      },
      "execution_count": null,
      "outputs": [
        {
          "output_type": "execute_result",
          "data": {
            "text/plain": [
              "Pipeline(steps=[('columntransformer',\n",
              "                 ColumnTransformer(remainder='passthrough',\n",
              "                                   transformers=[('pipeline-1',\n",
              "                                                  Pipeline(steps=[('simpleimputer',\n",
              "                                                                   SimpleImputer(strategy='most_frequent')),\n",
              "                                                                  ('onehotencoder',\n",
              "                                                                   OneHotEncoder(handle_unknown='ignore',\n",
              "                                                                                 sparse=False))]),\n",
              "                                                  <sklearn.compose._column_transformer.make_column_selector object at 0x7ff8ab5212d0>),\n",
              "                                                 ('pipeline-2',\n",
              "                                                  Pipeline(steps=[('simpleimputer',\n",
              "                                                                   SimpleImputer()),\n",
              "                                                                  ('standardscaler',\n",
              "                                                                   StandardScaler())]),\n",
              "                                                  <sklearn.compose._column_transformer.make_column_selector object at 0x7ff8ab521ed0>)])),\n",
              "                ('randomforestclassifier',\n",
              "                 RandomForestClassifier(random_state=42))])"
            ],
            "text/html": [
              "<style>#sk-7e40241b-6961-45aa-8014-5d1f83dba124 {color: black;background-color: white;}#sk-7e40241b-6961-45aa-8014-5d1f83dba124 pre{padding: 0;}#sk-7e40241b-6961-45aa-8014-5d1f83dba124 div.sk-toggleable {background-color: white;}#sk-7e40241b-6961-45aa-8014-5d1f83dba124 label.sk-toggleable__label {cursor: pointer;display: block;width: 100%;margin-bottom: 0;padding: 0.3em;box-sizing: border-box;text-align: center;}#sk-7e40241b-6961-45aa-8014-5d1f83dba124 label.sk-toggleable__label-arrow:before {content: \"▸\";float: left;margin-right: 0.25em;color: #696969;}#sk-7e40241b-6961-45aa-8014-5d1f83dba124 label.sk-toggleable__label-arrow:hover:before {color: black;}#sk-7e40241b-6961-45aa-8014-5d1f83dba124 div.sk-estimator:hover label.sk-toggleable__label-arrow:before {color: black;}#sk-7e40241b-6961-45aa-8014-5d1f83dba124 div.sk-toggleable__content {max-height: 0;max-width: 0;overflow: hidden;text-align: left;background-color: #f0f8ff;}#sk-7e40241b-6961-45aa-8014-5d1f83dba124 div.sk-toggleable__content pre {margin: 0.2em;color: black;border-radius: 0.25em;background-color: #f0f8ff;}#sk-7e40241b-6961-45aa-8014-5d1f83dba124 input.sk-toggleable__control:checked~div.sk-toggleable__content {max-height: 200px;max-width: 100%;overflow: auto;}#sk-7e40241b-6961-45aa-8014-5d1f83dba124 input.sk-toggleable__control:checked~label.sk-toggleable__label-arrow:before {content: \"▾\";}#sk-7e40241b-6961-45aa-8014-5d1f83dba124 div.sk-estimator input.sk-toggleable__control:checked~label.sk-toggleable__label {background-color: #d4ebff;}#sk-7e40241b-6961-45aa-8014-5d1f83dba124 div.sk-label input.sk-toggleable__control:checked~label.sk-toggleable__label {background-color: #d4ebff;}#sk-7e40241b-6961-45aa-8014-5d1f83dba124 input.sk-hidden--visually {border: 0;clip: rect(1px 1px 1px 1px);clip: rect(1px, 1px, 1px, 1px);height: 1px;margin: -1px;overflow: hidden;padding: 0;position: absolute;width: 1px;}#sk-7e40241b-6961-45aa-8014-5d1f83dba124 div.sk-estimator {font-family: monospace;background-color: #f0f8ff;border: 1px dotted black;border-radius: 0.25em;box-sizing: border-box;margin-bottom: 0.5em;}#sk-7e40241b-6961-45aa-8014-5d1f83dba124 div.sk-estimator:hover {background-color: #d4ebff;}#sk-7e40241b-6961-45aa-8014-5d1f83dba124 div.sk-parallel-item::after {content: \"\";width: 100%;border-bottom: 1px solid gray;flex-grow: 1;}#sk-7e40241b-6961-45aa-8014-5d1f83dba124 div.sk-label:hover label.sk-toggleable__label {background-color: #d4ebff;}#sk-7e40241b-6961-45aa-8014-5d1f83dba124 div.sk-serial::before {content: \"\";position: absolute;border-left: 1px solid gray;box-sizing: border-box;top: 2em;bottom: 0;left: 50%;}#sk-7e40241b-6961-45aa-8014-5d1f83dba124 div.sk-serial {display: flex;flex-direction: column;align-items: center;background-color: white;padding-right: 0.2em;padding-left: 0.2em;}#sk-7e40241b-6961-45aa-8014-5d1f83dba124 div.sk-item {z-index: 1;}#sk-7e40241b-6961-45aa-8014-5d1f83dba124 div.sk-parallel {display: flex;align-items: stretch;justify-content: center;background-color: white;}#sk-7e40241b-6961-45aa-8014-5d1f83dba124 div.sk-parallel::before {content: \"\";position: absolute;border-left: 1px solid gray;box-sizing: border-box;top: 2em;bottom: 0;left: 50%;}#sk-7e40241b-6961-45aa-8014-5d1f83dba124 div.sk-parallel-item {display: flex;flex-direction: column;position: relative;background-color: white;}#sk-7e40241b-6961-45aa-8014-5d1f83dba124 div.sk-parallel-item:first-child::after {align-self: flex-end;width: 50%;}#sk-7e40241b-6961-45aa-8014-5d1f83dba124 div.sk-parallel-item:last-child::after {align-self: flex-start;width: 50%;}#sk-7e40241b-6961-45aa-8014-5d1f83dba124 div.sk-parallel-item:only-child::after {width: 0;}#sk-7e40241b-6961-45aa-8014-5d1f83dba124 div.sk-dashed-wrapped {border: 1px dashed gray;margin: 0 0.4em 0.5em 0.4em;box-sizing: border-box;padding-bottom: 0.4em;background-color: white;position: relative;}#sk-7e40241b-6961-45aa-8014-5d1f83dba124 div.sk-label label {font-family: monospace;font-weight: bold;background-color: white;display: inline-block;line-height: 1.2em;}#sk-7e40241b-6961-45aa-8014-5d1f83dba124 div.sk-label-container {position: relative;z-index: 2;text-align: center;}#sk-7e40241b-6961-45aa-8014-5d1f83dba124 div.sk-container {/* jupyter's `normalize.less` sets `[hidden] { display: none; }` but bootstrap.min.css set `[hidden] { display: none !important; }` so we also need the `!important` here to be able to override the default hidden behavior on the sphinx rendered scikit-learn.org. See: https://github.com/scikit-learn/scikit-learn/issues/21755 */display: inline-block !important;position: relative;}#sk-7e40241b-6961-45aa-8014-5d1f83dba124 div.sk-text-repr-fallback {display: none;}</style><div id=\"sk-7e40241b-6961-45aa-8014-5d1f83dba124\" class=\"sk-top-container\"><div class=\"sk-text-repr-fallback\"><pre>Pipeline(steps=[(&#x27;columntransformer&#x27;,\n",
              "                 ColumnTransformer(remainder=&#x27;passthrough&#x27;,\n",
              "                                   transformers=[(&#x27;pipeline-1&#x27;,\n",
              "                                                  Pipeline(steps=[(&#x27;simpleimputer&#x27;,\n",
              "                                                                   SimpleImputer(strategy=&#x27;most_frequent&#x27;)),\n",
              "                                                                  (&#x27;onehotencoder&#x27;,\n",
              "                                                                   OneHotEncoder(handle_unknown=&#x27;ignore&#x27;,\n",
              "                                                                                 sparse=False))]),\n",
              "                                                  &lt;sklearn.compose._column_transformer.make_column_selector object at 0x7ff8ab5212d0&gt;),\n",
              "                                                 (&#x27;pipeline-2&#x27;,\n",
              "                                                  Pipeline(steps=[(&#x27;simpleimputer&#x27;,\n",
              "                                                                   SimpleImputer()),\n",
              "                                                                  (&#x27;standardscaler&#x27;,\n",
              "                                                                   StandardScaler())]),\n",
              "                                                  &lt;sklearn.compose._column_transformer.make_column_selector object at 0x7ff8ab521ed0&gt;)])),\n",
              "                (&#x27;randomforestclassifier&#x27;,\n",
              "                 RandomForestClassifier(random_state=42))])</pre><b>Please rerun this cell to show the HTML repr or trust the notebook.</b></div><div class=\"sk-container\" hidden><div class=\"sk-item sk-dashed-wrapped\"><div class=\"sk-label-container\"><div class=\"sk-label sk-toggleable\"><input class=\"sk-toggleable__control sk-hidden--visually\" id=\"e44c07bf-6b00-4433-bcc2-691d915507a0\" type=\"checkbox\" ><label for=\"e44c07bf-6b00-4433-bcc2-691d915507a0\" class=\"sk-toggleable__label sk-toggleable__label-arrow\">Pipeline</label><div class=\"sk-toggleable__content\"><pre>Pipeline(steps=[(&#x27;columntransformer&#x27;,\n",
              "                 ColumnTransformer(remainder=&#x27;passthrough&#x27;,\n",
              "                                   transformers=[(&#x27;pipeline-1&#x27;,\n",
              "                                                  Pipeline(steps=[(&#x27;simpleimputer&#x27;,\n",
              "                                                                   SimpleImputer(strategy=&#x27;most_frequent&#x27;)),\n",
              "                                                                  (&#x27;onehotencoder&#x27;,\n",
              "                                                                   OneHotEncoder(handle_unknown=&#x27;ignore&#x27;,\n",
              "                                                                                 sparse=False))]),\n",
              "                                                  &lt;sklearn.compose._column_transformer.make_column_selector object at 0x7ff8ab5212d0&gt;),\n",
              "                                                 (&#x27;pipeline-2&#x27;,\n",
              "                                                  Pipeline(steps=[(&#x27;simpleimputer&#x27;,\n",
              "                                                                   SimpleImputer()),\n",
              "                                                                  (&#x27;standardscaler&#x27;,\n",
              "                                                                   StandardScaler())]),\n",
              "                                                  &lt;sklearn.compose._column_transformer.make_column_selector object at 0x7ff8ab521ed0&gt;)])),\n",
              "                (&#x27;randomforestclassifier&#x27;,\n",
              "                 RandomForestClassifier(random_state=42))])</pre></div></div></div><div class=\"sk-serial\"><div class=\"sk-item sk-dashed-wrapped\"><div class=\"sk-label-container\"><div class=\"sk-label sk-toggleable\"><input class=\"sk-toggleable__control sk-hidden--visually\" id=\"61d37993-30dd-498b-b457-284ab2941838\" type=\"checkbox\" ><label for=\"61d37993-30dd-498b-b457-284ab2941838\" class=\"sk-toggleable__label sk-toggleable__label-arrow\">columntransformer: ColumnTransformer</label><div class=\"sk-toggleable__content\"><pre>ColumnTransformer(remainder=&#x27;passthrough&#x27;,\n",
              "                  transformers=[(&#x27;pipeline-1&#x27;,\n",
              "                                 Pipeline(steps=[(&#x27;simpleimputer&#x27;,\n",
              "                                                  SimpleImputer(strategy=&#x27;most_frequent&#x27;)),\n",
              "                                                 (&#x27;onehotencoder&#x27;,\n",
              "                                                  OneHotEncoder(handle_unknown=&#x27;ignore&#x27;,\n",
              "                                                                sparse=False))]),\n",
              "                                 &lt;sklearn.compose._column_transformer.make_column_selector object at 0x7ff8ab5212d0&gt;),\n",
              "                                (&#x27;pipeline-2&#x27;,\n",
              "                                 Pipeline(steps=[(&#x27;simpleimputer&#x27;,\n",
              "                                                  SimpleImputer()),\n",
              "                                                 (&#x27;standardscaler&#x27;,\n",
              "                                                  StandardScaler())]),\n",
              "                                 &lt;sklearn.compose._column_transformer.make_column_selector object at 0x7ff8ab521ed0&gt;)])</pre></div></div></div><div class=\"sk-parallel\"><div class=\"sk-parallel-item\"><div class=\"sk-item\"><div class=\"sk-label-container\"><div class=\"sk-label sk-toggleable\"><input class=\"sk-toggleable__control sk-hidden--visually\" id=\"bd608e7e-d090-4600-b8a4-1e3391e59fc3\" type=\"checkbox\" ><label for=\"bd608e7e-d090-4600-b8a4-1e3391e59fc3\" class=\"sk-toggleable__label sk-toggleable__label-arrow\">pipeline-1</label><div class=\"sk-toggleable__content\"><pre>&lt;sklearn.compose._column_transformer.make_column_selector object at 0x7ff8ab5212d0&gt;</pre></div></div></div><div class=\"sk-serial\"><div class=\"sk-item\"><div class=\"sk-serial\"><div class=\"sk-item\"><div class=\"sk-estimator sk-toggleable\"><input class=\"sk-toggleable__control sk-hidden--visually\" id=\"f5c2ae35-92dc-43f9-8df8-bcc7c73dc720\" type=\"checkbox\" ><label for=\"f5c2ae35-92dc-43f9-8df8-bcc7c73dc720\" class=\"sk-toggleable__label sk-toggleable__label-arrow\">SimpleImputer</label><div class=\"sk-toggleable__content\"><pre>SimpleImputer(strategy=&#x27;most_frequent&#x27;)</pre></div></div></div><div class=\"sk-item\"><div class=\"sk-estimator sk-toggleable\"><input class=\"sk-toggleable__control sk-hidden--visually\" id=\"447e6885-64f8-47fb-ba8a-061633985954\" type=\"checkbox\" ><label for=\"447e6885-64f8-47fb-ba8a-061633985954\" class=\"sk-toggleable__label sk-toggleable__label-arrow\">OneHotEncoder</label><div class=\"sk-toggleable__content\"><pre>OneHotEncoder(handle_unknown=&#x27;ignore&#x27;, sparse=False)</pre></div></div></div></div></div></div></div></div><div class=\"sk-parallel-item\"><div class=\"sk-item\"><div class=\"sk-label-container\"><div class=\"sk-label sk-toggleable\"><input class=\"sk-toggleable__control sk-hidden--visually\" id=\"0ae315da-6373-449d-8dc5-792daf8320c1\" type=\"checkbox\" ><label for=\"0ae315da-6373-449d-8dc5-792daf8320c1\" class=\"sk-toggleable__label sk-toggleable__label-arrow\">pipeline-2</label><div class=\"sk-toggleable__content\"><pre>&lt;sklearn.compose._column_transformer.make_column_selector object at 0x7ff8ab521ed0&gt;</pre></div></div></div><div class=\"sk-serial\"><div class=\"sk-item\"><div class=\"sk-serial\"><div class=\"sk-item\"><div class=\"sk-estimator sk-toggleable\"><input class=\"sk-toggleable__control sk-hidden--visually\" id=\"6eb97928-2c35-4807-a869-9eeeb172a562\" type=\"checkbox\" ><label for=\"6eb97928-2c35-4807-a869-9eeeb172a562\" class=\"sk-toggleable__label sk-toggleable__label-arrow\">SimpleImputer</label><div class=\"sk-toggleable__content\"><pre>SimpleImputer()</pre></div></div></div><div class=\"sk-item\"><div class=\"sk-estimator sk-toggleable\"><input class=\"sk-toggleable__control sk-hidden--visually\" id=\"ea295976-bd65-4491-b987-0a5b551565d4\" type=\"checkbox\" ><label for=\"ea295976-bd65-4491-b987-0a5b551565d4\" class=\"sk-toggleable__label sk-toggleable__label-arrow\">StandardScaler</label><div class=\"sk-toggleable__content\"><pre>StandardScaler()</pre></div></div></div></div></div></div></div></div><div class=\"sk-parallel-item\"><div class=\"sk-item\"><div class=\"sk-label-container\"><div class=\"sk-label sk-toggleable\"><input class=\"sk-toggleable__control sk-hidden--visually\" id=\"733235d4-2a52-418c-8525-33d2d3f94d04\" type=\"checkbox\" ><label for=\"733235d4-2a52-418c-8525-33d2d3f94d04\" class=\"sk-toggleable__label sk-toggleable__label-arrow\">remainder</label><div class=\"sk-toggleable__content\"><pre>[]</pre></div></div></div><div class=\"sk-serial\"><div class=\"sk-item\"><div class=\"sk-estimator sk-toggleable\"><input class=\"sk-toggleable__control sk-hidden--visually\" id=\"0ea3a88a-467d-4755-b1ac-4611158dd4e0\" type=\"checkbox\" ><label for=\"0ea3a88a-467d-4755-b1ac-4611158dd4e0\" class=\"sk-toggleable__label sk-toggleable__label-arrow\">passthrough</label><div class=\"sk-toggleable__content\"><pre>passthrough</pre></div></div></div></div></div></div></div></div><div class=\"sk-item\"><div class=\"sk-estimator sk-toggleable\"><input class=\"sk-toggleable__control sk-hidden--visually\" id=\"f3280c09-0ff3-4e5f-867e-a608704d3a57\" type=\"checkbox\" ><label for=\"f3280c09-0ff3-4e5f-867e-a608704d3a57\" class=\"sk-toggleable__label sk-toggleable__label-arrow\">RandomForestClassifier</label><div class=\"sk-toggleable__content\"><pre>RandomForestClassifier(random_state=42)</pre></div></div></div></div></div></div></div>"
            ]
          },
          "metadata": {},
          "execution_count": 41
        }
      ]
    },
    {
      "cell_type": "code",
      "source": [
        "rf_pipe.predict(X_test)"
      ],
      "metadata": {
        "colab": {
          "base_uri": "https://localhost:8080/"
        },
        "id": "L1a86I-MeUB3",
        "outputId": "68e1388f-1a5b-45b9-eb77-d11522389b0a"
      },
      "execution_count": null,
      "outputs": [
        {
          "output_type": "execute_result",
          "data": {
            "text/plain": [
              "array([0, 0, 0, ..., 0, 0, 0])"
            ]
          },
          "metadata": {},
          "execution_count": 42
        }
      ]
    },
    {
      "cell_type": "code",
      "source": [
        "rf_train_score = rf_pipe.score(X_train, y_train)\n",
        "rf_test_score = rf_pipe.score(X_test, y_test)\n",
        "print(rf_train_score)\n",
        "print(rf_test_score)"
      ],
      "metadata": {
        "colab": {
          "base_uri": "https://localhost:8080/"
        },
        "id": "OX_B-gY4eaD3",
        "outputId": "b3676d6a-827f-4c88-ffbf-f6abd3017092"
      },
      "execution_count": null,
      "outputs": [
        {
          "output_type": "stream",
          "name": "stdout",
          "text": [
            "1.0\n",
            "0.799\n"
          ]
        }
      ]
    },
    {
      "cell_type": "code",
      "source": [
        "est_depth = [estimator.get_depth() for estimator in rf.estimators_]\n",
        "max(est_depth)"
      ],
      "metadata": {
        "colab": {
          "base_uri": "https://localhost:8080/"
        },
        "id": "D8AXhi8aegkx",
        "outputId": "3512a0ee-1e25-4dce-b98e-673957a67fdb"
      },
      "execution_count": null,
      "outputs": [
        {
          "output_type": "execute_result",
          "data": {
            "text/plain": [
              "49"
            ]
          },
          "metadata": {},
          "execution_count": 44
        }
      ]
    },
    {
      "cell_type": "markdown",
      "source": [
        "From the algorithm below, we have determined with a random forest model of 49 depth, the most accurate depth would be when max depth is equal to 7."
      ],
      "metadata": {
        "id": "D-pp-HTeOCx9"
      }
    },
    {
      "cell_type": "code",
      "source": [
        "depths = range(1, max(est_depth))\n",
        "score = pd.DataFrame(index=depths, columns=['Test Score'])\n",
        "for depth in depths:    \n",
        "   rf = RandomForestClassifier(max_depth=depth)\n",
        "   rf_pipe = make_pipeline(preprocessor, rf)\n",
        "   rf_pipe.fit(X_train, y_train)\n",
        "   score.loc[depth, 'Train Score'] = rf_pipe.score(X_train, y_train)\n",
        "   score.loc[depth, 'Test Score'] = rf_pipe.score(X_test, y_test)\n",
        "   score.head()\n",
        "\n",
        "sorted_score = score.sort_values(by='Test Score', ascending=False)\n",
        "sorted_score.head()"
      ],
      "metadata": {
        "colab": {
          "base_uri": "https://localhost:8080/",
          "height": 206
        },
        "id": "UlqhYWkjelbs",
        "outputId": "70a3f1f5-1f66-40a4-a4aa-7a1d73b57123"
      },
      "execution_count": null,
      "outputs": [
        {
          "output_type": "execute_result",
          "data": {
            "text/plain": [
              "   Test Score  Train Score\n",
              "7      0.8036     0.810667\n",
              "8      0.8028     0.812400\n",
              "9      0.8024     0.816133\n",
              "10     0.8024     0.822600\n",
              "30     0.8022     0.999867"
            ],
            "text/html": [
              "\n",
              "  <div id=\"df-91cd51ba-8571-49dc-87a5-1be8b0aaa64b\">\n",
              "    <div class=\"colab-df-container\">\n",
              "      <div>\n",
              "<style scoped>\n",
              "    .dataframe tbody tr th:only-of-type {\n",
              "        vertical-align: middle;\n",
              "    }\n",
              "\n",
              "    .dataframe tbody tr th {\n",
              "        vertical-align: top;\n",
              "    }\n",
              "\n",
              "    .dataframe thead th {\n",
              "        text-align: right;\n",
              "    }\n",
              "</style>\n",
              "<table border=\"1\" class=\"dataframe\">\n",
              "  <thead>\n",
              "    <tr style=\"text-align: right;\">\n",
              "      <th></th>\n",
              "      <th>Test Score</th>\n",
              "      <th>Train Score</th>\n",
              "    </tr>\n",
              "  </thead>\n",
              "  <tbody>\n",
              "    <tr>\n",
              "      <th>7</th>\n",
              "      <td>0.8036</td>\n",
              "      <td>0.810667</td>\n",
              "    </tr>\n",
              "    <tr>\n",
              "      <th>8</th>\n",
              "      <td>0.8028</td>\n",
              "      <td>0.812400</td>\n",
              "    </tr>\n",
              "    <tr>\n",
              "      <th>9</th>\n",
              "      <td>0.8024</td>\n",
              "      <td>0.816133</td>\n",
              "    </tr>\n",
              "    <tr>\n",
              "      <th>10</th>\n",
              "      <td>0.8024</td>\n",
              "      <td>0.822600</td>\n",
              "    </tr>\n",
              "    <tr>\n",
              "      <th>30</th>\n",
              "      <td>0.8022</td>\n",
              "      <td>0.999867</td>\n",
              "    </tr>\n",
              "  </tbody>\n",
              "</table>\n",
              "</div>\n",
              "      <button class=\"colab-df-convert\" onclick=\"convertToInteractive('df-91cd51ba-8571-49dc-87a5-1be8b0aaa64b')\"\n",
              "              title=\"Convert this dataframe to an interactive table.\"\n",
              "              style=\"display:none;\">\n",
              "        \n",
              "  <svg xmlns=\"http://www.w3.org/2000/svg\" height=\"24px\"viewBox=\"0 0 24 24\"\n",
              "       width=\"24px\">\n",
              "    <path d=\"M0 0h24v24H0V0z\" fill=\"none\"/>\n",
              "    <path d=\"M18.56 5.44l.94 2.06.94-2.06 2.06-.94-2.06-.94-.94-2.06-.94 2.06-2.06.94zm-11 1L8.5 8.5l.94-2.06 2.06-.94-2.06-.94L8.5 2.5l-.94 2.06-2.06.94zm10 10l.94 2.06.94-2.06 2.06-.94-2.06-.94-.94-2.06-.94 2.06-2.06.94z\"/><path d=\"M17.41 7.96l-1.37-1.37c-.4-.4-.92-.59-1.43-.59-.52 0-1.04.2-1.43.59L10.3 9.45l-7.72 7.72c-.78.78-.78 2.05 0 2.83L4 21.41c.39.39.9.59 1.41.59.51 0 1.02-.2 1.41-.59l7.78-7.78 2.81-2.81c.8-.78.8-2.07 0-2.86zM5.41 20L4 18.59l7.72-7.72 1.47 1.35L5.41 20z\"/>\n",
              "  </svg>\n",
              "      </button>\n",
              "      \n",
              "  <style>\n",
              "    .colab-df-container {\n",
              "      display:flex;\n",
              "      flex-wrap:wrap;\n",
              "      gap: 12px;\n",
              "    }\n",
              "\n",
              "    .colab-df-convert {\n",
              "      background-color: #E8F0FE;\n",
              "      border: none;\n",
              "      border-radius: 50%;\n",
              "      cursor: pointer;\n",
              "      display: none;\n",
              "      fill: #1967D2;\n",
              "      height: 32px;\n",
              "      padding: 0 0 0 0;\n",
              "      width: 32px;\n",
              "    }\n",
              "\n",
              "    .colab-df-convert:hover {\n",
              "      background-color: #E2EBFA;\n",
              "      box-shadow: 0px 1px 2px rgba(60, 64, 67, 0.3), 0px 1px 3px 1px rgba(60, 64, 67, 0.15);\n",
              "      fill: #174EA6;\n",
              "    }\n",
              "\n",
              "    [theme=dark] .colab-df-convert {\n",
              "      background-color: #3B4455;\n",
              "      fill: #D2E3FC;\n",
              "    }\n",
              "\n",
              "    [theme=dark] .colab-df-convert:hover {\n",
              "      background-color: #434B5C;\n",
              "      box-shadow: 0px 1px 3px 1px rgba(0, 0, 0, 0.15);\n",
              "      filter: drop-shadow(0px 1px 2px rgba(0, 0, 0, 0.3));\n",
              "      fill: #FFFFFF;\n",
              "    }\n",
              "  </style>\n",
              "\n",
              "      <script>\n",
              "        const buttonEl =\n",
              "          document.querySelector('#df-91cd51ba-8571-49dc-87a5-1be8b0aaa64b button.colab-df-convert');\n",
              "        buttonEl.style.display =\n",
              "          google.colab.kernel.accessAllowed ? 'block' : 'none';\n",
              "\n",
              "        async function convertToInteractive(key) {\n",
              "          const element = document.querySelector('#df-91cd51ba-8571-49dc-87a5-1be8b0aaa64b');\n",
              "          const dataTable =\n",
              "            await google.colab.kernel.invokeFunction('convertToInteractive',\n",
              "                                                     [key], {});\n",
              "          if (!dataTable) return;\n",
              "\n",
              "          const docLinkHtml = 'Like what you see? Visit the ' +\n",
              "            '<a target=\"_blank\" href=https://colab.research.google.com/notebooks/data_table.ipynb>data table notebook</a>'\n",
              "            + ' to learn more about interactive tables.';\n",
              "          element.innerHTML = '';\n",
              "          dataTable['output_type'] = 'display_data';\n",
              "          await google.colab.output.renderOutput(dataTable, element);\n",
              "          const docLink = document.createElement('div');\n",
              "          docLink.innerHTML = docLinkHtml;\n",
              "          element.appendChild(docLink);\n",
              "        }\n",
              "      </script>\n",
              "    </div>\n",
              "  </div>\n",
              "  "
            ]
          },
          "metadata": {},
          "execution_count": 45
        }
      ]
    },
    {
      "cell_type": "code",
      "source": [
        "rf_7 = RandomForestClassifier(max_depth=7, random_state=42)\n",
        "rf_7_pipe = make_pipeline(preprocessor, rf)\n",
        "rf_7_pipe.fit(X_train, y_train)"
      ],
      "metadata": {
        "colab": {
          "base_uri": "https://localhost:8080/",
          "height": 227
        },
        "id": "_cStjoFgfFhu",
        "outputId": "3f02ff6c-f14a-465c-c55e-c8a22bed8636"
      },
      "execution_count": null,
      "outputs": [
        {
          "output_type": "execute_result",
          "data": {
            "text/plain": [
              "Pipeline(steps=[('columntransformer',\n",
              "                 ColumnTransformer(remainder='passthrough',\n",
              "                                   transformers=[('pipeline-1',\n",
              "                                                  Pipeline(steps=[('simpleimputer',\n",
              "                                                                   SimpleImputer(strategy='most_frequent')),\n",
              "                                                                  ('onehotencoder',\n",
              "                                                                   OneHotEncoder(handle_unknown='ignore',\n",
              "                                                                                 sparse=False))]),\n",
              "                                                  <sklearn.compose._column_transformer.make_column_selector object at 0x7ff8ab5212d0>),\n",
              "                                                 ('pipeline-2',\n",
              "                                                  Pipeline(steps=[('simpleimputer',\n",
              "                                                                   SimpleImputer()),\n",
              "                                                                  ('standardscaler',\n",
              "                                                                   StandardScaler())]),\n",
              "                                                  <sklearn.compose._column_transformer.make_column_selector object at 0x7ff8ab521ed0>)])),\n",
              "                ('randomforestclassifier',\n",
              "                 RandomForestClassifier(max_depth=48))])"
            ],
            "text/html": [
              "<style>#sk-3b0a6345-4ea1-47de-b5d7-7145b220e0e2 {color: black;background-color: white;}#sk-3b0a6345-4ea1-47de-b5d7-7145b220e0e2 pre{padding: 0;}#sk-3b0a6345-4ea1-47de-b5d7-7145b220e0e2 div.sk-toggleable {background-color: white;}#sk-3b0a6345-4ea1-47de-b5d7-7145b220e0e2 label.sk-toggleable__label {cursor: pointer;display: block;width: 100%;margin-bottom: 0;padding: 0.3em;box-sizing: border-box;text-align: center;}#sk-3b0a6345-4ea1-47de-b5d7-7145b220e0e2 label.sk-toggleable__label-arrow:before {content: \"▸\";float: left;margin-right: 0.25em;color: #696969;}#sk-3b0a6345-4ea1-47de-b5d7-7145b220e0e2 label.sk-toggleable__label-arrow:hover:before {color: black;}#sk-3b0a6345-4ea1-47de-b5d7-7145b220e0e2 div.sk-estimator:hover label.sk-toggleable__label-arrow:before {color: black;}#sk-3b0a6345-4ea1-47de-b5d7-7145b220e0e2 div.sk-toggleable__content {max-height: 0;max-width: 0;overflow: hidden;text-align: left;background-color: #f0f8ff;}#sk-3b0a6345-4ea1-47de-b5d7-7145b220e0e2 div.sk-toggleable__content pre {margin: 0.2em;color: black;border-radius: 0.25em;background-color: #f0f8ff;}#sk-3b0a6345-4ea1-47de-b5d7-7145b220e0e2 input.sk-toggleable__control:checked~div.sk-toggleable__content {max-height: 200px;max-width: 100%;overflow: auto;}#sk-3b0a6345-4ea1-47de-b5d7-7145b220e0e2 input.sk-toggleable__control:checked~label.sk-toggleable__label-arrow:before {content: \"▾\";}#sk-3b0a6345-4ea1-47de-b5d7-7145b220e0e2 div.sk-estimator input.sk-toggleable__control:checked~label.sk-toggleable__label {background-color: #d4ebff;}#sk-3b0a6345-4ea1-47de-b5d7-7145b220e0e2 div.sk-label input.sk-toggleable__control:checked~label.sk-toggleable__label {background-color: #d4ebff;}#sk-3b0a6345-4ea1-47de-b5d7-7145b220e0e2 input.sk-hidden--visually {border: 0;clip: rect(1px 1px 1px 1px);clip: rect(1px, 1px, 1px, 1px);height: 1px;margin: -1px;overflow: hidden;padding: 0;position: absolute;width: 1px;}#sk-3b0a6345-4ea1-47de-b5d7-7145b220e0e2 div.sk-estimator {font-family: monospace;background-color: #f0f8ff;border: 1px dotted black;border-radius: 0.25em;box-sizing: border-box;margin-bottom: 0.5em;}#sk-3b0a6345-4ea1-47de-b5d7-7145b220e0e2 div.sk-estimator:hover {background-color: #d4ebff;}#sk-3b0a6345-4ea1-47de-b5d7-7145b220e0e2 div.sk-parallel-item::after {content: \"\";width: 100%;border-bottom: 1px solid gray;flex-grow: 1;}#sk-3b0a6345-4ea1-47de-b5d7-7145b220e0e2 div.sk-label:hover label.sk-toggleable__label {background-color: #d4ebff;}#sk-3b0a6345-4ea1-47de-b5d7-7145b220e0e2 div.sk-serial::before {content: \"\";position: absolute;border-left: 1px solid gray;box-sizing: border-box;top: 2em;bottom: 0;left: 50%;}#sk-3b0a6345-4ea1-47de-b5d7-7145b220e0e2 div.sk-serial {display: flex;flex-direction: column;align-items: center;background-color: white;padding-right: 0.2em;padding-left: 0.2em;}#sk-3b0a6345-4ea1-47de-b5d7-7145b220e0e2 div.sk-item {z-index: 1;}#sk-3b0a6345-4ea1-47de-b5d7-7145b220e0e2 div.sk-parallel {display: flex;align-items: stretch;justify-content: center;background-color: white;}#sk-3b0a6345-4ea1-47de-b5d7-7145b220e0e2 div.sk-parallel::before {content: \"\";position: absolute;border-left: 1px solid gray;box-sizing: border-box;top: 2em;bottom: 0;left: 50%;}#sk-3b0a6345-4ea1-47de-b5d7-7145b220e0e2 div.sk-parallel-item {display: flex;flex-direction: column;position: relative;background-color: white;}#sk-3b0a6345-4ea1-47de-b5d7-7145b220e0e2 div.sk-parallel-item:first-child::after {align-self: flex-end;width: 50%;}#sk-3b0a6345-4ea1-47de-b5d7-7145b220e0e2 div.sk-parallel-item:last-child::after {align-self: flex-start;width: 50%;}#sk-3b0a6345-4ea1-47de-b5d7-7145b220e0e2 div.sk-parallel-item:only-child::after {width: 0;}#sk-3b0a6345-4ea1-47de-b5d7-7145b220e0e2 div.sk-dashed-wrapped {border: 1px dashed gray;margin: 0 0.4em 0.5em 0.4em;box-sizing: border-box;padding-bottom: 0.4em;background-color: white;position: relative;}#sk-3b0a6345-4ea1-47de-b5d7-7145b220e0e2 div.sk-label label {font-family: monospace;font-weight: bold;background-color: white;display: inline-block;line-height: 1.2em;}#sk-3b0a6345-4ea1-47de-b5d7-7145b220e0e2 div.sk-label-container {position: relative;z-index: 2;text-align: center;}#sk-3b0a6345-4ea1-47de-b5d7-7145b220e0e2 div.sk-container {/* jupyter's `normalize.less` sets `[hidden] { display: none; }` but bootstrap.min.css set `[hidden] { display: none !important; }` so we also need the `!important` here to be able to override the default hidden behavior on the sphinx rendered scikit-learn.org. See: https://github.com/scikit-learn/scikit-learn/issues/21755 */display: inline-block !important;position: relative;}#sk-3b0a6345-4ea1-47de-b5d7-7145b220e0e2 div.sk-text-repr-fallback {display: none;}</style><div id=\"sk-3b0a6345-4ea1-47de-b5d7-7145b220e0e2\" class=\"sk-top-container\"><div class=\"sk-text-repr-fallback\"><pre>Pipeline(steps=[(&#x27;columntransformer&#x27;,\n",
              "                 ColumnTransformer(remainder=&#x27;passthrough&#x27;,\n",
              "                                   transformers=[(&#x27;pipeline-1&#x27;,\n",
              "                                                  Pipeline(steps=[(&#x27;simpleimputer&#x27;,\n",
              "                                                                   SimpleImputer(strategy=&#x27;most_frequent&#x27;)),\n",
              "                                                                  (&#x27;onehotencoder&#x27;,\n",
              "                                                                   OneHotEncoder(handle_unknown=&#x27;ignore&#x27;,\n",
              "                                                                                 sparse=False))]),\n",
              "                                                  &lt;sklearn.compose._column_transformer.make_column_selector object at 0x7ff8ab5212d0&gt;),\n",
              "                                                 (&#x27;pipeline-2&#x27;,\n",
              "                                                  Pipeline(steps=[(&#x27;simpleimputer&#x27;,\n",
              "                                                                   SimpleImputer()),\n",
              "                                                                  (&#x27;standardscaler&#x27;,\n",
              "                                                                   StandardScaler())]),\n",
              "                                                  &lt;sklearn.compose._column_transformer.make_column_selector object at 0x7ff8ab521ed0&gt;)])),\n",
              "                (&#x27;randomforestclassifier&#x27;,\n",
              "                 RandomForestClassifier(max_depth=48))])</pre><b>Please rerun this cell to show the HTML repr or trust the notebook.</b></div><div class=\"sk-container\" hidden><div class=\"sk-item sk-dashed-wrapped\"><div class=\"sk-label-container\"><div class=\"sk-label sk-toggleable\"><input class=\"sk-toggleable__control sk-hidden--visually\" id=\"b29e2669-b95e-49d5-b42b-229a4f47fdf0\" type=\"checkbox\" ><label for=\"b29e2669-b95e-49d5-b42b-229a4f47fdf0\" class=\"sk-toggleable__label sk-toggleable__label-arrow\">Pipeline</label><div class=\"sk-toggleable__content\"><pre>Pipeline(steps=[(&#x27;columntransformer&#x27;,\n",
              "                 ColumnTransformer(remainder=&#x27;passthrough&#x27;,\n",
              "                                   transformers=[(&#x27;pipeline-1&#x27;,\n",
              "                                                  Pipeline(steps=[(&#x27;simpleimputer&#x27;,\n",
              "                                                                   SimpleImputer(strategy=&#x27;most_frequent&#x27;)),\n",
              "                                                                  (&#x27;onehotencoder&#x27;,\n",
              "                                                                   OneHotEncoder(handle_unknown=&#x27;ignore&#x27;,\n",
              "                                                                                 sparse=False))]),\n",
              "                                                  &lt;sklearn.compose._column_transformer.make_column_selector object at 0x7ff8ab5212d0&gt;),\n",
              "                                                 (&#x27;pipeline-2&#x27;,\n",
              "                                                  Pipeline(steps=[(&#x27;simpleimputer&#x27;,\n",
              "                                                                   SimpleImputer()),\n",
              "                                                                  (&#x27;standardscaler&#x27;,\n",
              "                                                                   StandardScaler())]),\n",
              "                                                  &lt;sklearn.compose._column_transformer.make_column_selector object at 0x7ff8ab521ed0&gt;)])),\n",
              "                (&#x27;randomforestclassifier&#x27;,\n",
              "                 RandomForestClassifier(max_depth=48))])</pre></div></div></div><div class=\"sk-serial\"><div class=\"sk-item sk-dashed-wrapped\"><div class=\"sk-label-container\"><div class=\"sk-label sk-toggleable\"><input class=\"sk-toggleable__control sk-hidden--visually\" id=\"4f2181bf-27d7-4f03-8e9c-ba737337f188\" type=\"checkbox\" ><label for=\"4f2181bf-27d7-4f03-8e9c-ba737337f188\" class=\"sk-toggleable__label sk-toggleable__label-arrow\">columntransformer: ColumnTransformer</label><div class=\"sk-toggleable__content\"><pre>ColumnTransformer(remainder=&#x27;passthrough&#x27;,\n",
              "                  transformers=[(&#x27;pipeline-1&#x27;,\n",
              "                                 Pipeline(steps=[(&#x27;simpleimputer&#x27;,\n",
              "                                                  SimpleImputer(strategy=&#x27;most_frequent&#x27;)),\n",
              "                                                 (&#x27;onehotencoder&#x27;,\n",
              "                                                  OneHotEncoder(handle_unknown=&#x27;ignore&#x27;,\n",
              "                                                                sparse=False))]),\n",
              "                                 &lt;sklearn.compose._column_transformer.make_column_selector object at 0x7ff8ab5212d0&gt;),\n",
              "                                (&#x27;pipeline-2&#x27;,\n",
              "                                 Pipeline(steps=[(&#x27;simpleimputer&#x27;,\n",
              "                                                  SimpleImputer()),\n",
              "                                                 (&#x27;standardscaler&#x27;,\n",
              "                                                  StandardScaler())]),\n",
              "                                 &lt;sklearn.compose._column_transformer.make_column_selector object at 0x7ff8ab521ed0&gt;)])</pre></div></div></div><div class=\"sk-parallel\"><div class=\"sk-parallel-item\"><div class=\"sk-item\"><div class=\"sk-label-container\"><div class=\"sk-label sk-toggleable\"><input class=\"sk-toggleable__control sk-hidden--visually\" id=\"e60f2004-322f-417d-8f1a-0621a28dec11\" type=\"checkbox\" ><label for=\"e60f2004-322f-417d-8f1a-0621a28dec11\" class=\"sk-toggleable__label sk-toggleable__label-arrow\">pipeline-1</label><div class=\"sk-toggleable__content\"><pre>&lt;sklearn.compose._column_transformer.make_column_selector object at 0x7ff8ab5212d0&gt;</pre></div></div></div><div class=\"sk-serial\"><div class=\"sk-item\"><div class=\"sk-serial\"><div class=\"sk-item\"><div class=\"sk-estimator sk-toggleable\"><input class=\"sk-toggleable__control sk-hidden--visually\" id=\"6ad43038-f1fe-4d60-bf98-1994a8673756\" type=\"checkbox\" ><label for=\"6ad43038-f1fe-4d60-bf98-1994a8673756\" class=\"sk-toggleable__label sk-toggleable__label-arrow\">SimpleImputer</label><div class=\"sk-toggleable__content\"><pre>SimpleImputer(strategy=&#x27;most_frequent&#x27;)</pre></div></div></div><div class=\"sk-item\"><div class=\"sk-estimator sk-toggleable\"><input class=\"sk-toggleable__control sk-hidden--visually\" id=\"fa909d08-69ad-46a7-a963-2cb893e9155f\" type=\"checkbox\" ><label for=\"fa909d08-69ad-46a7-a963-2cb893e9155f\" class=\"sk-toggleable__label sk-toggleable__label-arrow\">OneHotEncoder</label><div class=\"sk-toggleable__content\"><pre>OneHotEncoder(handle_unknown=&#x27;ignore&#x27;, sparse=False)</pre></div></div></div></div></div></div></div></div><div class=\"sk-parallel-item\"><div class=\"sk-item\"><div class=\"sk-label-container\"><div class=\"sk-label sk-toggleable\"><input class=\"sk-toggleable__control sk-hidden--visually\" id=\"4508945e-daa3-4504-aeed-9b4c1eb05e4a\" type=\"checkbox\" ><label for=\"4508945e-daa3-4504-aeed-9b4c1eb05e4a\" class=\"sk-toggleable__label sk-toggleable__label-arrow\">pipeline-2</label><div class=\"sk-toggleable__content\"><pre>&lt;sklearn.compose._column_transformer.make_column_selector object at 0x7ff8ab521ed0&gt;</pre></div></div></div><div class=\"sk-serial\"><div class=\"sk-item\"><div class=\"sk-serial\"><div class=\"sk-item\"><div class=\"sk-estimator sk-toggleable\"><input class=\"sk-toggleable__control sk-hidden--visually\" id=\"c473b8a0-ff6a-4852-925a-d67f07bc7417\" type=\"checkbox\" ><label for=\"c473b8a0-ff6a-4852-925a-d67f07bc7417\" class=\"sk-toggleable__label sk-toggleable__label-arrow\">SimpleImputer</label><div class=\"sk-toggleable__content\"><pre>SimpleImputer()</pre></div></div></div><div class=\"sk-item\"><div class=\"sk-estimator sk-toggleable\"><input class=\"sk-toggleable__control sk-hidden--visually\" id=\"29d5049e-98a9-483b-8898-2400dfbae0de\" type=\"checkbox\" ><label for=\"29d5049e-98a9-483b-8898-2400dfbae0de\" class=\"sk-toggleable__label sk-toggleable__label-arrow\">StandardScaler</label><div class=\"sk-toggleable__content\"><pre>StandardScaler()</pre></div></div></div></div></div></div></div></div><div class=\"sk-parallel-item\"><div class=\"sk-item\"><div class=\"sk-label-container\"><div class=\"sk-label sk-toggleable\"><input class=\"sk-toggleable__control sk-hidden--visually\" id=\"81f3c618-d7e3-43aa-b98f-63a8ffc8526f\" type=\"checkbox\" ><label for=\"81f3c618-d7e3-43aa-b98f-63a8ffc8526f\" class=\"sk-toggleable__label sk-toggleable__label-arrow\">remainder</label><div class=\"sk-toggleable__content\"><pre>[]</pre></div></div></div><div class=\"sk-serial\"><div class=\"sk-item\"><div class=\"sk-estimator sk-toggleable\"><input class=\"sk-toggleable__control sk-hidden--visually\" id=\"1252177e-4b67-4527-b72d-cd76db2188cc\" type=\"checkbox\" ><label for=\"1252177e-4b67-4527-b72d-cd76db2188cc\" class=\"sk-toggleable__label sk-toggleable__label-arrow\">passthrough</label><div class=\"sk-toggleable__content\"><pre>passthrough</pre></div></div></div></div></div></div></div></div><div class=\"sk-item\"><div class=\"sk-estimator sk-toggleable\"><input class=\"sk-toggleable__control sk-hidden--visually\" id=\"97d7500c-b36c-4040-a57b-2b6bc4112681\" type=\"checkbox\" ><label for=\"97d7500c-b36c-4040-a57b-2b6bc4112681\" class=\"sk-toggleable__label sk-toggleable__label-arrow\">RandomForestClassifier</label><div class=\"sk-toggleable__content\"><pre>RandomForestClassifier(max_depth=48)</pre></div></div></div></div></div></div></div>"
            ]
          },
          "metadata": {},
          "execution_count": 47
        }
      ]
    },
    {
      "cell_type": "code",
      "source": [
        "rf_7_pred = rf_7_pipe.predict(X_test)\n",
        "rf_7_pred"
      ],
      "metadata": {
        "colab": {
          "base_uri": "https://localhost:8080/"
        },
        "id": "q4odz8jHf_aC",
        "outputId": "fd0f138e-97b6-4ab5-9c87-4da79ca1b135"
      },
      "execution_count": null,
      "outputs": [
        {
          "output_type": "execute_result",
          "data": {
            "text/plain": [
              "array([0, 0, 0, ..., 0, 0, 0])"
            ]
          },
          "metadata": {},
          "execution_count": 48
        }
      ]
    },
    {
      "cell_type": "code",
      "source": [
        "rf_7_train_score = rf_7_pipe.score(X_train, y_train)\n",
        "rf_7_test_score = rf_7_pipe.score(X_test, y_test)\n",
        "print(rf_7_train_score)\n",
        "print(rf_7_test_score)"
      ],
      "metadata": {
        "colab": {
          "base_uri": "https://localhost:8080/"
        },
        "id": "bMdBiJKJew52",
        "outputId": "531da46b-a2b3-45b0-eafb-31f753f45b2d"
      },
      "execution_count": null,
      "outputs": [
        {
          "output_type": "stream",
          "name": "stdout",
          "text": [
            "1.0\n",
            "0.8022\n"
          ]
        }
      ]
    },
    {
      "cell_type": "markdown",
      "source": [
        "From the Confusion Matrix below, we can see our true positives equate to 98% but our true negatives were 10%. The model predicted 90% of the data to have their loans paid when the loan was not paid. This can create an issue if the model were produced because Lending Tree does not want to report their borrowers have paid off their loan when they haven't. When comparing the models, this model would be the better choice."
      ],
      "metadata": {
        "id": "A-nfVcw0OUfb"
      }
    },
    {
      "cell_type": "code",
      "source": [
        "labels=['Paid', 'Not Paid']\n",
        "ConfusionMatrixDisplay.from_predictions(y_test, rf_7_pred, \n",
        "                                        display_labels = labels, \n",
        "                                        cmap='Purples', normalize='true');"
      ],
      "metadata": {
        "colab": {
          "base_uri": "https://localhost:8080/",
          "height": 883
        },
        "id": "AbCHui2oftX3",
        "outputId": "69cf09a0-218a-4f20-ff43-1185077037cd"
      },
      "execution_count": null,
      "outputs": [
        {
          "output_type": "display_data",
          "data": {
            "text/plain": [
              "<Figure size 1440x1080 with 2 Axes>"
            ],
            "image/png": "[encoded data removed]"
          },
          "metadata": {}
        }
      ]
    },
    {
      "cell_type": "code",
      "source": [
        "print('Classification Report for Training Set')\n",
        "rf_report = classification_report(y_test, rf_7_pred)\n",
        "print(rf_report)"
      ],
      "metadata": {
        "colab": {
          "base_uri": "https://localhost:8080/"
        },
        "id": "HtW1XXb4gLPj",
        "outputId": "43cc33ac-965d-4448-f424-c64532bc9709"
      },
      "execution_count": null,
      "outputs": [
        {
          "output_type": "stream",
          "name": "stdout",
          "text": [
            "Classification Report for Training Set\n",
            "              precision    recall  f1-score   support\n",
            "\n",
            "           0       0.81      0.98      0.89      3998\n",
            "           1       0.54      0.10      0.17      1002\n",
            "\n",
            "    accuracy                           0.80      5000\n",
            "   macro avg       0.67      0.54      0.53      5000\n",
            "weighted avg       0.76      0.80      0.74      5000\n",
            "\n"
          ]
        }
      ]
    },
    {
      "cell_type": "markdown",
      "source": [
        "Random Forest Classification with PCA"
      ],
      "metadata": {
        "id": "wzKuOxAqmpBj"
      }
    },
    {
      "cell_type": "code",
      "source": [
        "rf_pca_pipe = make_pipeline(preprocessor, scaler, pca, rf)\n",
        "rf_pca_pipe.fit(X_train, y_train)"
      ],
      "metadata": {
        "colab": {
          "base_uri": "https://localhost:8080/",
          "height": 296
        },
        "id": "laMCtHyEgUWD",
        "outputId": "a3665028-fa8d-4473-d92b-f6af99c1ebdd"
      },
      "execution_count": null,
      "outputs": [
        {
          "output_type": "execute_result",
          "data": {
            "text/plain": [
              "Pipeline(steps=[('columntransformer',\n",
              "                 ColumnTransformer(remainder='passthrough',\n",
              "                                   transformers=[('pipeline-1',\n",
              "                                                  Pipeline(steps=[('simpleimputer',\n",
              "                                                                   SimpleImputer(strategy='most_frequent')),\n",
              "                                                                  ('onehotencoder',\n",
              "                                                                   OneHotEncoder(handle_unknown='ignore',\n",
              "                                                                                 sparse=False))]),\n",
              "                                                  <sklearn.compose._column_transformer.make_column_selector object at 0x7ff8ab5212d0>),\n",
              "                                                 ('pipeline-2',\n",
              "                                                  Pipeline(steps=[('simpleimputer',\n",
              "                                                                   SimpleImputer()),\n",
              "                                                                  ('standardscaler',\n",
              "                                                                   StandardScaler())]),\n",
              "                                                  <sklearn.compose._column_transformer.make_column_selector object at 0x7ff8ab521ed0>)])),\n",
              "                ('standardscaler', StandardScaler()),\n",
              "                ('pca', PCA(n_components=0.95)),\n",
              "                ('randomforestclassifier',\n",
              "                 RandomForestClassifier(max_depth=48))])"
            ],
            "text/html": [
              "<style>#sk-e2ff97d4-7d16-4a20-b1e3-9add6c163895 {color: black;background-color: white;}#sk-e2ff97d4-7d16-4a20-b1e3-9add6c163895 pre{padding: 0;}#sk-e2ff97d4-7d16-4a20-b1e3-9add6c163895 div.sk-toggleable {background-color: white;}#sk-e2ff97d4-7d16-4a20-b1e3-9add6c163895 label.sk-toggleable__label {cursor: pointer;display: block;width: 100%;margin-bottom: 0;padding: 0.3em;box-sizing: border-box;text-align: center;}#sk-e2ff97d4-7d16-4a20-b1e3-9add6c163895 label.sk-toggleable__label-arrow:before {content: \"▸\";float: left;margin-right: 0.25em;color: #696969;}#sk-e2ff97d4-7d16-4a20-b1e3-9add6c163895 label.sk-toggleable__label-arrow:hover:before {color: black;}#sk-e2ff97d4-7d16-4a20-b1e3-9add6c163895 div.sk-estimator:hover label.sk-toggleable__label-arrow:before {color: black;}#sk-e2ff97d4-7d16-4a20-b1e3-9add6c163895 div.sk-toggleable__content {max-height: 0;max-width: 0;overflow: hidden;text-align: left;background-color: #f0f8ff;}#sk-e2ff97d4-7d16-4a20-b1e3-9add6c163895 div.sk-toggleable__content pre {margin: 0.2em;color: black;border-radius: 0.25em;background-color: #f0f8ff;}#sk-e2ff97d4-7d16-4a20-b1e3-9add6c163895 input.sk-toggleable__control:checked~div.sk-toggleable__content {max-height: 200px;max-width: 100%;overflow: auto;}#sk-e2ff97d4-7d16-4a20-b1e3-9add6c163895 input.sk-toggleable__control:checked~label.sk-toggleable__label-arrow:before {content: \"▾\";}#sk-e2ff97d4-7d16-4a20-b1e3-9add6c163895 div.sk-estimator input.sk-toggleable__control:checked~label.sk-toggleable__label {background-color: #d4ebff;}#sk-e2ff97d4-7d16-4a20-b1e3-9add6c163895 div.sk-label input.sk-toggleable__control:checked~label.sk-toggleable__label {background-color: #d4ebff;}#sk-e2ff97d4-7d16-4a20-b1e3-9add6c163895 input.sk-hidden--visually {border: 0;clip: rect(1px 1px 1px 1px);clip: rect(1px, 1px, 1px, 1px);height: 1px;margin: -1px;overflow: hidden;padding: 0;position: absolute;width: 1px;}#sk-e2ff97d4-7d16-4a20-b1e3-9add6c163895 div.sk-estimator {font-family: monospace;background-color: #f0f8ff;border: 1px dotted black;border-radius: 0.25em;box-sizing: border-box;margin-bottom: 0.5em;}#sk-e2ff97d4-7d16-4a20-b1e3-9add6c163895 div.sk-estimator:hover {background-color: #d4ebff;}#sk-e2ff97d4-7d16-4a20-b1e3-9add6c163895 div.sk-parallel-item::after {content: \"\";width: 100%;border-bottom: 1px solid gray;flex-grow: 1;}#sk-e2ff97d4-7d16-4a20-b1e3-9add6c163895 div.sk-label:hover label.sk-toggleable__label {background-color: #d4ebff;}#sk-e2ff97d4-7d16-4a20-b1e3-9add6c163895 div.sk-serial::before {content: \"\";position: absolute;border-left: 1px solid gray;box-sizing: border-box;top: 2em;bottom: 0;left: 50%;}#sk-e2ff97d4-7d16-4a20-b1e3-9add6c163895 div.sk-serial {display: flex;flex-direction: column;align-items: center;background-color: white;padding-right: 0.2em;padding-left: 0.2em;}#sk-e2ff97d4-7d16-4a20-b1e3-9add6c163895 div.sk-item {z-index: 1;}#sk-e2ff97d4-7d16-4a20-b1e3-9add6c163895 div.sk-parallel {display: flex;align-items: stretch;justify-content: center;background-color: white;}#sk-e2ff97d4-7d16-4a20-b1e3-9add6c163895 div.sk-parallel::before {content: \"\";position: absolute;border-left: 1px solid gray;box-sizing: border-box;top: 2em;bottom: 0;left: 50%;}#sk-e2ff97d4-7d16-4a20-b1e3-9add6c163895 div.sk-parallel-item {display: flex;flex-direction: column;position: relative;background-color: white;}#sk-e2ff97d4-7d16-4a20-b1e3-9add6c163895 div.sk-parallel-item:first-child::after {align-self: flex-end;width: 50%;}#sk-e2ff97d4-7d16-4a20-b1e3-9add6c163895 div.sk-parallel-item:last-child::after {align-self: flex-start;width: 50%;}#sk-e2ff97d4-7d16-4a20-b1e3-9add6c163895 div.sk-parallel-item:only-child::after {width: 0;}#sk-e2ff97d4-7d16-4a20-b1e3-9add6c163895 div.sk-dashed-wrapped {border: 1px dashed gray;margin: 0 0.4em 0.5em 0.4em;box-sizing: border-box;padding-bottom: 0.4em;background-color: white;position: relative;}#sk-e2ff97d4-7d16-4a20-b1e3-9add6c163895 div.sk-label label {font-family: monospace;font-weight: bold;background-color: white;display: inline-block;line-height: 1.2em;}#sk-e2ff97d4-7d16-4a20-b1e3-9add6c163895 div.sk-label-container {position: relative;z-index: 2;text-align: center;}#sk-e2ff97d4-7d16-4a20-b1e3-9add6c163895 div.sk-container {/* jupyter's `normalize.less` sets `[hidden] { display: none; }` but bootstrap.min.css set `[hidden] { display: none !important; }` so we also need the `!important` here to be able to override the default hidden behavior on the sphinx rendered scikit-learn.org. See: https://github.com/scikit-learn/scikit-learn/issues/21755 */display: inline-block !important;position: relative;}#sk-e2ff97d4-7d16-4a20-b1e3-9add6c163895 div.sk-text-repr-fallback {display: none;}</style><div id=\"sk-e2ff97d4-7d16-4a20-b1e3-9add6c163895\" class=\"sk-top-container\"><div class=\"sk-text-repr-fallback\"><pre>Pipeline(steps=[(&#x27;columntransformer&#x27;,\n",
              "                 ColumnTransformer(remainder=&#x27;passthrough&#x27;,\n",
              "                                   transformers=[(&#x27;pipeline-1&#x27;,\n",
              "                                                  Pipeline(steps=[(&#x27;simpleimputer&#x27;,\n",
              "                                                                   SimpleImputer(strategy=&#x27;most_frequent&#x27;)),\n",
              "                                                                  (&#x27;onehotencoder&#x27;,\n",
              "                                                                   OneHotEncoder(handle_unknown=&#x27;ignore&#x27;,\n",
              "                                                                                 sparse=False))]),\n",
              "                                                  &lt;sklearn.compose._column_transformer.make_column_selector object at 0x7ff8ab5212d0&gt;),\n",
              "                                                 (&#x27;pipeline-2&#x27;,\n",
              "                                                  Pipeline(steps=[(&#x27;simpleimputer&#x27;,\n",
              "                                                                   SimpleImputer()),\n",
              "                                                                  (&#x27;standardscaler&#x27;,\n",
              "                                                                   StandardScaler())]),\n",
              "                                                  &lt;sklearn.compose._column_transformer.make_column_selector object at 0x7ff8ab521ed0&gt;)])),\n",
              "                (&#x27;standardscaler&#x27;, StandardScaler()),\n",
              "                (&#x27;pca&#x27;, PCA(n_components=0.95)),\n",
              "                (&#x27;randomforestclassifier&#x27;,\n",
              "                 RandomForestClassifier(max_depth=48))])</pre><b>Please rerun this cell to show the HTML repr or trust the notebook.</b></div><div class=\"sk-container\" hidden><div class=\"sk-item sk-dashed-wrapped\"><div class=\"sk-label-container\"><div class=\"sk-label sk-toggleable\"><input class=\"sk-toggleable__control sk-hidden--visually\" id=\"36d4ef09-c9e7-49f8-9051-c97e928dd88c\" type=\"checkbox\" ><label for=\"36d4ef09-c9e7-49f8-9051-c97e928dd88c\" class=\"sk-toggleable__label sk-toggleable__label-arrow\">Pipeline</label><div class=\"sk-toggleable__content\"><pre>Pipeline(steps=[(&#x27;columntransformer&#x27;,\n",
              "                 ColumnTransformer(remainder=&#x27;passthrough&#x27;,\n",
              "                                   transformers=[(&#x27;pipeline-1&#x27;,\n",
              "                                                  Pipeline(steps=[(&#x27;simpleimputer&#x27;,\n",
              "                                                                   SimpleImputer(strategy=&#x27;most_frequent&#x27;)),\n",
              "                                                                  (&#x27;onehotencoder&#x27;,\n",
              "                                                                   OneHotEncoder(handle_unknown=&#x27;ignore&#x27;,\n",
              "                                                                                 sparse=False))]),\n",
              "                                                  &lt;sklearn.compose._column_transformer.make_column_selector object at 0x7ff8ab5212d0&gt;),\n",
              "                                                 (&#x27;pipeline-2&#x27;,\n",
              "                                                  Pipeline(steps=[(&#x27;simpleimputer&#x27;,\n",
              "                                                                   SimpleImputer()),\n",
              "                                                                  (&#x27;standardscaler&#x27;,\n",
              "                                                                   StandardScaler())]),\n",
              "                                                  &lt;sklearn.compose._column_transformer.make_column_selector object at 0x7ff8ab521ed0&gt;)])),\n",
              "                (&#x27;standardscaler&#x27;, StandardScaler()),\n",
              "                (&#x27;pca&#x27;, PCA(n_components=0.95)),\n",
              "                (&#x27;randomforestclassifier&#x27;,\n",
              "                 RandomForestClassifier(max_depth=48))])</pre></div></div></div><div class=\"sk-serial\"><div class=\"sk-item sk-dashed-wrapped\"><div class=\"sk-label-container\"><div class=\"sk-label sk-toggleable\"><input class=\"sk-toggleable__control sk-hidden--visually\" id=\"77b0dd33-600c-4b9e-99e0-5229df42b6aa\" type=\"checkbox\" ><label for=\"77b0dd33-600c-4b9e-99e0-5229df42b6aa\" class=\"sk-toggleable__label sk-toggleable__label-arrow\">columntransformer: ColumnTransformer</label><div class=\"sk-toggleable__content\"><pre>ColumnTransformer(remainder=&#x27;passthrough&#x27;,\n",
              "                  transformers=[(&#x27;pipeline-1&#x27;,\n",
              "                                 Pipeline(steps=[(&#x27;simpleimputer&#x27;,\n",
              "                                                  SimpleImputer(strategy=&#x27;most_frequent&#x27;)),\n",
              "                                                 (&#x27;onehotencoder&#x27;,\n",
              "                                                  OneHotEncoder(handle_unknown=&#x27;ignore&#x27;,\n",
              "                                                                sparse=False))]),\n",
              "                                 &lt;sklearn.compose._column_transformer.make_column_selector object at 0x7ff8ab5212d0&gt;),\n",
              "                                (&#x27;pipeline-2&#x27;,\n",
              "                                 Pipeline(steps=[(&#x27;simpleimputer&#x27;,\n",
              "                                                  SimpleImputer()),\n",
              "                                                 (&#x27;standardscaler&#x27;,\n",
              "                                                  StandardScaler())]),\n",
              "                                 &lt;sklearn.compose._column_transformer.make_column_selector object at 0x7ff8ab521ed0&gt;)])</pre></div></div></div><div class=\"sk-parallel\"><div class=\"sk-parallel-item\"><div class=\"sk-item\"><div class=\"sk-label-container\"><div class=\"sk-label sk-toggleable\"><input class=\"sk-toggleable__control sk-hidden--visually\" id=\"762c022b-52cb-4881-8b74-d664e508dd4d\" type=\"checkbox\" ><label for=\"762c022b-52cb-4881-8b74-d664e508dd4d\" class=\"sk-toggleable__label sk-toggleable__label-arrow\">pipeline-1</label><div class=\"sk-toggleable__content\"><pre>&lt;sklearn.compose._column_transformer.make_column_selector object at 0x7ff8ab5212d0&gt;</pre></div></div></div><div class=\"sk-serial\"><div class=\"sk-item\"><div class=\"sk-serial\"><div class=\"sk-item\"><div class=\"sk-estimator sk-toggleable\"><input class=\"sk-toggleable__control sk-hidden--visually\" id=\"04e24b0a-1c69-43f9-891a-73beff8b486d\" type=\"checkbox\" ><label for=\"04e24b0a-1c69-43f9-891a-73beff8b486d\" class=\"sk-toggleable__label sk-toggleable__label-arrow\">SimpleImputer</label><div class=\"sk-toggleable__content\"><pre>SimpleImputer(strategy=&#x27;most_frequent&#x27;)</pre></div></div></div><div class=\"sk-item\"><div class=\"sk-estimator sk-toggleable\"><input class=\"sk-toggleable__control sk-hidden--visually\" id=\"2757a25e-e430-4545-9399-492715a4298d\" type=\"checkbox\" ><label for=\"2757a25e-e430-4545-9399-492715a4298d\" class=\"sk-toggleable__label sk-toggleable__label-arrow\">OneHotEncoder</label><div class=\"sk-toggleable__content\"><pre>OneHotEncoder(handle_unknown=&#x27;ignore&#x27;, sparse=False)</pre></div></div></div></div></div></div></div></div><div class=\"sk-parallel-item\"><div class=\"sk-item\"><div class=\"sk-label-container\"><div class=\"sk-label sk-toggleable\"><input class=\"sk-toggleable__control sk-hidden--visually\" id=\"33b6b455-4b35-4bdc-b263-2e9f55f32a20\" type=\"checkbox\" ><label for=\"33b6b455-4b35-4bdc-b263-2e9f55f32a20\" class=\"sk-toggleable__label sk-toggleable__label-arrow\">pipeline-2</label><div class=\"sk-toggleable__content\"><pre>&lt;sklearn.compose._column_transformer.make_column_selector object at 0x7ff8ab521ed0&gt;</pre></div></div></div><div class=\"sk-serial\"><div class=\"sk-item\"><div class=\"sk-serial\"><div class=\"sk-item\"><div class=\"sk-estimator sk-toggleable\"><input class=\"sk-toggleable__control sk-hidden--visually\" id=\"c0b09088-31d7-40f8-bc35-fc30f9551bc6\" type=\"checkbox\" ><label for=\"c0b09088-31d7-40f8-bc35-fc30f9551bc6\" class=\"sk-toggleable__label sk-toggleable__label-arrow\">SimpleImputer</label><div class=\"sk-toggleable__content\"><pre>SimpleImputer()</pre></div></div></div><div class=\"sk-item\"><div class=\"sk-estimator sk-toggleable\"><input class=\"sk-toggleable__control sk-hidden--visually\" id=\"162631f0-260a-494f-bf03-853b3075d249\" type=\"checkbox\" ><label for=\"162631f0-260a-494f-bf03-853b3075d249\" class=\"sk-toggleable__label sk-toggleable__label-arrow\">StandardScaler</label><div class=\"sk-toggleable__content\"><pre>StandardScaler()</pre></div></div></div></div></div></div></div></div><div class=\"sk-parallel-item\"><div class=\"sk-item\"><div class=\"sk-label-container\"><div class=\"sk-label sk-toggleable\"><input class=\"sk-toggleable__control sk-hidden--visually\" id=\"c4cd6df1-d1f1-45ab-944b-4a9e1e7cbab2\" type=\"checkbox\" ><label for=\"c4cd6df1-d1f1-45ab-944b-4a9e1e7cbab2\" class=\"sk-toggleable__label sk-toggleable__label-arrow\">remainder</label><div class=\"sk-toggleable__content\"><pre>[]</pre></div></div></div><div class=\"sk-serial\"><div class=\"sk-item\"><div class=\"sk-estimator sk-toggleable\"><input class=\"sk-toggleable__control sk-hidden--visually\" id=\"8a673d7e-2a80-4abd-a2e9-781620f3b693\" type=\"checkbox\" ><label for=\"8a673d7e-2a80-4abd-a2e9-781620f3b693\" class=\"sk-toggleable__label sk-toggleable__label-arrow\">passthrough</label><div class=\"sk-toggleable__content\"><pre>passthrough</pre></div></div></div></div></div></div></div></div><div class=\"sk-item\"><div class=\"sk-estimator sk-toggleable\"><input class=\"sk-toggleable__control sk-hidden--visually\" id=\"f456de31-92a3-4586-8bee-b079b3f25c2c\" type=\"checkbox\" ><label for=\"f456de31-92a3-4586-8bee-b079b3f25c2c\" class=\"sk-toggleable__label sk-toggleable__label-arrow\">StandardScaler</label><div class=\"sk-toggleable__content\"><pre>StandardScaler()</pre></div></div></div><div class=\"sk-item\"><div class=\"sk-estimator sk-toggleable\"><input class=\"sk-toggleable__control sk-hidden--visually\" id=\"9d118e48-5532-4ce5-af7b-1378dbbe88be\" type=\"checkbox\" ><label for=\"9d118e48-5532-4ce5-af7b-1378dbbe88be\" class=\"sk-toggleable__label sk-toggleable__label-arrow\">PCA</label><div class=\"sk-toggleable__content\"><pre>PCA(n_components=0.95)</pre></div></div></div><div class=\"sk-item\"><div class=\"sk-estimator sk-toggleable\"><input class=\"sk-toggleable__control sk-hidden--visually\" id=\"5ba3c62c-f50e-4ac9-9075-14cb5bbdca2c\" type=\"checkbox\" ><label for=\"5ba3c62c-f50e-4ac9-9075-14cb5bbdca2c\" class=\"sk-toggleable__label sk-toggleable__label-arrow\">RandomForestClassifier</label><div class=\"sk-toggleable__content\"><pre>RandomForestClassifier(max_depth=48)</pre></div></div></div></div></div></div></div>"
            ]
          },
          "metadata": {},
          "execution_count": 64
        }
      ]
    },
    {
      "cell_type": "code",
      "source": [
        "rf_pca_pipe.predict(X_test)"
      ],
      "metadata": {
        "colab": {
          "base_uri": "https://localhost:8080/"
        },
        "id": "Pc9j_ACGmzt0",
        "outputId": "b9752c84-33b2-4d95-a864-087fdc829acc"
      },
      "execution_count": null,
      "outputs": [
        {
          "output_type": "execute_result",
          "data": {
            "text/plain": [
              "array([0, 0, 0, ..., 0, 0, 0])"
            ]
          },
          "metadata": {},
          "execution_count": 65
        }
      ]
    },
    {
      "cell_type": "code",
      "source": [
        "rf_pca_train_score = rf_pca_pipe.score(X_train, y_train)\n",
        "rf_pca_test_score = rf_pca_pipe.score(X_test, y_test)\n",
        "print(rf_pca_train_score)\n",
        "print(rf_pca_test_score)"
      ],
      "metadata": {
        "colab": {
          "base_uri": "https://localhost:8080/"
        },
        "id": "iIs_yTB7nKrD",
        "outputId": "94e4be3c-3403-4a06-a280-c539e616fc7d"
      },
      "execution_count": null,
      "outputs": [
        {
          "output_type": "stream",
          "name": "stdout",
          "text": [
            "0.9999333333333333\n",
            "0.7988\n"
          ]
        }
      ]
    },
    {
      "cell_type": "code",
      "source": [
        "est_depth = [estimator.get_depth() for estimator in rf.estimators_]\n",
        "max(est_depth)"
      ],
      "metadata": {
        "colab": {
          "base_uri": "https://localhost:8080/"
        },
        "id": "i51sryUYnSFr",
        "outputId": "3d52bbbd-9aec-4894-b0fe-47d1c238f776"
      },
      "execution_count": null,
      "outputs": [
        {
          "output_type": "execute_result",
          "data": {
            "text/plain": [
              "48"
            ]
          },
          "metadata": {},
          "execution_count": 67
        }
      ]
    },
    {
      "cell_type": "markdown",
      "source": [
        "From the algorithm below, we have determined with a PCA random forest model of 48 depth, the most accurate depth would be when max depth is equal to 29."
      ],
      "metadata": {
        "id": "LbXcusFXOgvl"
      }
    },
    {
      "cell_type": "code",
      "source": [
        "depths = range(1, max(est_depth))\n",
        "score = pd.DataFrame(index=depths, columns=['Test Score'])\n",
        "for depth in depths:    \n",
        "   rf = RandomForestClassifier(max_depth=depth)\n",
        "   rf_pipe = make_pipeline(preprocessor, pca, rf)\n",
        "   rf_pca_pipe.fit(X_train, y_train)\n",
        "   score.loc[depth, 'Train Score'] = rf_pca_pipe.score(X_train, y_train)\n",
        "   score.loc[depth, 'Test Score'] = rf_pca_pipe.score(X_test, y_test)\n",
        "   score.head()\n",
        "\n",
        "sorted_score = score.sort_values(by='Test Score', ascending=False)\n",
        "sorted_score.head()"
      ],
      "metadata": {
        "colab": {
          "base_uri": "https://localhost:8080/",
          "height": 206
        },
        "id": "FM-QOAmnnX_b",
        "outputId": "4b865050-e18a-4f42-d976-e111af570ae8"
      },
      "execution_count": null,
      "outputs": [
        {
          "output_type": "execute_result",
          "data": {
            "text/plain": [
              "   Test Score  Train Score\n",
              "29      0.801     1.000000\n",
              "16      0.801     1.000000\n",
              "12      0.801     1.000000\n",
              "22     0.8002     0.999933\n",
              "1      0.7998     1.000000"
            ],
            "text/html": [
              "\n",
              "  <div id=\"df-bba12c1a-f768-4fb7-9a65-b8f34ce7bfdd\">\n",
              "    <div class=\"colab-df-container\">\n",
              "      <div>\n",
              "<style scoped>\n",
              "    .dataframe tbody tr th:only-of-type {\n",
              "        vertical-align: middle;\n",
              "    }\n",
              "\n",
              "    .dataframe tbody tr th {\n",
              "        vertical-align: top;\n",
              "    }\n",
              "\n",
              "    .dataframe thead th {\n",
              "        text-align: right;\n",
              "    }\n",
              "</style>\n",
              "<table border=\"1\" class=\"dataframe\">\n",
              "  <thead>\n",
              "    <tr style=\"text-align: right;\">\n",
              "      <th></th>\n",
              "      <th>Test Score</th>\n",
              "      <th>Train Score</th>\n",
              "    </tr>\n",
              "  </thead>\n",
              "  <tbody>\n",
              "    <tr>\n",
              "      <th>29</th>\n",
              "      <td>0.801</td>\n",
              "      <td>1.000000</td>\n",
              "    </tr>\n",
              "    <tr>\n",
              "      <th>16</th>\n",
              "      <td>0.801</td>\n",
              "      <td>1.000000</td>\n",
              "    </tr>\n",
              "    <tr>\n",
              "      <th>12</th>\n",
              "      <td>0.801</td>\n",
              "      <td>1.000000</td>\n",
              "    </tr>\n",
              "    <tr>\n",
              "      <th>22</th>\n",
              "      <td>0.8002</td>\n",
              "      <td>0.999933</td>\n",
              "    </tr>\n",
              "    <tr>\n",
              "      <th>1</th>\n",
              "      <td>0.7998</td>\n",
              "      <td>1.000000</td>\n",
              "    </tr>\n",
              "  </tbody>\n",
              "</table>\n",
              "</div>\n",
              "      <button class=\"colab-df-convert\" onclick=\"convertToInteractive('df-bba12c1a-f768-4fb7-9a65-b8f34ce7bfdd')\"\n",
              "              title=\"Convert this dataframe to an interactive table.\"\n",
              "              style=\"display:none;\">\n",
              "        \n",
              "  <svg xmlns=\"http://www.w3.org/2000/svg\" height=\"24px\"viewBox=\"0 0 24 24\"\n",
              "       width=\"24px\">\n",
              "    <path d=\"M0 0h24v24H0V0z\" fill=\"none\"/>\n",
              "    <path d=\"M18.56 5.44l.94 2.06.94-2.06 2.06-.94-2.06-.94-.94-2.06-.94 2.06-2.06.94zm-11 1L8.5 8.5l.94-2.06 2.06-.94-2.06-.94L8.5 2.5l-.94 2.06-2.06.94zm10 10l.94 2.06.94-2.06 2.06-.94-2.06-.94-.94-2.06-.94 2.06-2.06.94z\"/><path d=\"M17.41 7.96l-1.37-1.37c-.4-.4-.92-.59-1.43-.59-.52 0-1.04.2-1.43.59L10.3 9.45l-7.72 7.72c-.78.78-.78 2.05 0 2.83L4 21.41c.39.39.9.59 1.41.59.51 0 1.02-.2 1.41-.59l7.78-7.78 2.81-2.81c.8-.78.8-2.07 0-2.86zM5.41 20L4 18.59l7.72-7.72 1.47 1.35L5.41 20z\"/>\n",
              "  </svg>\n",
              "      </button>\n",
              "      \n",
              "  <style>\n",
              "    .colab-df-container {\n",
              "      display:flex;\n",
              "      flex-wrap:wrap;\n",
              "      gap: 12px;\n",
              "    }\n",
              "\n",
              "    .colab-df-convert {\n",
              "      background-color: #E8F0FE;\n",
              "      border: none;\n",
              "      border-radius: 50%;\n",
              "      cursor: pointer;\n",
              "      display: none;\n",
              "      fill: #1967D2;\n",
              "      height: 32px;\n",
              "      padding: 0 0 0 0;\n",
              "      width: 32px;\n",
              "    }\n",
              "\n",
              "    .colab-df-convert:hover {\n",
              "      background-color: #E2EBFA;\n",
              "      box-shadow: 0px 1px 2px rgba(60, 64, 67, 0.3), 0px 1px 3px 1px rgba(60, 64, 67, 0.15);\n",
              "      fill: #174EA6;\n",
              "    }\n",
              "\n",
              "    [theme=dark] .colab-df-convert {\n",
              "      background-color: #3B4455;\n",
              "      fill: #D2E3FC;\n",
              "    }\n",
              "\n",
              "    [theme=dark] .colab-df-convert:hover {\n",
              "      background-color: #434B5C;\n",
              "      box-shadow: 0px 1px 3px 1px rgba(0, 0, 0, 0.15);\n",
              "      filter: drop-shadow(0px 1px 2px rgba(0, 0, 0, 0.3));\n",
              "      fill: #FFFFFF;\n",
              "    }\n",
              "  </style>\n",
              "\n",
              "      <script>\n",
              "        const buttonEl =\n",
              "          document.querySelector('#df-bba12c1a-f768-4fb7-9a65-b8f34ce7bfdd button.colab-df-convert');\n",
              "        buttonEl.style.display =\n",
              "          google.colab.kernel.accessAllowed ? 'block' : 'none';\n",
              "\n",
              "        async function convertToInteractive(key) {\n",
              "          const element = document.querySelector('#df-bba12c1a-f768-4fb7-9a65-b8f34ce7bfdd');\n",
              "          const dataTable =\n",
              "            await google.colab.kernel.invokeFunction('convertToInteractive',\n",
              "                                                     [key], {});\n",
              "          if (!dataTable) return;\n",
              "\n",
              "          const docLinkHtml = 'Like what you see? Visit the ' +\n",
              "            '<a target=\"_blank\" href=https://colab.research.google.com/notebooks/data_table.ipynb>data table notebook</a>'\n",
              "            + ' to learn more about interactive tables.';\n",
              "          element.innerHTML = '';\n",
              "          dataTable['output_type'] = 'display_data';\n",
              "          await google.colab.output.renderOutput(dataTable, element);\n",
              "          const docLink = document.createElement('div');\n",
              "          docLink.innerHTML = docLinkHtml;\n",
              "          element.appendChild(docLink);\n",
              "        }\n",
              "      </script>\n",
              "    </div>\n",
              "  </div>\n",
              "  "
            ]
          },
          "metadata": {},
          "execution_count": 68
        }
      ]
    },
    {
      "cell_type": "code",
      "source": [
        "rf_29 = RandomForestClassifier(max_depth=29, random_state=42)\n",
        "rf_pca_29_pipe = make_pipeline(preprocessor, scaler, pca, rf)\n",
        "rf_pca_29_pipe.fit(X_train, y_train)"
      ],
      "metadata": {
        "colab": {
          "base_uri": "https://localhost:8080/",
          "height": 296
        },
        "id": "MM9qJrn5nf7U",
        "outputId": "b0dc5a8f-caca-48d0-91f6-5a4706abccd2"
      },
      "execution_count": null,
      "outputs": [
        {
          "output_type": "execute_result",
          "data": {
            "text/plain": [
              "Pipeline(steps=[('columntransformer',\n",
              "                 ColumnTransformer(remainder='passthrough',\n",
              "                                   transformers=[('pipeline-1',\n",
              "                                                  Pipeline(steps=[('simpleimputer',\n",
              "                                                                   SimpleImputer(strategy='most_frequent')),\n",
              "                                                                  ('onehotencoder',\n",
              "                                                                   OneHotEncoder(handle_unknown='ignore',\n",
              "                                                                                 sparse=False))]),\n",
              "                                                  <sklearn.compose._column_transformer.make_column_selector object at 0x7ff8ab5212d0>),\n",
              "                                                 ('pipeline-2',\n",
              "                                                  Pipeline(steps=[('simpleimputer',\n",
              "                                                                   SimpleImputer()),\n",
              "                                                                  ('standardscaler',\n",
              "                                                                   StandardScaler())]),\n",
              "                                                  <sklearn.compose._column_transformer.make_column_selector object at 0x7ff8ab521ed0>)])),\n",
              "                ('standardscaler', StandardScaler()),\n",
              "                ('pca', PCA(n_components=0.95)),\n",
              "                ('randomforestclassifier',\n",
              "                 RandomForestClassifier(max_depth=47))])"
            ],
            "text/html": [
              "<style>#sk-45077088-20b2-425f-9927-e572b975dea4 {color: black;background-color: white;}#sk-45077088-20b2-425f-9927-e572b975dea4 pre{padding: 0;}#sk-45077088-20b2-425f-9927-e572b975dea4 div.sk-toggleable {background-color: white;}#sk-45077088-20b2-425f-9927-e572b975dea4 label.sk-toggleable__label {cursor: pointer;display: block;width: 100%;margin-bottom: 0;padding: 0.3em;box-sizing: border-box;text-align: center;}#sk-45077088-20b2-425f-9927-e572b975dea4 label.sk-toggleable__label-arrow:before {content: \"▸\";float: left;margin-right: 0.25em;color: #696969;}#sk-45077088-20b2-425f-9927-e572b975dea4 label.sk-toggleable__label-arrow:hover:before {color: black;}#sk-45077088-20b2-425f-9927-e572b975dea4 div.sk-estimator:hover label.sk-toggleable__label-arrow:before {color: black;}#sk-45077088-20b2-425f-9927-e572b975dea4 div.sk-toggleable__content {max-height: 0;max-width: 0;overflow: hidden;text-align: left;background-color: #f0f8ff;}#sk-45077088-20b2-425f-9927-e572b975dea4 div.sk-toggleable__content pre {margin: 0.2em;color: black;border-radius: 0.25em;background-color: #f0f8ff;}#sk-45077088-20b2-425f-9927-e572b975dea4 input.sk-toggleable__control:checked~div.sk-toggleable__content {max-height: 200px;max-width: 100%;overflow: auto;}#sk-45077088-20b2-425f-9927-e572b975dea4 input.sk-toggleable__control:checked~label.sk-toggleable__label-arrow:before {content: \"▾\";}#sk-45077088-20b2-425f-9927-e572b975dea4 div.sk-estimator input.sk-toggleable__control:checked~label.sk-toggleable__label {background-color: #d4ebff;}#sk-45077088-20b2-425f-9927-e572b975dea4 div.sk-label input.sk-toggleable__control:checked~label.sk-toggleable__label {background-color: #d4ebff;}#sk-45077088-20b2-425f-9927-e572b975dea4 input.sk-hidden--visually {border: 0;clip: rect(1px 1px 1px 1px);clip: rect(1px, 1px, 1px, 1px);height: 1px;margin: -1px;overflow: hidden;padding: 0;position: absolute;width: 1px;}#sk-45077088-20b2-425f-9927-e572b975dea4 div.sk-estimator {font-family: monospace;background-color: #f0f8ff;border: 1px dotted black;border-radius: 0.25em;box-sizing: border-box;margin-bottom: 0.5em;}#sk-45077088-20b2-425f-9927-e572b975dea4 div.sk-estimator:hover {background-color: #d4ebff;}#sk-45077088-20b2-425f-9927-e572b975dea4 div.sk-parallel-item::after {content: \"\";width: 100%;border-bottom: 1px solid gray;flex-grow: 1;}#sk-45077088-20b2-425f-9927-e572b975dea4 div.sk-label:hover label.sk-toggleable__label {background-color: #d4ebff;}#sk-45077088-20b2-425f-9927-e572b975dea4 div.sk-serial::before {content: \"\";position: absolute;border-left: 1px solid gray;box-sizing: border-box;top: 2em;bottom: 0;left: 50%;}#sk-45077088-20b2-425f-9927-e572b975dea4 div.sk-serial {display: flex;flex-direction: column;align-items: center;background-color: white;padding-right: 0.2em;padding-left: 0.2em;}#sk-45077088-20b2-425f-9927-e572b975dea4 div.sk-item {z-index: 1;}#sk-45077088-20b2-425f-9927-e572b975dea4 div.sk-parallel {display: flex;align-items: stretch;justify-content: center;background-color: white;}#sk-45077088-20b2-425f-9927-e572b975dea4 div.sk-parallel::before {content: \"\";position: absolute;border-left: 1px solid gray;box-sizing: border-box;top: 2em;bottom: 0;left: 50%;}#sk-45077088-20b2-425f-9927-e572b975dea4 div.sk-parallel-item {display: flex;flex-direction: column;position: relative;background-color: white;}#sk-45077088-20b2-425f-9927-e572b975dea4 div.sk-parallel-item:first-child::after {align-self: flex-end;width: 50%;}#sk-45077088-20b2-425f-9927-e572b975dea4 div.sk-parallel-item:last-child::after {align-self: flex-start;width: 50%;}#sk-45077088-20b2-425f-9927-e572b975dea4 div.sk-parallel-item:only-child::after {width: 0;}#sk-45077088-20b2-425f-9927-e572b975dea4 div.sk-dashed-wrapped {border: 1px dashed gray;margin: 0 0.4em 0.5em 0.4em;box-sizing: border-box;padding-bottom: 0.4em;background-color: white;position: relative;}#sk-45077088-20b2-425f-9927-e572b975dea4 div.sk-label label {font-family: monospace;font-weight: bold;background-color: white;display: inline-block;line-height: 1.2em;}#sk-45077088-20b2-425f-9927-e572b975dea4 div.sk-label-container {position: relative;z-index: 2;text-align: center;}#sk-45077088-20b2-425f-9927-e572b975dea4 div.sk-container {/* jupyter's `normalize.less` sets `[hidden] { display: none; }` but bootstrap.min.css set `[hidden] { display: none !important; }` so we also need the `!important` here to be able to override the default hidden behavior on the sphinx rendered scikit-learn.org. See: https://github.com/scikit-learn/scikit-learn/issues/21755 */display: inline-block !important;position: relative;}#sk-45077088-20b2-425f-9927-e572b975dea4 div.sk-text-repr-fallback {display: none;}</style><div id=\"sk-45077088-20b2-425f-9927-e572b975dea4\" class=\"sk-top-container\"><div class=\"sk-text-repr-fallback\"><pre>Pipeline(steps=[(&#x27;columntransformer&#x27;,\n",
              "                 ColumnTransformer(remainder=&#x27;passthrough&#x27;,\n",
              "                                   transformers=[(&#x27;pipeline-1&#x27;,\n",
              "                                                  Pipeline(steps=[(&#x27;simpleimputer&#x27;,\n",
              "                                                                   SimpleImputer(strategy=&#x27;most_frequent&#x27;)),\n",
              "                                                                  (&#x27;onehotencoder&#x27;,\n",
              "                                                                   OneHotEncoder(handle_unknown=&#x27;ignore&#x27;,\n",
              "                                                                                 sparse=False))]),\n",
              "                                                  &lt;sklearn.compose._column_transformer.make_column_selector object at 0x7ff8ab5212d0&gt;),\n",
              "                                                 (&#x27;pipeline-2&#x27;,\n",
              "                                                  Pipeline(steps=[(&#x27;simpleimputer&#x27;,\n",
              "                                                                   SimpleImputer()),\n",
              "                                                                  (&#x27;standardscaler&#x27;,\n",
              "                                                                   StandardScaler())]),\n",
              "                                                  &lt;sklearn.compose._column_transformer.make_column_selector object at 0x7ff8ab521ed0&gt;)])),\n",
              "                (&#x27;standardscaler&#x27;, StandardScaler()),\n",
              "                (&#x27;pca&#x27;, PCA(n_components=0.95)),\n",
              "                (&#x27;randomforestclassifier&#x27;,\n",
              "                 RandomForestClassifier(max_depth=47))])</pre><b>Please rerun this cell to show the HTML repr or trust the notebook.</b></div><div class=\"sk-container\" hidden><div class=\"sk-item sk-dashed-wrapped\"><div class=\"sk-label-container\"><div class=\"sk-label sk-toggleable\"><input class=\"sk-toggleable__control sk-hidden--visually\" id=\"584ef48b-cf6e-4894-afe8-b6e23c2fa23f\" type=\"checkbox\" ><label for=\"584ef48b-cf6e-4894-afe8-b6e23c2fa23f\" class=\"sk-toggleable__label sk-toggleable__label-arrow\">Pipeline</label><div class=\"sk-toggleable__content\"><pre>Pipeline(steps=[(&#x27;columntransformer&#x27;,\n",
              "                 ColumnTransformer(remainder=&#x27;passthrough&#x27;,\n",
              "                                   transformers=[(&#x27;pipeline-1&#x27;,\n",
              "                                                  Pipeline(steps=[(&#x27;simpleimputer&#x27;,\n",
              "                                                                   SimpleImputer(strategy=&#x27;most_frequent&#x27;)),\n",
              "                                                                  (&#x27;onehotencoder&#x27;,\n",
              "                                                                   OneHotEncoder(handle_unknown=&#x27;ignore&#x27;,\n",
              "                                                                                 sparse=False))]),\n",
              "                                                  &lt;sklearn.compose._column_transformer.make_column_selector object at 0x7ff8ab5212d0&gt;),\n",
              "                                                 (&#x27;pipeline-2&#x27;,\n",
              "                                                  Pipeline(steps=[(&#x27;simpleimputer&#x27;,\n",
              "                                                                   SimpleImputer()),\n",
              "                                                                  (&#x27;standardscaler&#x27;,\n",
              "                                                                   StandardScaler())]),\n",
              "                                                  &lt;sklearn.compose._column_transformer.make_column_selector object at 0x7ff8ab521ed0&gt;)])),\n",
              "                (&#x27;standardscaler&#x27;, StandardScaler()),\n",
              "                (&#x27;pca&#x27;, PCA(n_components=0.95)),\n",
              "                (&#x27;randomforestclassifier&#x27;,\n",
              "                 RandomForestClassifier(max_depth=47))])</pre></div></div></div><div class=\"sk-serial\"><div class=\"sk-item sk-dashed-wrapped\"><div class=\"sk-label-container\"><div class=\"sk-label sk-toggleable\"><input class=\"sk-toggleable__control sk-hidden--visually\" id=\"4d090e7e-c234-49bb-8c92-4adbff9e36ba\" type=\"checkbox\" ><label for=\"4d090e7e-c234-49bb-8c92-4adbff9e36ba\" class=\"sk-toggleable__label sk-toggleable__label-arrow\">columntransformer: ColumnTransformer</label><div class=\"sk-toggleable__content\"><pre>ColumnTransformer(remainder=&#x27;passthrough&#x27;,\n",
              "                  transformers=[(&#x27;pipeline-1&#x27;,\n",
              "                                 Pipeline(steps=[(&#x27;simpleimputer&#x27;,\n",
              "                                                  SimpleImputer(strategy=&#x27;most_frequent&#x27;)),\n",
              "                                                 (&#x27;onehotencoder&#x27;,\n",
              "                                                  OneHotEncoder(handle_unknown=&#x27;ignore&#x27;,\n",
              "                                                                sparse=False))]),\n",
              "                                 &lt;sklearn.compose._column_transformer.make_column_selector object at 0x7ff8ab5212d0&gt;),\n",
              "                                (&#x27;pipeline-2&#x27;,\n",
              "                                 Pipeline(steps=[(&#x27;simpleimputer&#x27;,\n",
              "                                                  SimpleImputer()),\n",
              "                                                 (&#x27;standardscaler&#x27;,\n",
              "                                                  StandardScaler())]),\n",
              "                                 &lt;sklearn.compose._column_transformer.make_column_selector object at 0x7ff8ab521ed0&gt;)])</pre></div></div></div><div class=\"sk-parallel\"><div class=\"sk-parallel-item\"><div class=\"sk-item\"><div class=\"sk-label-container\"><div class=\"sk-label sk-toggleable\"><input class=\"sk-toggleable__control sk-hidden--visually\" id=\"d332ce24-92c8-4394-a9c6-d0ae2ad5b3cf\" type=\"checkbox\" ><label for=\"d332ce24-92c8-4394-a9c6-d0ae2ad5b3cf\" class=\"sk-toggleable__label sk-toggleable__label-arrow\">pipeline-1</label><div class=\"sk-toggleable__content\"><pre>&lt;sklearn.compose._column_transformer.make_column_selector object at 0x7ff8ab5212d0&gt;</pre></div></div></div><div class=\"sk-serial\"><div class=\"sk-item\"><div class=\"sk-serial\"><div class=\"sk-item\"><div class=\"sk-estimator sk-toggleable\"><input class=\"sk-toggleable__control sk-hidden--visually\" id=\"7f7b6ecd-1cd1-4042-9c01-8ff10aa19592\" type=\"checkbox\" ><label for=\"7f7b6ecd-1cd1-4042-9c01-8ff10aa19592\" class=\"sk-toggleable__label sk-toggleable__label-arrow\">SimpleImputer</label><div class=\"sk-toggleable__content\"><pre>SimpleImputer(strategy=&#x27;most_frequent&#x27;)</pre></div></div></div><div class=\"sk-item\"><div class=\"sk-estimator sk-toggleable\"><input class=\"sk-toggleable__control sk-hidden--visually\" id=\"908c7e26-b277-4813-ace0-9dcfe351d7d1\" type=\"checkbox\" ><label for=\"908c7e26-b277-4813-ace0-9dcfe351d7d1\" class=\"sk-toggleable__label sk-toggleable__label-arrow\">OneHotEncoder</label><div class=\"sk-toggleable__content\"><pre>OneHotEncoder(handle_unknown=&#x27;ignore&#x27;, sparse=False)</pre></div></div></div></div></div></div></div></div><div class=\"sk-parallel-item\"><div class=\"sk-item\"><div class=\"sk-label-container\"><div class=\"sk-label sk-toggleable\"><input class=\"sk-toggleable__control sk-hidden--visually\" id=\"a119d28c-20dd-4071-8601-8330bbedeffd\" type=\"checkbox\" ><label for=\"a119d28c-20dd-4071-8601-8330bbedeffd\" class=\"sk-toggleable__label sk-toggleable__label-arrow\">pipeline-2</label><div class=\"sk-toggleable__content\"><pre>&lt;sklearn.compose._column_transformer.make_column_selector object at 0x7ff8ab521ed0&gt;</pre></div></div></div><div class=\"sk-serial\"><div class=\"sk-item\"><div class=\"sk-serial\"><div class=\"sk-item\"><div class=\"sk-estimator sk-toggleable\"><input class=\"sk-toggleable__control sk-hidden--visually\" id=\"17b1bba7-efe8-4ad4-a95d-0b67dd8f07c7\" type=\"checkbox\" ><label for=\"17b1bba7-efe8-4ad4-a95d-0b67dd8f07c7\" class=\"sk-toggleable__label sk-toggleable__label-arrow\">SimpleImputer</label><div class=\"sk-toggleable__content\"><pre>SimpleImputer()</pre></div></div></div><div class=\"sk-item\"><div class=\"sk-estimator sk-toggleable\"><input class=\"sk-toggleable__control sk-hidden--visually\" id=\"ce315ec1-f677-4907-a91b-67eeb459dba6\" type=\"checkbox\" ><label for=\"ce315ec1-f677-4907-a91b-67eeb459dba6\" class=\"sk-toggleable__label sk-toggleable__label-arrow\">StandardScaler</label><div class=\"sk-toggleable__content\"><pre>StandardScaler()</pre></div></div></div></div></div></div></div></div><div class=\"sk-parallel-item\"><div class=\"sk-item\"><div class=\"sk-label-container\"><div class=\"sk-label sk-toggleable\"><input class=\"sk-toggleable__control sk-hidden--visually\" id=\"ddb175fe-f611-4504-a602-1cb05fa7a76b\" type=\"checkbox\" ><label for=\"ddb175fe-f611-4504-a602-1cb05fa7a76b\" class=\"sk-toggleable__label sk-toggleable__label-arrow\">remainder</label><div class=\"sk-toggleable__content\"><pre>[]</pre></div></div></div><div class=\"sk-serial\"><div class=\"sk-item\"><div class=\"sk-estimator sk-toggleable\"><input class=\"sk-toggleable__control sk-hidden--visually\" id=\"fafef65e-6fd7-4154-8f67-fdaa2da6dd14\" type=\"checkbox\" ><label for=\"fafef65e-6fd7-4154-8f67-fdaa2da6dd14\" class=\"sk-toggleable__label sk-toggleable__label-arrow\">passthrough</label><div class=\"sk-toggleable__content\"><pre>passthrough</pre></div></div></div></div></div></div></div></div><div class=\"sk-item\"><div class=\"sk-estimator sk-toggleable\"><input class=\"sk-toggleable__control sk-hidden--visually\" id=\"65e64035-46c9-4795-bbad-fa6baceb7788\" type=\"checkbox\" ><label for=\"65e64035-46c9-4795-bbad-fa6baceb7788\" class=\"sk-toggleable__label sk-toggleable__label-arrow\">StandardScaler</label><div class=\"sk-toggleable__content\"><pre>StandardScaler()</pre></div></div></div><div class=\"sk-item\"><div class=\"sk-estimator sk-toggleable\"><input class=\"sk-toggleable__control sk-hidden--visually\" id=\"f8809670-de94-4991-96fa-8b066bf793a3\" type=\"checkbox\" ><label for=\"f8809670-de94-4991-96fa-8b066bf793a3\" class=\"sk-toggleable__label sk-toggleable__label-arrow\">PCA</label><div class=\"sk-toggleable__content\"><pre>PCA(n_components=0.95)</pre></div></div></div><div class=\"sk-item\"><div class=\"sk-estimator sk-toggleable\"><input class=\"sk-toggleable__control sk-hidden--visually\" id=\"079670b9-fd33-488b-8fa9-fbbf234166ba\" type=\"checkbox\" ><label for=\"079670b9-fd33-488b-8fa9-fbbf234166ba\" class=\"sk-toggleable__label sk-toggleable__label-arrow\">RandomForestClassifier</label><div class=\"sk-toggleable__content\"><pre>RandomForestClassifier(max_depth=47)</pre></div></div></div></div></div></div></div>"
            ]
          },
          "metadata": {},
          "execution_count": 69
        }
      ]
    },
    {
      "cell_type": "code",
      "source": [
        "rf_pca_29_pred = rf_pca_29_pipe.predict(X_test)\n",
        "rf_pca_29_pred"
      ],
      "metadata": {
        "colab": {
          "base_uri": "https://localhost:8080/"
        },
        "id": "FsKS5_Xqnip-",
        "outputId": "4f196e9c-beef-481a-d2c5-69682c9480ae"
      },
      "execution_count": null,
      "outputs": [
        {
          "output_type": "execute_result",
          "data": {
            "text/plain": [
              "array([0, 0, 0, ..., 0, 0, 0])"
            ]
          },
          "metadata": {},
          "execution_count": 70
        }
      ]
    },
    {
      "cell_type": "code",
      "source": [
        "rf_pca_29_train_score = rf_pca_29_pipe.score(X_train, y_train)\n",
        "rf_pca_29_test_score = rf_pca_29_pipe.score(X_test, y_test)\n",
        "print(rf_pca_29_train_score)\n",
        "print(rf_pca_29_test_score)"
      ],
      "metadata": {
        "colab": {
          "base_uri": "https://localhost:8080/"
        },
        "id": "8KAavdhGnmQM",
        "outputId": "507110ee-5734-4830-882d-6eb0cc110287"
      },
      "execution_count": null,
      "outputs": [
        {
          "output_type": "stream",
          "name": "stdout",
          "text": [
            "1.0\n",
            "0.7988\n"
          ]
        }
      ]
    },
    {
      "cell_type": "markdown",
      "source": [
        "From the Confusion Matrix below, we can see our true positives equate to 97% but our true negatives were 12%. The model predicted 88% of the data to have their loans paid when the loan was not paid. This can create an issue if the model were produced because Lending Tree does not want to report their borrowers have paid off their loan when they haven't. When comparing the models, this model would be the better choice."
      ],
      "metadata": {
        "id": "1LqaUXRAOkg1"
      }
    },
    {
      "cell_type": "code",
      "source": [
        "labels=['Paid', 'Not Paid']\n",
        "ConfusionMatrixDisplay.from_predictions(y_test, rf_pca_29_pred, \n",
        "                                        display_labels = labels, \n",
        "                                        cmap='Purples', normalize='true');"
      ],
      "metadata": {
        "colab": {
          "base_uri": "https://localhost:8080/",
          "height": 883
        },
        "id": "RPMWY2A9noYl",
        "outputId": "2c01cdfc-503d-4453-867f-ab265ed467d9"
      },
      "execution_count": null,
      "outputs": [
        {
          "output_type": "display_data",
          "data": {
            "text/plain": [
              "<Figure size 1440x1080 with 2 Axes>"
            ],
            "image/png": "[encoded data removed]"
          },
          "metadata": {}
        }
      ]
    },
    {
      "cell_type": "markdown",
      "source": [
        "From the Logistic Regression, KNN, and Random Forest models, the best machine learning model would be the Random Forest model with PCA because it maximized the predictive capability of the risk of future loan defaults. Though the false positives were high, the Random Forest model provided the highest number of true negatives, which minimizes false reports for Lending Tree. This way, Lending Tree can have a better probability to predict if borrowers will not pay and prevent the risk as much as possible."
      ],
      "metadata": {
        "id": "TySqgDWBO6GK"
      }
    }
  ]
}